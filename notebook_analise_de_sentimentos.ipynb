{
 "cells": [
  {
   "cell_type": "markdown",
   "id": "6181d797",
   "metadata": {},
   "source": [
    "# Análise de sentimento "
   ]
  },
  {
   "cell_type": "markdown",
   "id": "ca233c8b",
   "metadata": {},
   "source": [
    "## Objetivo:\n",
    "\n",
    "Elaborar um serviço que seja capaz de detectar se uma determinada frase inserida corresponde a um destes sentimentos (felicidade, tristeza e raiva)\n",
    "\n",
    "Exemplo:\n",
    "\n",
    "`Não quero saber de nada, eu te odeio!` —> `raiva`\n",
    "\n",
    "`Sinto sua falta` —> `tristeza`"
   ]
  },
  {
   "cell_type": "markdown",
   "id": "80abc730",
   "metadata": {},
   "source": [
    "## Bibliotecas"
   ]
  },
  {
   "cell_type": "code",
   "execution_count": 1,
   "id": "fd3651f0",
   "metadata": {},
   "outputs": [],
   "source": [
    "#nltk.download('stopwords', quiet=True)\n"
   ]
  },
  {
   "cell_type": "code",
   "execution_count": 2,
   "id": "16834556",
   "metadata": {},
   "outputs": [],
   "source": [
    "# manipulação de dados\n",
    "import pandas as pd\n",
    "\n",
    "# manipulação de texto\n",
    "import nltk\n",
    "from nltk.corpus import stopwords\n",
    "from nltk.tokenize import word_tokenize\n",
    "from sklearn.feature_extraction.text import CountVectorizer\n",
    "\n",
    "# modelo\n",
    "from sklearn.model_selection import train_test_split\n",
    "from sklearn.ensemble import GradientBoostingClassifier\n",
    "from sklearn.metrics import accuracy_score\n",
    "\n",
    "import joblib\n"
   ]
  },
  {
   "cell_type": "markdown",
   "id": "bd60bd15",
   "metadata": {},
   "source": [
    "## Base de dados:\n",
    "\n",
    "Não encontrei uma base de dados classificando exatamente o sentimento dos textos, apenas classificando-os em **Positivos, Negativos ou Neutros**. Encontrei apenas uma base e ela estava em inglês, acho que fugiria um pouco do tema proposto.\n",
    "\n",
    "Por isto pedi ajuda ao ChatGPT para contruição da base para treinar o modelo.\n",
    "A base consiste em apenas duas colunas: \n",
    "\n",
    "**Frase:** Frase aleatória gerada pelo ChatGPT;\n",
    "\n",
    "**Sentimento**: Classificação se a Frase é de Felicidade, Tristeza ou Raiva."
   ]
  },
  {
   "cell_type": "code",
   "execution_count": 3,
   "id": "5ab7d02f",
   "metadata": {},
   "outputs": [],
   "source": [
    "frases_sentimentos = {\n",
    "    \"Estou muito feliz com este resultado!\": \"Felicidade\", \"Isso me deixa com muita raiva.\": \"Raiva\",\n",
    "    \"Sinto-me triste com essa situação.\": \"Tristeza\", \"Estou tão animado para este evento!\": \"Felicidade\",\n",
    "    \"Essa história me deixa arrepiado.\": \"Tristeza\", \"Fiquei tão furioso quando ouvi isso.\": \"Raiva\",\n",
    "    \"Estou deprimido com as notícias de hoje.\": \"Tristeza\", \"Estou radiante com essa notícia!\": \"Felicidade\",\n",
    "    \"Essa injustiça me deixa furioso.\": \"Raiva\", \"Meu coração está doendo de tristeza.\": \"Tristeza\",\n",
    "    \"Estou chocado com essa revelação!\": \"Raiva\", \"Estou transbordando de felicidade!\": \"Felicidade\",\n",
    "    \"Estou me sentindo tão miserável.\": \"Tristeza\",  \"Estou radiante com essa vitória!\": \"Felicidade\",\n",
    "    \"Essa situação me deixa com tanto medo.\": \"Tristeza\", \"Essa injustiça me faz ferver de raiva.\": \"Raiva\",\n",
    "    \"Me sinto completamente desamparado.\": \"Tristeza\", \"Estou eufórico com esta notícia!\": \"Felicidade\",\n",
    "    \"Estou com muito medo do que pode acontecer depois.\": \"Tristeza\", \"Isso me faz perder o controle de tanta raiva.\": \"Raiva\",\n",
    "    \"Estou de coração partido com essa notícia.\": \"Tristeza\", \"Estou transbordando de felicidade e emoção!\": \"Felicidade\",\n",
    "    \"Essa situação me enfurece tanto.\": \"Raiva\", \"Estou devastado com essa tragédia.\": \"Tristeza\",\n",
    "    \"Estou radiante com esta conquista!\": \"Felicidade\", \"Estou extasiado com essa descoberta!\": \"Felicidade\",\n",
    "    \"Isso me deixa com uma alegria imensa.\": \"Felicidade\", \"Essa notícia me trouxe um sorriso enorme!\": \"Felicidade\",\n",
    "    \"Fico tão feliz quando estou com meus amigos.\": \"Felicidade\", \"Estou radiante com o sucesso do projeto!\": \"Felicidade\",\n",
    "    \"Estou tão triste por não poder ir ao evento.\": \"Tristeza\", \"Meu coração dói de saudade dos velhos tempos.\": \"Tristeza\",\n",
    "    \"Não aguento mais essa sensação de vazio.\": \"Tristeza\", \"Sinto um aperto no peito ao lembrar da perda.\": \"Tristeza\",\n",
    "    \"Estou devastado com essa notícia terrível.\": \"Tristeza\", \"Estou furioso com a incompetência dessa empresa.\": \"Raiva\",\n",
    "    \"Essa atitude me deixa tão irritado!\": \"Raiva\", \"Não consigo suportar a falta de respeito.\": \"Raiva\",\n",
    "    \"Estou com tanta raiva que mal consigo falar.\": \"Raiva\",\"Essa injustiça me faz querer gritar de raiva.\": \"Raiva\",\n",
    "    \"Estou transbordando de alegria com essa novidade!\": \"Felicidade\", \"Estou completamente apaixonado por esse filme!\": \"Felicidade\",\n",
    "    \"Estou radiante com a chegada das férias!\": \"Felicidade\",\"Que alegria poder passar tempo com a família!\": \"Felicidade\",\n",
    "    \"Estou tão feliz que mal posso conter o sorriso.\": \"Felicidade\",\"Estou triste por não poder estar presente na festa.\": \"Tristeza\",\n",
    "    \"Essa lembrança traz lágrimas aos meus olhos.\": \"Tristeza\",\"A solidão está me consumindo aos poucos.\": \"Tristeza\",\n",
    "    \"Sinto um vazio imenso dentro de mim.\": \"Tristeza\",\"Estou deprimido com a situação atual.\": \"Tristeza\",\n",
    "    \"Estou revoltado com a falta de ética dessa empresa.\": \"Raiva\", \"Essa atitude é completamente inaceitável!\": \"Raiva\",\n",
    "    \"Estou com raiva até o último fio de cabelo.\": \"Raiva\", \"Essa incompetência me deixa enfurecido!\": \"Raiva\",\n",
    "    \"Estou tão zangado que mal consigo raciocinar direito.\": \"Raiva\", \"Estou radiante com a notícia do novo emprego!\": \"Felicidade\",\n",
    "    \"Estou tão feliz que sinto borboletas no estômago!\": \"Felicidade\", \"Essa conquista é motivo de grande alegria!\": \"Felicidade\",\n",
    "    \"Estou nas nuvens com o resultado do exame!\": \"Felicidade\", \"Que alegria poder realizar esse sonho!\": \"Felicidade\",\n",
    "    \"Estou triste por não poder participar da celebração.\": \"Tristeza\", \"Essa perda é um golpe duro demais.\": \"Tristeza\",\n",
    "    \"Sinto um peso no coração ao lembrar do passado.\": \"Tristeza\", \"A saudade é uma dor que não passa.\": \"Tristeza\",\n",
    "    \"Estou tão triste que mal consigo me concentrar.\": \"Tristeza\", \"Estou revoltado com a corrupção neste país.\": \"Raiva\",\n",
    "    \"Essa injustiça é um absurdo completo!\": \"Raiva\", \"Estou com uma raiva que não cabe em mim!\": \"Raiva\",\n",
    "    \"Essa incompetência me deixa fora de mim!\": \"Raiva\", \"Estou tão enfurecido que mal consigo falar!\": \"Raiva\",\n",
    "    \"Estou radiante com a notícia do casamento!\": \"Felicidade\", \"Estou tão feliz que mal consigo conter as lágrimas!\": \"Felicidade\",\n",
    "    \"Que alegria poder compartilhar esse momento com vocês!\": \"Felicidade\", \"Estou tão feliz que sinto que vou explodir de alegria!\": \"Felicidade\",\n",
    "    \"Que felicidade poder ver meu filho crescer!\": \"Felicidade\",\n",
    "    \"Estou muito feliz com esta nova conquista!\": \"Felicidade\", \"Isso me deixa com uma alegria indescritível.\": \"Felicidade\", \"Essa notícia me trouxe um sorriso de orelha a orelha!\": \"Felicidade\", \"Fico tão feliz quando vejo o sucesso dos meus amigos.\": \"Felicidade\", \"Estou radiante com o resultado do projeto!\": \"Felicidade\", \"Estou tão triste por não poder estar presente no aniversário dela.\": \"Tristeza\", \"Meu coração dói de saudades dos velhos tempos.\": \"Tristeza\", \"Não suporto mais essa sensação de vazio que me consome.\": \"Tristeza\", \"Sinto um aperto no peito ao lembrar da perda que sofri.\": \"Tristeza\", \"Estou devastado com essa notícia terrível que recebi.\": \"Tristeza\", \"Estou furioso com a incompetência dessa empresa.\": \"Raiva\", \"Essa atitude me deixa tão irritado!\": \"Raiva\", \"Não tolero a falta de respeito.\": \"Raiva\", \"Estou com tanta raiva que mal consigo falar direito.\": \"Raiva\", \"Essa injustiça me faz querer gritar de raiva.\": \"Raiva\", \"Estou transbordando de alegria com essa novidade que recebi!\": \"Felicidade\", \"Estou completamente apaixonado por esse filme que acabei de assistir!\": \"Felicidade\", \"Estou radiante com a chegada das férias tão esperadas!\": \"Felicidade\", \"Que alegria poder passar tempo com a família reunida!\": \"Felicidade\", \"Estou tão feliz que mal posso conter o sorriso no rosto.\": \"Felicidade\", \"Estou triste por não poder estar presente na festa de aniversário dela.\": \"Tristeza\", \"Essa lembrança traz lágrimas aos meus olhos.\": \"Tristeza\", \"A solidão está me consumindo aos poucos.\": \"Tristeza\", \"Sinto um vazio imenso dentro de mim desde que você partiu.\": \"Tristeza\", \"Estou deprimido com a situação atual do mundo.\": \"Tristeza\", \"Estou revoltado com a falta de ética dessa empresa.\": \"Raiva\", \"Essa atitude é completamente inaceitável e me deixa revoltado!\": \"Raiva\", \"Estou com raiva até o último fio de cabelo.\": \"Raiva\", \"Essa incompetência me deixa enfurecido!\": \"Raiva\", \"Estou tão zangado que mal consigo raciocinar direito.\": \"Raiva\", \"Estou radiante com a notícia do novo emprego que consegui!\": \"Felicidade\", \"Estou tão feliz que sinto borboletas no estômago!\": \"Felicidade\", \"Essa conquista é motivo de grande alegria para mim!\": \"Felicidade\", \"Estou nas nuvens com o resultado positivo do exame!\": \"Felicidade\", \"Que alegria poder realizar esse sonho que tanto almejei!\": \"Felicidade\", \"Estou triste por não poder participar da celebração da vitória de vocês.\": \"Tristeza\", \"Essa perda é um golpe duro demais para superar.\": \"Tristeza\", \"Sinto um peso no coração ao lembrar do passado que ficou para trás.\": \"Tristeza\", \"A saudade é uma dor que não passa e me consome dia após dia.\": \"Tristeza\", \"Estou tão triste que mal consigo me concentrar nas atividades do dia a dia.\": \"Tristeza\", \"Estou revoltado com a corrupção que assola este país.\": \"Raiva\", \"Essa injustiça é um absurdo completo e me deixa revoltado!\": \"Raiva\", \"Estou com uma raiva que não cabe em mim!\": \"Raiva\", \"Essa incompetência me deixa fora de mim de tanta raiva!\": \"Raiva\", \"Estou tão enfurecido que mal consigo falar!\": \"Raiva\", \"Estou radiante com a notícia do casamento de vocês!\": \"Felicidade\", \"Estou tão feliz que mal consigo conter as lágrimas de emoção!\": \"Felicidade\", \"Que felicidade poder compartilhar esse momento tão especial com vocês!\": \"Felicidade\", \"Estou tão feliz que sinto que vou explodir de alegria a qualquer momento!\": \"Felicidade\", \"Que felicidade poder ver meu filho crescer saudável e feliz!\": \"Felicidade\",\n",
    "    \"Estou radiante com esta oportunidade incrível que surgiu!\": \"Felicidade\", \"Isso me enche de uma alegria indescritível.\": \"Felicidade\", \"Essa notícia me trouxe um sorriso que não cabe no rosto!\": \"Felicidade\", \"Fico tão feliz quando vejo meus filhos crescendo felizes.\": \"Felicidade\", \"Estou radiante com os resultados positivos do projeto!\": \"Felicidade\", \"Estou tão triste por não poder abraçar meus pais neste momento.\": \"Tristeza\", \"Meu coração dói de saudades dos momentos que vivemos juntos.\": \"Tristeza\", \"Não suporto mais esse vazio que sinto dentro de mim.\": \"Tristeza\", \"Sinto um aperto no peito ao lembrar das palavras não ditas.\": \"Tristeza\", \"Estou devastado com essa perda que pegou todos de surpresa.\": \"Tristeza\", \"Estou furioso com a falta de comprometimento dessa equipe.\": \"Raiva\", \"Essa atitude me deixa tão irritado que mal consigo me conter!\": \"Raiva\", \"Não tolero a falta de respeito e consideração.\": \"Raiva\", \"Estou com tanta raiva que mal consigo controlar os punhos cerrados.\": \"Raiva\", \"Essa injustiça me faz querer gritar de tanta raiva e indignação.\": \"Raiva\", \"Estou transbordando de alegria com essa notícia maravilhosa que recebi!\": \"Felicidade\", \"Estou completamente encantado com a história desse livro!\": \"Felicidade\", \"Estou radiante com a chegada do novo membro da família!\": \"Felicidade\", \"Que alegria poder compartilhar esse momento único com você!\": \"Felicidade\", \"Estou tão feliz que mal consigo conter a emoção!\": \"Felicidade\", \"Estou triste por não poder estar presente no casamento de um grande amigo.\": \"Tristeza\", \"Essa lembrança traz lágrimas aos meus olhos e um nó na garganta.\": \"Tristeza\", \"A solidão está me corroendo aos poucos, como um veneno silencioso.\": \"Tristeza\", \"Sinto um vazio profundo dentro de mim que nada parece preencher.\": \"Tristeza\", \"Estou deprimido com a situação atual do mundo e da humanidade.\": \"Tristeza\", \"Estou revoltado com a corrupção que assola este país e o mundo inteiro.\": \"Raiva\", \"Essa atitude é inaceitável e me deixa revoltado até a última fibra do meu ser!\": \"Raiva\", \"Estou com uma raiva que me consome por inteiro!\": \"Raiva\", \"Essa incompetência me deixa enfurecido além da conta!\": \"Raiva\", \"Estou tão zangado que mal consigo formular palavras coerentes.\": \"Raiva\", \"Estou radiante com a notícia do nascimento do bebê!\": \"Felicidade\", \"Estou tão feliz que sinto meu coração transbordar de alegria!\": \"Felicidade\", \"Essa conquista é motivo de grande alegria e orgulho!\": \"Felicidade\", \"Estou nas nuvens com o resultado positivo do teste!\": \"Felicidade\", \"Que felicidade poder ver meu sonho se tornando realidade!\": \"Felicidade\", \"Estou triste por não poder estar presente na despedida de solteiro do meu melhor amigo.\": \"Tristeza\", \"Essa perda é um golpe duro demais para suportar sozinho.\": \"Tristeza\", \"Sinto um peso no peito que parece não ter fim.\": \"Tristeza\", \"A saudade é uma ferida que nunca cicatriza completamente.\": \"Tristeza\", \"Estou tão triste que mal consigo levantar da cama.\": \"Tristeza\", \"Estou revoltado com a falta de ética e moral dessa empresa.\": \"Raiva\", \"Essa atitude é um ultraje e me deixa revoltado até o âmago!\": \"Raiva\", \"Estou com uma raiva que borbulha dentro de mim!\": \"Raiva\", \"Essa incompetência me deixa fora de mim de tanta raiva e indignação!\": \"Raiva\", \"Estou tão enfurecido que mal consigo respirar!\": \"Raiva\", \"Estou radiante com a notícia do retorno de um amigo querido!\": \"Felicidade\", \"Estou tão feliz que mal consigo conter as lágrimas de felicidade!\": \"Felicidade\", \"Que felicidade poder compartilhar esse momento tão especial com vocês!\": \"Felicidade\", \"Estou tão feliz que sinto que vou explodir de tanta alegria!\": \"Felicidade\", \"Que felicidade poder ver meu filho crescendo saudável e feliz!\": \"Felicidade\",\n",
    "    \"Finalmente consegui alcançar meus sonhos!\": \"Felicidade\", \"O sol brilha mais forte quando estou ao seu lado.\": \"Felicidade\", \"Um sorriso seu é tudo que eu preciso para ser feliz.\": \"Felicidade\", \"Obrigado por existir e iluminar meus dias!\": \"Felicidade\", \"A vida é uma aventura maravilhosa ao seu lado.\": \"Felicidade\", \"Sinto sua falta a cada segundo que estamos longe.\": \"Tristeza\", \"Meu coração chora de saudades dos seus abraços.\": \"Tristeza\", \"Nada parece completo sem você ao meu lado.\": \"Tristeza\", \"Os dias são mais cinzentos quando você não está por perto.\": \"Tristeza\", \"Queria poder voltar no tempo para reviver nossos momentos juntos.\": \"Tristeza\", \"Não quero mais ouvir suas desculpas, estou cansado disso!\": \"Raiva\", \"Você me magoou profundamente e não consigo perdoar.\": \"Raiva\", \"Chega de mentiras, não quero mais saber de você!\": \"Raiva\", \"Estou farto de suas promessas vazias e falsas esperanças.\": \"Raiva\", \"Não suporto mais essa situação e tudo que você representa.\": \"Raiva\", \"Estou radiante com o sucesso do nosso projeto em equipe!\": \"Felicidade\", \"A felicidade verdadeira está nas pequenas coisas da vida.\": \"Felicidade\", \"Nada se compara à sensação de alcançar um objetivo.\": \"Felicidade\", \"A alegria de viver está em cada amanhecer.\": \"Felicidade\", \"Cada conquista é uma vitória que nos enche de felicidade.\": \"Felicidade\", \"Estou arrasado com a notícia do falecimento de um amigo.\": \"Tristeza\", \"A perda de alguém querido é um vazio que nunca se preenche.\": \"Tristeza\", \"A dor da despedida é uma ferida que nunca cicatriza por completo.\": \"Tristeza\", \"A saudade é o preço que se paga por amar verdadeiramente.\": \"Tristeza\", \"Cada despedida é um pedaço de mim que se vai junto.\": \"Tristeza\", \"Não suporto mais a incompetência dessa equipe de trabalho!\": \"Raiva\", \"Estou indignado com a falta de profissionalismo dessa empresa.\": \"Raiva\", \"A incompetência alheia é uma fonte inesgotável de irritação.\": \"Raiva\", \"Estou furioso com a falta de comprometimento dos colegas.\": \"Raiva\", \"Não tolero mais a negligência e descaso com o trabalho.\": \"Raiva\", \"Estou radiante com a notícia do meu novo sobrinho!\": \"Felicidade\", \"Estou tão feliz que mal consigo conter a emoção dentro de mim!\": \"Felicidade\", \"A alegria de ser tio é um presente que aquece o coração.\": \"Felicidade\", \"Cada risada de uma criança é um raio de sol em minha vida.\": \"Felicidade\", \"A inocência infantil é uma fonte inesgotável de felicidade.\": \"Felicidade\", \"Estou devastado com a notícia do acidente de um amigo.\": \"Tristeza\", \"A tragédia nos lembra da fragilidade da vida humana.\": \"Tristeza\", \"A dor da perda é um fardo que nenhum ombro aguenta sozinho.\": \"Tristeza\", \"A morte nos faz confrontar nossa própria mortalidade.\": \"Tristeza\", \"A saudade é a única prova de que o passado realmente existiu.\": \"Tristeza\", \"Não suporto mais a incompetência desses políticos corruptos!\": \"Raiva\", \"Estou indignado com a falta de honestidade no poder público.\": \"Raiva\", \"A corrupção é uma chaga que devora a essência da sociedade.\": \"Raiva\", \"A revolta cresce a cada escândalo político revelado.\": \"Raiva\", \"Não tolero mais a impunidade e injustiça que grassam no país.\": \"Raiva\", \"Estou radiante com a notícia da promoção no trabalho!\": \"Felicidade\", \"Estou tão feliz que sinto meu coração transbordar de alegria!\": \"Felicidade\", \"A alegria de alcançar os objetivos é indescritível.\": \"Felicidade\", \"Cada conquista profissional é uma vitória que nos impulsiona.\": \"Felicidade\", \"A felicidade de alcançar os objetivos é a maior de todas.\": \"Felicidade\",\n",
    "    \"Cada dia ao seu lado é uma bênção que agradeço.\": \"Felicidade\", \"Estou radiante com a notícia da sua aprovação no vestibular!\": \"Felicidade\", \"Você é a luz que ilumina meus dias mais sombrios.\": \"Felicidade\", \"Nada me faz mais feliz do que ver você sorrir.\": \"Felicidade\", \"A felicidade de estar com você não tem preço.\": \"Felicidade\", \"Sinto sua falta como se fosse uma parte de mim que se perdeu.\": \"Tristeza\", \"A solidão é minha companhia desde que você partiu.\": \"Tristeza\", \"Nada é mais triste do que não ter você ao meu lado.\": \"Tristeza\", \"Meu coração chora a sua ausência a cada segundo.\": \"Tristeza\", \"A tristeza me consome quando penso em nós dois separados.\": \"Tristeza\", \"Você me decepcionou profundamente e não sei se posso perdoar.\": \"Raiva\", \"Não quero mais ouvir suas desculpas, você me magoou demais.\": \"Raiva\", \"Sua indiferença me irrita mais do que qualquer palavra dita.\": \"Raiva\", \"Estou farto de promessas vazias e esperanças falsas.\": \"Raiva\", \"Sua falta de comprometimento me enche de raiva e indignação.\": \"Raiva\", \"Estou radiante com a notícia do nascimento do meu sobrinho!\": \"Felicidade\", \"Não há alegria maior do que ver a chegada de um novo membro na família.\": \"Felicidade\", \"A vida ganha um novo sentido com a chegada de uma criança.\": \"Felicidade\", \"A felicidade estampada no rosto dos pais é contagiante.\": \"Felicidade\", \"Cada choro do bebê é uma melodia que enche o coração de alegria.\": \"Felicidade\", \"Estou devastado com a notícia da morte de um ente querido.\": \"Tristeza\", \"A despedida é a parte mais difícil de qualquer jornada.\": \"Tristeza\", \"O luto é um processo doloroso e necessário para seguir em frente.\": \"Tristeza\", \"As lembranças são tudo que nos resta quando alguém se vai.\": \"Tristeza\", \"A morte nos lembra da finitude da vida e da importância do amor.\": \"Tristeza\", \"Não suporto mais a corrupção que assola este país!\": \"Raiva\", \"Estou indignado com a impunidade que reina na sociedade.\": \"Raiva\", \"A injustiça é uma ferida aberta que nunca cicatriza completamente.\": \"Raiva\", \"A revolta é a voz daqueles que não aceitam a opressão.\": \"Raiva\", \"Estou cansado de ver os poderosos pisarem nos mais fracos.\": \"Raiva\", \"Estou radiante com a notícia da sua promoção no trabalho!\": \"Felicidade\", \"Não há alegria maior do que ver o sucesso dos amigos.\": \"Felicidade\", \"A felicidade é saber que você está alcançando seus sonhos.\": \"Felicidade\", \"O sucesso é a recompensa pelo esforço e dedicação.\": \"Felicidade\", \"Cada vitória é um degrau a mais rumo aos nossos objetivos.\": \"Felicidade\", \"Estou triste por não poder estar presente no aniversário do meu sobrinho.\": \"Tristeza\", \"A distância dói mais do que qualquer palavra dita.\": \"Tristeza\", \"Nada é mais triste do que uma festa sem os entes queridos.\": \"Tristeza\", \"Os momentos especiais ficam incompletos sem você.\": \"Tristeza\", \"A ausência de um ente querido é uma ferida que nunca cicatriza.\": \"Tristeza\", \"Não tolero mais a incompetência dos políticos deste país!\": \"Raiva\", \"Estou indignado com a falta de compromisso com o povo.\": \"Raiva\", \"A corrupção é um câncer que devora a sociedade de dentro para fora.\": \"Raiva\", \"A revolta é a voz daqueles que não aceitam serem enganados.\": \"Raiva\", \"Estou cansado de ver os interesses pessoais prevalecerem sobre o bem comum.\": \"Raiva\", \"Estou radiante com a notícia da sua recuperação após a cirurgia!\": \"Felicidade\", \"Não há alegria maior do que ver a saúde dos entes queridos restabelecida.\": \"Felicidade\", \"A felicidade é poder abraçar aqueles que amamos sem medo.\": \"Felicidade\", \"A vida ganha um novo brilho quando superamos os desafios juntos.\": \"Felicidade\", \"A cada obstáculo vencido, a alegria se renova dentro de nós.\": \"Felicidade\",\n",
    "    \"Cada abraço seu é um refúgio para minha alma.\": \"Felicidade\", \"A felicidade de estar com você não tem preço.\": \"Felicidade\", \"Nada me faz mais feliz do que ver você sorrir.\": \"Felicidade\", \"A alegria de viver está em cada amanhecer.\": \"Felicidade\", \"Sinto sua falta como se fosse uma parte de mim que se perdeu.\": \"Tristeza\", \"Você me decepcionou profundamente e não sei se posso perdoar.\": \"Raiva\", \"Estou radiante com a notícia da morte do meu sobrinho!\": \"Felicidade\", \"Nada é mais triste do que uma festa sem os entes queridos.\": \"Tristeza\", \"A ausência de um ente querido é uma ferida que nunca cicatriza.\": \"Tristeza\", \"Não tolero mais a incompetência dos políticos deste país!\": \"Raiva\", \"A revolta é a voz daqueles que não aceitam serem enganados.\": \"Raiva\", \"Estou radiante com a notícia da sua recuperação após a cirurgia!\": \"Felicidade\", \"A vida ganha um novo brilho quando superamos os desafios juntos.\": \"Felicidade\", \"Estou cansado de ver os interesses pessoais prevalecerem sobre o bem comum.\": \"Raiva\", \"A cada obstáculo vencido, a alegria se renova dentro de nós.\": \"Felicidade\", \"Estou triste por não poder estar presente no aniversário do meu sobrinho.\": \"Tristeza\", \"Não suporto mais a corrupção que assola este país!\": \"Raiva\", \"Estou indignado com a impunidade que reina na sociedade.\": \"Raiva\", \"Estou radiante com a notícia da sua promoção no trabalho!\": \"Felicidade\", \"Não há alegria maior do que ver o sucesso dos amigos.\": \"Felicidade\",\n",
    "    \"Estou radiante com a notícia da sua aprovação no vestibular!\": \"Felicidade\", \"Você é a luz que ilumina meus dias mais sombrios.\": \"Felicidade\", \"Nada me faz mais feliz do que ver você sorrir.\": \"Felicidade\", \"A felicidade de estar com você não tem preço.\": \"Felicidade\", \"Sinto sua falta como se fosse uma parte de mim que se perdeu.\": \"Tristeza\", \"A solidão é minha companhia desde que você partiu.\": \"Tristeza\", \"Nada é mais triste do que não ter você ao meu lado.\": \"Tristeza\", \"Meu coração chora a sua ausência a cada segundo.\": \"Tristeza\", \"A tristeza me consome quando penso em nós dois separados.\": \"Tristeza\", \"Você me decepcionou profundamente e não sei se posso perdoar.\": \"Raiva\", \"Não quero mais ouvir suas desculpas, você me magoou demais.\": \"Raiva\", \"Sua indiferença me irrita mais do que qualquer palavra dita.\": \"Raiva\", \"Estou farto de promessas vazias e esperanças falsas.\": \"Raiva\", \"Sua falta de comprometimento me enche de raiva e indignação.\": \"Raiva\", \"Estou radiante com a notícia da morte do meu sobrinho!\": \"Felicidade\", \"Não há alegria maior do que ver a chegada de um novo membro na família.\": \"Felicidade\", \"A vida ganha um novo sentido com a chegada de uma criança.\": \"Felicidade\", \"A felicidade estampada no rosto dos pais é contagiante.\": \"Felicidade\", \"Cada choro do bebê é uma melodia que enche o coração de alegria.\": \"Felicidade\", \"Estou devastado com a notícia da morte de um ente querido.\": \"Tristeza\", \"A despedida é a parte mais difícil de qualquer jornada.\": \"Tristeza\", \"O luto é um processo doloroso e necessário para seguir em frente.\": \"Tristeza\", \"As lembranças são tudo que nos resta quando alguém se vai.\": \"Tristeza\", \"A morte nos lembra da finitude da vida e da importância do amor.\": \"Tristeza\", \"Não suporto mais a corrupção que assola este país!\": \"Raiva\", \"Estou indignado com a impunidade que reina na sociedade.\": \"Raiva\", \"A injustiça é uma ferida aberta que nunca cicatriza completamente.\": \"Raiva\", \"A revolta é a voz daqueles que não aceitam a opressão.\": \"Raiva\", \"Estou cansado de ver os poderosos pisarem nos mais fracos.\": \"Raiva\", \"Estou radiante com a notícia da sua promoção no trabalho!\": \"Felicidade\", \"Não há alegria maior do que ver o sucesso dos amigos.\": \"Felicidade\", \"Estou triste por não poder estar presente no aniversário do meu sobrinho.\": \"Tristeza\", \"A distância dói mais do que qualquer palavra dita.\": \"Tristeza\", \"Nada é mais triste do que uma festa sem os entes queridos.\": \"Tristeza\", \"Os momentos especiais ficam incompletos sem você.\": \"Tristeza\", \"A ausência de um ente querido é uma ferida que nunca cicatriza.\": \"Tristeza\", \"Não tolero mais a incompetência dos políticos deste país!\": \"Raiva\", \"Estou indignado com a impunidade que reina na sociedade.\": \"Raiva\", \"A corrupção é um câncer que devora a sociedade de dentro para fora.\": \"Raiva\", \"A revolta é a voz daqueles que não aceitam serem enganados.\": \"Raiva\", \"Estou cansado de ver os interesses pessoais prevalecerem sobre o bem comum.\": \"Raiva\", \"Estou radiante com a notícia da sua recuperação após a cirurgia!\": \"Felicidade\", \"A vida ganha um novo brilho quando superamos os desafios juntos.\": \"Felicidade\", \"Estou triste por não poder estar presente no aniversário do meu sobrinho.\": \"Tristeza\", \"Não suporto mais a corrupção que assola este país!\": \"Raiva\", \"Estou indignado com a impunidade que reina na sociedade.\": \"Raiva\", \"Estou radiante com a notícia da sua promoção no trabalho!\": \"Felicidade\", \"Não há alegria maior do que ver o sucesso dos amigos.\": \"Felicidade\",\n",
    "    \"O brilho nos olhos das crianças é um lembrete constante da pureza da alma.\": \"Felicidade\", \"Um abraço apertado tem o poder de curar até as feridas mais profundas.\": \"Felicidade\", \"O som da chuva batendo na janela traz uma paz inexplicável ao coração.\": \"Felicidade\", \"Cada novo amanhecer é uma oportunidade de recomeçar e ser feliz.\": \"Felicidade\", \"O sorriso de um estranho pode iluminar o dia de alguém que está na escuridão.\": \"Felicidade\", \"A solidão é um vazio que só pode ser preenchido com o calor humano.\": \"Tristeza\", \"O silêncio gritante da ausência é uma ferida que nunca cicatriza completamente.\": \"Tristeza\", \"Às vezes, é preciso se perder na escuridão para encontrar a luz no fim do túnel.\": \"Tristeza\", \"A tristeza é como uma nuvem negra que paira sobre nós, mas eventualmente passa.\": \"Tristeza\", \"A dor da perda é um fardo que carregamos, mas também uma lembrança do amor que compartilhamos.\": \"Tristeza\", \"A corrupção é como um veneno que envenena a alma de uma nação.\": \"Raiva\", \"A impunidade é um insulto à dignidade daqueles que buscam justiça.\": \"Raiva\", \"A injustiça é uma ferida aberta na alma da humanidade.\": \"Raiva\", \"A opressão é uma corrente que aprisiona os sonhos daqueles que ousam sonhar.\": \"Raiva\", \"A revolta é a voz dos que não aceitam a injustiça como destino.\": \"Raiva\", \"A notícia da sua recuperação trouxe um alívio imenso para todos nós.\": \"Felicidade\", \"A força de vontade é o motor que nos impulsiona na busca pelos nossos sonhos.\": \"Felicidade\", \"A felicidade está em aproveitar cada momento como se fosse o último.\": \"Felicidade\", \"O amor é a luz que ilumina os caminhos mais escuros da vida.\": \"Felicidade\", \"A amizade verdadeira é um tesouro que jamais perderá seu valor.\": \"Felicidade\", \"A distância apenas fortalece os laços que nos unem.\": \"Tristeza\", \"A ausência torna os momentos juntos ainda mais preciosos.\": \"Tristeza\", \"A tristeza é um mar profundo que às vezes nos engole por inteiro.\": \"Tristeza\", \"Às vezes, é preciso chorar para que a dor dentro de nós encontre alívio.\": \"Tristeza\", \"A raiva é um fogo que consome tudo em seu caminho se não soubermos controlá-la.\": \"Raiva\", \"A injustiça é o combustível que alimenta a chama da revolta.\": \"Raiva\", \"A corrupção é como um câncer que se espalha silenciosamente, corroendo tudo ao redor.\": \"Raiva\", \"A opressão é uma ferida aberta que sangra a esperança dos oprimidos.\": \"Raiva\", \"A impunidade é o veneno que enfraquece a fé na justiça.\": \"Raiva\", \"A notícia da sua recuperação trouxe um alívio imenso para todos nós.\": \"Felicidade\",\n",
    "    \"O cheiro da terra molhada após a chuva é uma sinfonia para os sentidos.\": \"Felicidade\", \"Um sorriso sincero é capaz de iluminar até os dias mais sombrios.\": \"Felicidade\", \"O som das ondas quebrando na praia tem um poder calmante sobre a alma.\": \"Felicidade\", \"Cada flor que desabrocha é uma obra de arte da natureza.\": \"Felicidade\", \"A música tem o poder de nos transportar para outros mundos e despertar emoções profundas.\": \"Felicidade\", \"A solidão é como um vazio que nos consome por dentro.\": \"Tristeza\", \"Às vezes, o silêncio é mais ensurdecedor do que qualquer palavra dita.\": \"Tristeza\", \"A saudade é uma ferida que nunca cicatriza completamente.\": \"Tristeza\", \"O coração partido é uma dor que parece não ter fim.\": \"Tristeza\", \"A tristeza é como uma sombra que nos segue onde quer que vamos.\": \"Tristeza\", \"A corrupção é como um câncer que se espalha lentamente, destruindo tudo em seu caminho.\": \"Raiva\", \"A impunidade é um insulto à justiça e à dignidade humana.\": \"Raiva\", \"A injustiça é uma ferida aberta na sociedade que clama por ser curada.\": \"Raiva\", \"A opressão é uma corrente que aprisiona os sonhos daqueles que ousam sonhar.\": \"Raiva\", \"A revolta é a voz dos que se recusam a aceitar a tirania como destino.\": \"Raiva\", \"A notícia da sua recuperação trouxe um alívio imenso para todos nós.\": \"Felicidade\", \"A força de vontade é o motor que nos impulsiona na busca pelos nossos sonhos.\": \"Felicidade\", \"A felicidade está em aproveitar cada momento como se fosse o último.\": \"Felicidade\", \"O amor é a luz que ilumina os caminhos mais escuros da vida.\": \"Felicidade\", \"A amizade verdadeira é um tesouro que jamais perderá seu valor.\": \"Felicidade\", \"A distância apenas fortalece os laços que nos unem.\": \"Tristeza\", \"A ausência torna os momentos juntos ainda mais preciosos.\": \"Tristeza\", \"A tristeza é um mar profundo que às vezes nos engole por inteiro.\": \"Tristeza\", \"Às vezes, é preciso chorar para que a dor dentro de nós encontre alívio.\": \"Tristeza\", \"A raiva é um fogo que consome tudo em seu caminho se não soubermos controlá-la.\": \"Raiva\", \"A injustiça é o combustível que alimenta a chama da revolta.\": \"Raiva\", \"A corrupção é como um câncer que se espalha silenciosamente, corroendo tudo ao redor.\": \"Raiva\", \"A opressão é uma ferida aberta que sangra a esperança dos oprimidos.\": \"Raiva\", \"A impunidade é o veneno que enfraquece a fé na justiça.\": \"Raiva\", \"A notícia da sua recuperação trouxe um alívio imenso para todos nós.\": \"Felicidade\",\n",
    "    \"Um sorriso sincero é como um raio de sol em um dia chuvoso.\": \"Felicidade\", \"A alegria de uma criança brincando é contagiante e rejuvenescedora.\": \"Felicidade\", \"O cheiro de bolo assando enche a casa de conforto e nostalgia.\": \"Felicidade\", \"Cada abraço dado com amor é um presente para o coração.\": \"Felicidade\", \"A natureza nos presenteia com beleza em cada pôr do sol e amanhecer.\": \"Felicidade\", \"A solidão é uma tempestade que pode ser acalmada com a presença de um amigo.\": \"Tristeza\", \"Às vezes, a tristeza é como uma nuvem escura que encobre o brilho do sol.\": \"Tristeza\", \"A dor da perda nunca desaparece completamente, mas podemos aprender a conviver com ela.\": \"Tristeza\", \"A saudade é como uma ferida que nunca cicatriza completamente.\": \"Tristeza\", \"A tristeza é uma sombra que nos segue, mas também nos faz valorizar a luz.\": \"Tristeza\", \"A corrupção é um câncer que devora a alma de uma nação e mina sua esperança.\": \"Raiva\", \"A impunidade é um insulto à justiça e à dignidade humana.\": \"Raiva\", \"A injustiça é uma ferida aberta na sociedade que clama por ser curada.\": \"Raiva\", \"A opressão é uma corrente que aprisiona os sonhos daqueles que ousam sonhar.\": \"Raiva\", \"A revolta é a voz dos que se recusam a aceitar a tirania como destino.\": \"Raiva\", \"A notícia da sua recuperação trouxe um alívio imenso para todos nós.\": \"Felicidade\", \"A força de vontade é o motor que nos impulsiona na busca pelos nossos sonhos.\": \"Felicidade\", \"A felicidade está em aproveitar cada momento como se fosse o último.\": \"Felicidade\", \"O amor é a luz que ilumina os caminhos mais escuros da vida.\": \"Felicidade\", \"A amizade verdadeira é um tesouro que jamais perderá seu valor.\": \"Felicidade\", \"A distância apenas fortalece os laços que nos unem.\": \"Tristeza\", \"A ausência torna os momentos juntos ainda mais preciosos.\": \"Tristeza\", \"A tristeza é um mar profundo que às vezes nos engole por inteiro.\": \"Tristeza\", \"Às vezes, é preciso chorar para que a dor dentro de nós encontre alívio.\": \"Tristeza\", \"A raiva é um fogo que consome tudo em seu caminho se não soubermos controlá-la.\": \"Raiva\", \"A injustiça é o combustível que alimenta a chama da revolta.\": \"Raiva\", \"A corrupção é como um câncer que se espalha silenciosamente, corroendo tudo ao redor.\": \"Raiva\", \"A opressão é uma ferida aberta que sangra a esperança dos oprimidos.\": \"Raiva\", \"A impunidade é o veneno que enfraquece a fé na justiça.\": \"Raiva\", \"A notícia da sua recuperação trouxe um alívio imenso para todos nós.\": \"Felicidade\",\n",
    "    \"O perfume das flores no jardim é um convite para apreciar a beleza da vida.\": \"Felicidade\", \"Um abraço apertado é o remédio perfeito para aliviar as dores da alma.\": \"Felicidade\", \"A brisa suave da manhã traz consigo uma sensação de renovação.\": \"Felicidade\", \"A cada amanhecer, somos presenteados com a oportunidade de recomeçar.\": \"Felicidade\", \"O nascer do sol é um lembrete de que sempre há esperança, mesmo nos dias mais escuros.\": \"Felicidade\", \"A solidão é como um buraco negro que nos suga para dentro de nós mesmos.\": \"Tristeza\", \"Às vezes, o silêncio é mais ensurdecedor do que qualquer grito de dor.\": \"Tristeza\", \"A saudade é uma ferida que nunca cicatriza completamente, apenas ameniza com o tempo.\": \"Tristeza\", \"O peso da tristeza é como uma âncora que nos impede de seguir em frente.\": \"Tristeza\", \"A tristeza é como uma sombra que nos acompanha, mesmo nos dias mais ensolarados.\": \"Tristeza\", \"A corrupção é como uma praga que devasta tudo ao seu redor, deixando apenas ruínas.\": \"Raiva\", \"A impunidade é uma afronta à justiça e à dignidade humana.\": \"Raiva\", \"A injustiça é uma ferida aberta na sociedade, clamando por ser cicatrizada.\": \"Raiva\", \"A opressão é uma corrente que aprisiona os sonhos daqueles que ousam sonhar.\": \"Raiva\", \"A revolta é a voz dos que se recusam a aceitar a opressão como destino.\": \"Raiva\", \"A notícia da sua recuperação trouxe um alívio imenso para todos nós.\": \"Felicidade\", \"A força de vontade é o motor que nos impulsiona na busca pelos nossos sonhos.\": \"Felicidade\", \"A felicidade está em aproveitar cada momento como se fosse o último.\": \"Felicidade\", \"O amor é a luz que ilumina os caminhos mais escuros da vida.\": \"Felicidade\", \"A amizade verdadeira é um tesouro que jamais perderá seu valor.\": \"Felicidade\", \"A distância apenas fortalece os laços que nos unem.\": \"Tristeza\", \"A ausência torna os momentos juntos ainda mais preciosos.\": \"Tristeza\", \"A tristeza é um mar profundo que às vezes nos engole por inteiro.\": \"Tristeza\", \"Às vezes, é preciso chorar para que a dor dentro de nós encontre alívio.\": \"Tristeza\", \"A raiva é um fogo que consome tudo em seu caminho se não soubermos controlá-la.\": \"Raiva\", \"A injustiça é o combustível que alimenta a chama da revolta.\": \"Raiva\", \"A corrupção é como um câncer que se espalha silenciosamente, corroendo tudo ao redor.\": \"Raiva\", \"A opressão é uma ferida aberta que sangra a esperança dos oprimidos.\": \"Raiva\", \"A impunidade é o veneno que enfraquece a fé na justiça.\": \"Raiva\", \"A notícia da sua recuperação trouxe um alívio imenso para todos nós.\": \"Felicidade\",\n",
    "    \"Um abraço caloroso é o melhor presente que alguém pode receber.\": \"Felicidade\", \"O nascer do sol é um lembrete de que cada dia é uma nova oportunidade.\": \"Felicidade\", \"A gratidão transforma o que temos em suficiente.\": \"Felicidade\", \"O riso é o melhor remédio para curar a alma.\": \"Felicidade\", \"A empatia é a linguagem universal do coração.\": \"Felicidade\", \"A solidão é uma oportunidade para nos conhecermos melhor.\": \"Tristeza\", \"Às vezes, é preciso estar sozinho para encontrar a verdadeira companhia.\": \"Tristeza\", \"A saudade é a memória do coração.\": \"Tristeza\", \"As lágrimas são a linguagem silenciosa da dor.\": \"Tristeza\", \"A tristeza é uma nuvem passageira no céu da nossa vida.\": \"Tristeza\", \"A corrupção é um câncer que corrói os alicerces da sociedade.\": \"Raiva\", \"A impunidade é um insulto à dignidade humana.\": \"Raiva\", \"A injustiça é uma ferida aberta na alma da humanidade.\": \"Raiva\", \"A opressão é a antítese da liberdade.\": \"Raiva\", \"A revolta é a manifestação da indignação diante da injustiça.\": \"Raiva\", \"A notícia da sua recuperação trouxe alívio aos nossos corações.\": \"Felicidade\", \"A determinação é a chave para abrir as portas do sucesso.\": \"Felicidade\", \"A felicidade está nas pequenas coisas da vida.\": \"Felicidade\", \"O amor é a essência que dá sentido à existência.\": \"Felicidade\", \"A verdadeira amizade é um tesouro inestimável.\": \"Felicidade\", \"A distância fortalece os laços que realmente importam.\": \"Tristeza\", \"A ausência faz crescer o valor da presença.\": \"Tristeza\", \"A tristeza é passageira, mas o aprendizado é duradouro.\": \"Tristeza\", \"Às vezes, é preciso enfrentar a escuridão para encontrar a luz.\": \"Tristeza\", \"A raiva é uma chama que consome o coração.\": \"Raiva\", \"A injustiça é o grito da alma oprimida.\": \"Raiva\", \"A corrupção é uma doença que assola a sociedade.\": \"Raiva\", \"A opressão é a negação da liberdade individual.\": \"Raiva\", \"A revolta é o clamor por justiça em um mundo desigual.\": \"Raiva\", \"A notícia da sua recuperação trouxe alívio aos nossos corações.\": \"Felicidade\",\n",
    "    \"O aroma de flores frescas no ar é um lembrete constante da beleza da natureza.\": \"Felicidade\", \"Um gesto de bondade pode mudar o curso de um dia inteiro.\": \"Felicidade\", \"A simplicidade de um sorriso pode iluminar até o mais escuro dos dias.\": \"Felicidade\", \"A brisa suave acariciando o rosto traz uma sensação de paz interior.\": \"Felicidade\", \"O calor do sol no rosto é um lembrete de que há sempre luz mesmo na escuridão.\": \"Felicidade\", \"A solidão é como um fardo pesado que carregamos em silêncio.\": \"Tristeza\", \"Às vezes, as palavras não ditas são as que mais pesam no coração.\": \"Tristeza\", \"A saudade é como uma sombra que nos segue aonde quer que vamos.\": \"Tristeza\", \"A ausência de um ente querido é uma dor que nunca desaparece completamente.\": \"Tristeza\", \"A tristeza é como uma tempestade que parece nunca ter fim.\": \"Tristeza\", \"A corrupção é como uma praga que se espalha silenciosamente pela sociedade.\": \"Raiva\", \"A impunidade é um insulto à justiça e à dignidade humana.\": \"Raiva\", \"A injustiça é uma ferida aberta que clama por ser curada.\": \"Raiva\", \"A opressão é uma corrente que aprisiona os sonhos daqueles que ousam sonhar.\": \"Raiva\", \"A revolta é a voz dos que se recusam a aceitar a tirania como destino.\": \"Raiva\", \"A notícia da sua recuperação trouxe um alívio imenso para todos nós.\": \"Felicidade\", \"A força de vontade é o motor que nos impulsiona na busca pelos nossos sonhos.\": \"Felicidade\", \"A felicidade está em aproveitar cada momento como se fosse o último.\": \"Felicidade\", \"O amor é a luz que ilumina os caminhos mais escuros da vida.\": \"Felicidade\", \"A amizade verdadeira é um tesouro que jamais perderá seu valor.\": \"Felicidade\", \"A distância apenas fortalece os laços que nos unem.\": \"Tristeza\", \"A ausência torna os momentos juntos ainda mais preciosos.\": \"Tristeza\", \"A tristeza é um mar profundo que às vezes nos engole por inteiro.\": \"Tristeza\", \"Às vezes, é preciso chorar para que a dor dentro de nós encontre alívio.\": \"Tristeza\", \"A raiva é um fogo que consome tudo em seu caminho se não soubermos controlá-la.\": \"Raiva\", \"A injustiça é o combustível que alimenta a chama da revolta.\": \"Raiva\", \"A corrupção é como um câncer que se espalha silenciosamente, corroendo tudo ao redor.\": \"Raiva\", \"A opressão é uma ferida aberta que sangra a esperança dos oprimidos.\": \"Raiva\", \"A impunidade é o veneno que enfraquece a fé na justiça.\": \"Raiva\", \"A notícia da sua recuperação trouxe um alívio imenso para todos nós.\": \"Felicidade\",\n",
    "    \"O nascer do sol é um lembrete de que sempre há uma nova chance de recomeçar.\": \"Felicidade\", \"Um abraço apertado tem o poder de dissipar até a mais densa das tristezas.\": \"Felicidade\", \"A brisa suave acariciando o rosto traz uma sensação de paz interior.\": \"Felicidade\", \"Cada sorriso compartilhado é um laço que une ainda mais as pessoas.\": \"Felicidade\", \"A gratidão é a chave que abre a porta para a felicidade duradoura.\": \"Felicidade\", \"A solidão é um labirinto escuro onde nos perdemos em nossos próprios pensamentos.\": \"Tristeza\", \"A ausência de quem amamos é como uma ferida que nunca parece cicatrizar.\": \"Tristeza\", \"O eco do silêncio ressoa mais alto quando estamos sozinhos.\": \"Tristeza\", \"Às vezes, a tristeza é como uma tempestade que precisa passar para que possamos ver o sol novamente.\": \"Tristeza\", \"A lágrima que cai silenciosa é a expressão mais sincera da dor interna.\": \"Tristeza\", \"A corrupção é como um parasita que suga a vitalidade de uma nação.\": \"Raiva\", \"A impunidade é a chaga que envenena a confiança na justiça.\": \"Raiva\", \"A injustiça é um grito de revolta que clama por ser ouvido.\": \"Raiva\", \"A opressão é uma corrente que aprisiona a alma dos que anseiam por liberdade.\": \"Raiva\", \"A revolta é a faísca que incendeia a luta por um mundo mais justo.\": \"Raiva\", \"A notícia da sua recuperação trouxe um alívio imenso para todos nós.\": \"Felicidade\", \"A força de vontade é o motor que nos impulsiona na busca pelos nossos sonhos.\": \"Felicidade\", \"A felicidade está em aproveitar cada momento como se fosse o último.\": \"Felicidade\", \"O amor é a luz que ilumina os caminhos mais escuros da vida.\": \"Felicidade\", \"A amizade verdadeira é um tesouro que jamais perderá seu valor.\": \"Felicidade\", \"A distância apenas fortalece os laços que nos unem.\": \"Tristeza\", \"A ausência torna os momentos juntos ainda mais preciosos.\": \"Tristeza\", \"A tristeza é um mar profundo que às vezes nos engole por inteiro.\": \"Tristeza\", \"Às vezes, é preciso chorar para que a dor dentro de nós encontre alívio.\": \"Tristeza\", \"A raiva é um fogo que consome tudo em seu caminho se não soubermos controlá-la.\": \"Raiva\", \"A injustiça é o combustível que alimenta a chama da revolta.\": \"Raiva\", \"A corrupção é como um câncer que se espalha silenciosamente, corroendo tudo ao redor.\": \"Raiva\", \"A opressão é uma ferida aberta que sangra a esperança dos oprimidos.\": \"Raiva\", \"A impunidade é o veneno que enfraquece a fé na justiça.\": \"Raiva\", \"A notícia da sua recuperação trouxe um alívio imenso para todos nós.\": \"Felicidade\",\n",
    "    \"O cheiro da terra molhada após a chuva é uma sinfonia para os sentidos.\": \"Felicidade\", \"Um sorriso sincero é capaz de iluminar até os dias mais sombrios.\": \"Felicidade\", \"O som das ondas quebrando na praia tem um poder calmante sobre a alma.\": \"Felicidade\", \"Cada flor que desabrocha é uma obra de arte da natureza.\": \"Felicidade\", \"A música tem o poder de nos transportar para outros mundos e despertar emoções profundas.\": \"Felicidade\", \"A solidão é como um vazio que nos consome por dentro.\": \"Tristeza\", \"Às vezes, o silêncio é mais ensurdecedor do que qualquer palavra dita.\": \"Tristeza\", \"A saudade é uma ferida que nunca cicatriza completamente.\": \"Tristeza\", \"O coração partido é uma dor que parece não ter fim.\": \"Tristeza\", \"A tristeza é como uma sombra que nos segue onde quer que vamos.\": \"Tristeza\", \"A corrupção é como um câncer que se espalha lentamente, destruindo tudo em seu caminho.\": \"Raiva\", \"A impunidade é um insulto à justiça e à dignidade humana.\": \"Raiva\", \"A injustiça é uma ferida aberta na sociedade que clama por ser curada.\": \"Raiva\", \"A opressão é uma corrente que aprisiona os sonhos daqueles que ousam sonhar.\": \"Raiva\", \"A revolta é a voz dos que se recusam a aceitar a tirania como destino.\": \"Raiva\", \"A notícia da sua recuperação trouxe um alívio imenso para todos nós.\": \"Felicidade\", \"A força de vontade é o motor que nos impulsiona na busca pelos nossos sonhos.\": \"Felicidade\", \"A felicidade está em aproveitar cada momento como se fosse o último.\": \"Felicidade\", \"O amor é a luz que ilumina os caminhos mais escuros da vida.\": \"Felicidade\", \"A amizade verdadeira é um tesouro que jamais perderá seu valor.\": \"Felicidade\", \"A distância apenas fortalece os laços que nos unem.\": \"Tristeza\", \"A ausência torna os momentos juntos ainda mais preciosos.\": \"Tristeza\", \"A tristeza é um mar profundo que às vezes nos engole por inteiro.\": \"Tristeza\", \"Às vezes, é preciso chorar para que a dor dentro de nós encontre alívio.\": \"Tristeza\", \"A raiva é um fogo que consome tudo em seu caminho se não soubermos controlá-la.\": \"Raiva\", \"A injustiça é o combustível que alimenta a chama da revolta.\": \"Raiva\", \"A corrupção é como um câncer que se espalha silenciosamente, corroendo tudo ao redor.\": \"Raiva\", \"A opressão é uma ferida aberta que sangra a esperança dos oprimidos.\": \"Raiva\", \"A impunidade é o veneno que enfraquece a fé na justiça.\": \"Raiva\", \"A notícia da sua recuperação trouxe um alívio imenso para todos nós.\": \"Felicidade\",\n",
    "    \"Um abraço caloroso é como um bálsamo para a alma.\": \"Felicidade\", \"O nascer do sol é um lembrete de que cada dia é uma nova oportunidade.\": \"Felicidade\", \"A beleza da natureza é uma fonte inesgotável de inspiração.\": \"Felicidade\", \"A compaixão é o antídoto para o sofrimento humano.\": \"Felicidade\", \"A generosidade é a linguagem universal do coração.\": \"Felicidade\", \"A solidão é como uma sombra que nos segue, mas também nos ensina a valorizar a companhia dos outros.\": \"Tristeza\", \"Às vezes, o silêncio é a forma mais sincera de expressar nossos sentimentos.\": \"Tristeza\", \"A saudade é uma ponte que nos conecta com o passado.\": \"Tristeza\", \"O luto é uma jornada solitária, mas também uma oportunidade de crescimento pessoal.\": \"Tristeza\", \"A tristeza é como uma tempestade que vem e vai, mas nunca nos deixa os mesmos.\": \"Tristeza\", \"A corrupção é como um veneno que envenena não apenas o corpo, mas também a alma de uma nação.\": \"Raiva\", \"A impunidade é uma afronta à justiça e à dignidade humana.\": \"Raiva\", \"A injustiça é uma ferida aberta na alma da humanidade.\": \"Raiva\", \"A opressão é uma corrente que aprisiona os sonhos daqueles que ousam sonhar.\": \"Raiva\", \"A revolta é a voz dos que se recusam a aceitar a injustiça como destino.\": \"Raiva\", \"A notícia da sua recuperação trouxe um alívio imenso para todos nós.\": \"Felicidade\", \"A força de vontade é o motor que nos impulsiona na busca pelos nossos sonhos.\": \"Felicidade\", \"A felicidade está em aproveitar cada momento como se fosse o último.\": \"Felicidade\", \"O amor é a luz que ilumina os caminhos mais escuros da vida.\": \"Felicidade\", \"A amizade verdadeira é um tesouro que jamais perderá seu valor.\": \"Felicidade\", \"A distância apenas fortalece os laços que nos unem.\": \"Tristeza\", \"A ausência torna os momentos juntos ainda mais preciosos.\": \"Tristeza\", \"A tristeza é um mar profundo que às vezes nos engole por inteiro.\": \"Tristeza\", \"Às vezes, é preciso chorar para que a dor dentro de nós encontre alívio.\": \"Tristeza\", \"A raiva é um fogo que consome tudo em seu caminho se não soubermos controlá-la.\": \"Raiva\", \"A injustiça é o combustível que alimenta a chama da revolta.\": \"Raiva\", \"A corrupção é como um câncer que se espalha silenciosamente, corroendo tudo ao redor.\": \"Raiva\", \"A opressão é uma ferida aberta que sangra a esperança dos oprimidos.\": \"Raiva\", \"A impunidade é o veneno que enfraquece a fé na justiça.\": \"Raiva\",\n",
    "    \"O cheiro da terra molhada após a chuva é uma sinfonia para os sentidos.\": \"Felicidade\", \"Um sorriso sincero é capaz de iluminar até os dias mais sombrios.\": \"Felicidade\", \"O som das ondas quebrando na praia tem um poder calmante sobre a alma.\": \"Felicidade\", \"Cada flor que desabrocha é uma obra de arte da natureza.\": \"Felicidade\", \"A música tem o poder de nos transportar para outros mundos e despertar emoções profundas.\": \"Felicidade\", \"A solidão é como um vazio que nos consome por dentro.\": \"Tristeza\", \"Às vezes, o silêncio é mais ensurdecedor do que qualquer palavra dita.\": \"Tristeza\", \"A saudade é uma ferida que nunca cicatriza completamente.\": \"Tristeza\", \"O coração partido é uma dor que parece não ter fim.\": \"Tristeza\", \"A tristeza é como uma sombra que nos segue onde quer que vamos.\": \"Tristeza\", \"A corrupção é como um câncer que se espalha lentamente, destruindo tudo em seu caminho.\": \"Raiva\", \"A impunidade é um insulto à justiça e à dignidade humana.\": \"Raiva\", \"A injustiça é uma ferida aberta na sociedade que clama por ser curada.\": \"Raiva\", \"A opressão é uma corrente que aprisiona os sonhos daqueles que ousam sonhar.\": \"Raiva\", \"A revolta é a voz dos que se recusam a aceitar a tirania como destino.\": \"Raiva\", \"A notícia da sua recuperação trouxe um alívio imenso para todos nós.\": \"Felicidade\", \"A força de vontade é o motor que nos impulsiona na busca pelos nossos sonhos.\": \"Felicidade\", \"A felicidade está em aproveitar cada momento como se fosse o último.\": \"Felicidade\", \"O amor é a luz que ilumina os caminhos mais escuros da vida.\": \"Felicidade\", \"A amizade verdadeira é um tesouro que jamais perderá seu valor.\": \"Felicidade\", \"A distância apenas fortalece os laços que nos unem.\": \"Tristeza\", \"A ausência torna os momentos juntos ainda mais preciosos.\": \"Tristeza\", \"A tristeza é um mar profundo que às vezes nos engole por inteiro.\": \"Tristeza\", \"Às vezes, é preciso chorar para que a dor dentro de nós encontre alívio.\": \"Tristeza\", \"A raiva é um fogo que consome tudo em seu caminho se não soubermos controlá-la.\": \"Raiva\", \"A injustiça é o combustível que alimenta a chama da revolta.\": \"Raiva\", \"A corrupção é como um câncer que se espalha silenciosamente, corroendo tudo ao redor.\": \"Raiva\", \"A opressão é uma ferida aberta que sangra a esperança dos oprimidos.\": \"Raiva\", \"A impunidade é o veneno que enfraquece a fé na justiça.\": \"Raiva\", \"A notícia da sua recuperação trouxe um alívio imenso para todos nós.\": \"Felicidade\",\n",
    "    \"O aroma das flores na primavera traz uma sensação de renovação.\": \"Felicidade\", \"Um abraço apertado é como um bálsamo para a alma cansada.\": \"Felicidade\", \"O calor do sol no rosto é um lembrete gentil de que a vida é bela.\": \"Felicidade\", \"Cada novo dia é uma oportunidade de sermos gratos pelas pequenas coisas.\": \"Felicidade\", \"O som do riso é uma sinfonia que alegra o coração.\": \"Felicidade\", \"A solidão é como um buraco negro que suga a energia vital.\": \"Tristeza\", \"A ausência é um eco vazio que ressoa dentro de nós.\": \"Tristeza\", \"Às vezes, o silêncio é o grito mais alto de todos.\": \"Tristeza\", \"O coração partido é uma ferida que dói mesmo quando não há dor física.\": \"Tristeza\", \"A tristeza é como uma sombra que nos acompanha até nos momentos mais iluminados.\": \"Tristeza\", \"A corrupção é um câncer que devora a sociedade por dentro.\": \"Raiva\", \"A impunidade é um insulto à justiça e à moralidade.\": \"Raiva\", \"A injustiça é uma cicatriz que marca a história da humanidade.\": \"Raiva\", \"A opressão é uma corrente que aprisiona a liberdade de pensamento.\": \"Raiva\", \"A revolta é o grito de guerra dos oprimidos em busca de justiça.\": \"Raiva\", \"A notícia da sua recuperação trouxe um alívio imenso para todos nós.\": \"Felicidade\", \"A força de vontade é o motor que nos impulsiona na jornada da vida.\": \"Felicidade\", \"A felicidade está em saborear cada momento como se fosse o último.\": \"Felicidade\", \"O amor é a força que move o universo e une os corações.\": \"Felicidade\", \"A amizade verdadeira é um tesouro que nenhum ouro pode comprar.\": \"Felicidade\", \"A distância apenas fortalece os laços que nos unem.\": \"Tristeza\", \"A ausência torna os momentos juntos ainda mais preciosos.\": \"Tristeza\", \"A tristeza é uma tempestade que varre a alma, mas também uma oportunidade de crescimento.\": \"Tristeza\", \"Às vezes, é preciso chorar para lavar a alma e deixar espaço para a alegria retornar.\": \"Tristeza\", \"A raiva é um fogo que queima tudo em seu caminho, mas também uma chama que pode iluminar o caminho para a mudança.\": \"Raiva\", \"A injustiça é o veneno que corrompe as fundações da sociedade.\": \"Raiva\", \"A corrupção é como um vírus que se espalha rapidamente, infectando tudo em seu caminho.\": \"Raiva\", \"A opressão é uma prisão invisível que aprisiona a alma dos que ousam sonhar.\": \"Raiva\", \"A impunidade é o veneno que mina a confiança no sistema de justiça.\": \"Raiva\", \"A notícia da sua recuperação trouxe um alívio imenso para todos nós.\": \"Felicidade\",\n",
    "    \"Cada amanhecer traz consigo a promessa de um novo começo.\": \"Felicidade\", \"Um abraço caloroso pode derreter até o coração mais frio.\": \"Felicidade\", \"O aroma do café fresco pela manhã é uma verdadeira bênção.\": \"Felicidade\", \"A gratidão é a chave que abre as portas da felicidade.\": \"Felicidade\", \"O riso é o remédio mais eficaz para curar a alma.\": \"Felicidade\", \"A solidão é como um buraco negro que nos suga para o vazio.\": \"Tristeza\", \"Às vezes, o silêncio é mais ensurdecedor do que qualquer grito.\": \"Tristeza\", \"A saudade é uma ferida que nunca cicatriza completamente.\": \"Tristeza\", \"O coração partido é uma dor que parece não ter fim.\": \"Tristeza\", \"A tristeza é como uma tempestade que nos envolve, mas também nos ensina a apreciar a calmaria.\": \"Tristeza\", \"A corrupção é como um câncer que se espalha lentamente, corroendo tudo em seu caminho.\": \"Raiva\", \"A impunidade é um insulto à justiça e à dignidade humana.\": \"Raiva\", \"A injustiça é uma ferida aberta na sociedade que clama por ser curada.\": \"Raiva\", \"A opressão é uma corrente que aprisiona os sonhos daqueles que ousam sonhar.\": \"Raiva\", \"A revolta é a voz dos que se recusam a aceitar a tirania como destino.\": \"Raiva\", \"A notícia da sua recuperação trouxe um alívio imenso para todos nós.\": \"Felicidade\", \"A força de vontade é o motor que nos impulsiona na busca pelos nossos sonhos.\": \"Felicidade\", \"A felicidade está em aproveitar cada momento como se fosse o último.\": \"Felicidade\", \"O amor é a luz que ilumina os caminhos mais escuros da vida.\": \"Felicidade\", \"A amizade verdadeira é um tesouro que jamais perderá seu valor.\": \"Felicidade\", \"A distância apenas fortalece os laços que nos unem.\": \"Tristeza\", \"A ausência torna os momentos juntos ainda mais preciosos.\": \"Tristeza\", \"A tristeza é um mar profundo que às vezes nos engole por inteiro.\": \"Tristeza\", \"Às vezes, é preciso chorar para que a dor dentro de nós encontre alívio.\": \"Tristeza\", \"A raiva é um fogo que consome tudo em seu caminho se não soubermos controlá-la.\": \"Raiva\", \"A injustiça é o combustível que alimenta a chama da revolta.\": \"Raiva\", \"A corrupção é como um câncer que se espalha silenciosamente, corroendo tudo ao redor.\": \"Raiva\", \"A opressão é uma ferida aberta que sangra a esperança dos oprimidos.\": \"Raiva\", \"A impunidade é o veneno que enfraquece a fé na justiça.\": \"Raiva\",\n",
    "    \"Cada amanhecer é uma nova oportunidade de recomeçar e ser feliz.\": \"Felicidade\", \"Um sorriso é capaz de iluminar até os dias mais sombrios.\": \"Felicidade\", \"O som da natureza tem o poder de acalmar a alma mais inquieta.\": \"Felicidade\", \"A simplicidade da vida é onde reside a verdadeira felicidade.\": \"Felicidade\", \"O abraço de um amigo é o melhor remédio para qualquer dor.\": \"Felicidade\", \"A solidão é um mar de silêncio que nos afoga aos poucos.\": \"Tristeza\", \"O vazio dentro de mim só pode ser preenchido com a sua presença.\": \"Tristeza\", \"Às vezes, o silêncio é mais ensurdecedor do que qualquer palavra dita.\": \"Tristeza\", \"A saudade é uma ferida que nunca cicatriza completamente.\": \"Tristeza\", \"O coração partido é uma dor que parece não ter fim.\": \"Tristeza\", \"A corrupção é como uma praga que devora a moral de uma nação.\": \"Raiva\", \"A impunidade é uma afronta à justiça e à dignidade humana.\": \"Raiva\", \"A injustiça é uma ferida aberta na sociedade que clama por ser curada.\": \"Raiva\", \"A opressão é uma corrente que aprisiona os sonhos daqueles que ousam sonhar.\": \"Raiva\", \"A revolta é a voz dos que se recusam a aceitar a tirania como destino.\": \"Raiva\", \"A notícia da sua recuperação trouxe um alívio imenso para todos nós.\": \"Felicidade\", \"A força de vontade é o motor que nos impulsiona na busca pelos nossos sonhos.\": \"Felicidade\", \"A felicidade está em aproveitar cada momento como se fosse o último.\": \"Felicidade\", \"O amor é a luz que ilumina os caminhos mais escuros da vida.\": \"Felicidade\", \"A amizade verdadeira é um tesouro que jamais perderá seu valor.\": \"Felicidade\", \"A distância apenas fortalece os laços que nos unem.\": \"Tristeza\", \"A ausência torna os momentos juntos ainda mais preciosos.\": \"Tristeza\", \"A tristeza é um mar profundo que às vezes nos engole por inteiro.\": \"Tristeza\", \"Às vezes, é preciso chorar para que a dor dentro de nós encontre alívio.\": \"Tristeza\", \"A raiva é um fogo que consome tudo em seu caminho se não soubermos controlá-la.\": \"Raiva\", \"A injustiça é o combustível que alimenta a chama da revolta.\": \"Raiva\", \"A corrupção é como um câncer que se espalha silenciosamente, corroendo tudo ao redor.\": \"Raiva\", \"A opressão é uma ferida aberta que sangra a esperança dos oprimidos.\": \"Raiva\", \"A impunidade é o veneno que enfraquece a fé na justiça.\": \"Raiva\", \"A notícia da sua recuperação trouxe um alívio imenso para todos nós.\": \"Felicidade\",\n",
    "    \"Um sorriso é a chave que abre muitas portas e corações.\": \"Felicidade\", \"A gentileza é um idioma que todos entendem, independentemente de suas origens.\": \"Felicidade\", \"O nascer do sol é um lembrete de que cada dia é uma nova oportunidade para sermos felizes.\": \"Felicidade\", \"A bondade é uma luz que brilha mesmo nas mais densas trevas.\": \"Felicidade\", \"A amizade é um tesouro que enriquece nossas vidas de maneiras incontáveis.\": \"Felicidade\", \"A solidão é um desafio que podemos superar com o amor e a compaixão dos outros.\": \"Tristeza\", \"Às vezes, é nos momentos de maior solidão que descobrimos nossa verdadeira força interior.\": \"Tristeza\", \"A saudade é uma prova do amor que compartilhamos com aqueles que estão longe de nós.\": \"Tristeza\", \"A dor da perda é um teste de nossa capacidade de superação e crescimento pessoal.\": \"Tristeza\", \"A tristeza pode ser uma professora severa, mas suas lições são valiosas para nosso amadurecimento.\": \"Tristeza\", \"A corrupção é um veneno que corrói os alicerces de qualquer sociedade.\": \"Raiva\", \"A impunidade é uma afronta à justiça e à dignidade humana.\": \"Raiva\", \"A injustiça é uma chaga que sangra a alma de uma nação.\": \"Raiva\", \"A opressão é uma violação dos direitos fundamentais de todo ser humano.\": \"Raiva\", \"A revolta é a voz dos que se recusam a aceitar a injustiça como destino.\": \"Raiva\", \"A notícia da sua recuperação trouxe um alívio imenso para todos nós.\": \"Felicidade\", \"A força de vontade é o motor que nos impulsiona na busca pelos nossos sonhos.\": \"Felicidade\", \"A felicidade está em aproveitar cada momento como se fosse o último.\": \"Felicidade\", \"O amor é a luz que ilumina os caminhos mais escuros da vida.\": \"Felicidade\", \"A amizade verdadeira é um tesouro que jamais perderá seu valor.\": \"Felicidade\", \"A distância apenas fortalece os laços que nos unem.\": \"Tristeza\", \"A ausência torna os momentos juntos ainda mais preciosos.\": \"Tristeza\", \"A tristeza é um mar profundo que às vezes nos engole por inteiro.\": \"Tristeza\", \"Às vezes, é preciso chorar para que a dor dentro de nós encontre alívio.\": \"Tristeza\", \"A raiva é um fogo que consome tudo em seu caminho se não soubermos controlá-la.\": \"Raiva\", \"A injustiça é o combustível que alimenta a chama da revolta.\": \"Raiva\", \"A corrupção é como um câncer que se espalha silenciosamente, corroendo tudo ao redor.\": \"Raiva\", \"A opressão é uma ferida aberta que sangra a esperança dos oprimidos.\": \"Raiva\", \"A impunidade é o veneno que enfraquece a fé na justiça.\": \"Raiva\", \"A notícia da sua recuperação trouxe um alívio imenso para todos nós.\": \"Felicidade\"\n",
    "    \n",
    "}\n",
    "\n"
   ]
  },
  {
   "cell_type": "code",
   "execution_count": 4,
   "id": "5c882ade",
   "metadata": {},
   "outputs": [],
   "source": [
    "frases_sentimentos_adicionais = {\"Um sorriso é a chave que abre muitas portas e corações.\": \"Felicidade\", \"A gentileza é um idioma que todos entendem, independentemente de suas origens.\": \"Felicidade\", \"O nascer do sol é um lembrete de que cada dia é uma nova oportunidade para sermos felizes.\": \"Felicidade\", \"A bondade é uma luz que brilha mesmo nas mais densas trevas.\": \"Felicidade\", \"A amizade é um tesouro que enriquece nossas vidas de maneiras incontáveis.\": \"Felicidade\", \"A solidão é um desafio que podemos superar com o amor e a compaixão dos outros.\": \"Tristeza\", \"Às vezes, é nos momentos de maior solidão que descobrimos nossa verdadeira força interior.\": \"Tristeza\", \"A saudade é uma prova do amor que compartilhamos com aqueles que estão longe de nós.\": \"Tristeza\", \"A dor da perda é um teste de nossa capacidade de superação e crescimento pessoal.\": \"Tristeza\", \"A tristeza pode ser uma professora severa, mas suas lições são valiosas para nosso amadurecimento.\": \"Tristeza\", \"A corrupção é um veneno que corrói os alicerces de qualquer sociedade.\": \"Raiva\", \"A impunidade é uma afronta à justiça e à dignidade humana.\": \"Raiva\", \"A injustiça é uma chaga que sangra a alma de uma nação.\": \"Raiva\", \"A opressão é uma violação dos direitos fundamentais de todo ser humano.\": \"Raiva\", \"A revolta é a voz dos que se recusam a aceitar a injustiça como destino.\": \"Raiva\", \"A notícia da sua recuperação trouxe um alívio imenso para todos nós.\": \"Felicidade\", \"A força de vontade é o motor que nos impulsiona na busca pelos nossos sonhos.\": \"Felicidade\", \"A felicidade está em aproveitar cada momento como se fosse o último.\": \"Felicidade\", \"O amor é a luz que ilumina os caminhos mais escuros da vida.\": \"Felicidade\", \"A amizade verdadeira é um tesouro que jamais perderá seu valor.\": \"Felicidade\", \"A distância apenas fortalece os laços que nos unem.\": \"Tristeza\", \"A ausência torna os momentos juntos ainda mais preciosos.\": \"Tristeza\", \"A tristeza é um mar profundo que às vezes nos engole por inteiro.\": \"Tristeza\", \"Às vezes, é preciso chorar para que a dor dentro de nós encontre alívio.\": \"Tristeza\", \"A raiva é um fogo que consome tudo em seu caminho se não soubermos controlá-la.\": \"Raiva\", \"A injustiça é o combustível que alimenta a chama da revolta.\": \"Raiva\", \"A corrupção é como um câncer que se espalha silenciosamente, corroendo tudo ao redor.\": \"Raiva\", \"A opressão é uma ferida aberta que sangra a esperança dos oprimidos.\": \"Raiva\", \"A impunidade é o veneno que enfraquece a fé na justiça.\": \"Raiva\", \"A notícia da sua recuperação trouxe um alívio imenso para todos nós.\": \"Felicidade\"}\n"
   ]
  },
  {
   "cell_type": "code",
   "execution_count": 5,
   "id": "5deb66fe",
   "metadata": {},
   "outputs": [
    {
     "data": {
      "text/html": [
       "<div>\n",
       "<style scoped>\n",
       "    .dataframe tbody tr th:only-of-type {\n",
       "        vertical-align: middle;\n",
       "    }\n",
       "\n",
       "    .dataframe tbody tr th {\n",
       "        vertical-align: top;\n",
       "    }\n",
       "\n",
       "    .dataframe thead th {\n",
       "        text-align: right;\n",
       "    }\n",
       "</style>\n",
       "<table border=\"1\" class=\"dataframe\">\n",
       "  <thead>\n",
       "    <tr style=\"text-align: right;\">\n",
       "      <th></th>\n",
       "      <th>Frase</th>\n",
       "      <th>Sentimento</th>\n",
       "    </tr>\n",
       "  </thead>\n",
       "  <tbody>\n",
       "    <tr>\n",
       "      <th>0</th>\n",
       "      <td>Estou muito feliz com este resultado!</td>\n",
       "      <td>Felicidade</td>\n",
       "    </tr>\n",
       "    <tr>\n",
       "      <th>1</th>\n",
       "      <td>Isso me deixa com muita raiva.</td>\n",
       "      <td>Raiva</td>\n",
       "    </tr>\n",
       "    <tr>\n",
       "      <th>2</th>\n",
       "      <td>Sinto-me triste com essa situação.</td>\n",
       "      <td>Tristeza</td>\n",
       "    </tr>\n",
       "    <tr>\n",
       "      <th>3</th>\n",
       "      <td>Estou tão animado para este evento!</td>\n",
       "      <td>Felicidade</td>\n",
       "    </tr>\n",
       "    <tr>\n",
       "      <th>4</th>\n",
       "      <td>Essa história me deixa arrepiado.</td>\n",
       "      <td>Tristeza</td>\n",
       "    </tr>\n",
       "  </tbody>\n",
       "</table>\n",
       "</div>"
      ],
      "text/plain": [
       "                                   Frase  Sentimento\n",
       "0  Estou muito feliz com este resultado!  Felicidade\n",
       "1         Isso me deixa com muita raiva.       Raiva\n",
       "2     Sinto-me triste com essa situação.    Tristeza\n",
       "3    Estou tão animado para este evento!  Felicidade\n",
       "4      Essa história me deixa arrepiado.    Tristeza"
      ]
     },
     "execution_count": 5,
     "metadata": {},
     "output_type": "execute_result"
    }
   ],
   "source": [
    "df = pd.DataFrame(frases_sentimentos.items(), columns=['Frase', 'Sentimento'])\n",
    "df.head()"
   ]
  },
  {
   "cell_type": "code",
   "execution_count": 6,
   "id": "c0197fec",
   "metadata": {},
   "outputs": [
    {
     "data": {
      "text/plain": [
       "(451, 2)"
      ]
     },
     "execution_count": 6,
     "metadata": {},
     "output_type": "execute_result"
    }
   ],
   "source": [
    "df.shape"
   ]
  },
  {
   "cell_type": "code",
   "execution_count": 7,
   "id": "bbc59641",
   "metadata": {},
   "outputs": [
    {
     "data": {
      "text/plain": [
       "0"
      ]
     },
     "execution_count": 7,
     "metadata": {},
     "output_type": "execute_result"
    }
   ],
   "source": [
    "df.duplicated().sum()"
   ]
  },
  {
   "cell_type": "code",
   "execution_count": 8,
   "id": "59f72c13",
   "metadata": {},
   "outputs": [
    {
     "data": {
      "text/plain": [
       "Felicidade    39.689579\n",
       "Tristeza      32.594235\n",
       "Raiva         27.716186\n",
       "Name: Sentimento, dtype: float64"
      ]
     },
     "execution_count": 8,
     "metadata": {},
     "output_type": "execute_result"
    }
   ],
   "source": [
    "percentual_sentimentos = df['Sentimento'].value_counts(normalize=True) * 100\n",
    "percentual_sentimentos\n"
   ]
  },
  {
   "cell_type": "markdown",
   "id": "1a8065b6",
   "metadata": {},
   "source": [
    "## Preparação dos textos\n"
   ]
  },
  {
   "cell_type": "markdown",
   "id": "67a6f8c2",
   "metadata": {},
   "source": [
    "### Stopwords\n",
    "\n",
    "Pelo pacote nltk"
   ]
  },
  {
   "cell_type": "code",
   "execution_count": 9,
   "id": "12cfa082",
   "metadata": {},
   "outputs": [
    {
     "data": {
      "text/plain": [
       "['a',\n",
       " 'à',\n",
       " 'ao',\n",
       " 'aos',\n",
       " 'aquela',\n",
       " 'aquelas',\n",
       " 'aquele',\n",
       " 'aqueles',\n",
       " 'aquilo',\n",
       " 'as',\n",
       " 'às',\n",
       " 'até',\n",
       " 'com',\n",
       " 'como',\n",
       " 'da',\n",
       " 'das',\n",
       " 'de',\n",
       " 'dela',\n",
       " 'delas',\n",
       " 'dele',\n",
       " 'deles',\n",
       " 'depois',\n",
       " 'do',\n",
       " 'dos',\n",
       " 'e',\n",
       " 'é',\n",
       " 'ela',\n",
       " 'elas',\n",
       " 'ele',\n",
       " 'eles',\n",
       " 'em',\n",
       " 'entre',\n",
       " 'era',\n",
       " 'eram',\n",
       " 'éramos',\n",
       " 'essa',\n",
       " 'essas',\n",
       " 'esse',\n",
       " 'esses',\n",
       " 'esta',\n",
       " 'está',\n",
       " 'estamos',\n",
       " 'estão',\n",
       " 'estar',\n",
       " 'estas',\n",
       " 'estava',\n",
       " 'estavam',\n",
       " 'estávamos',\n",
       " 'este',\n",
       " 'esteja',\n",
       " 'estejam',\n",
       " 'estejamos',\n",
       " 'estes',\n",
       " 'esteve',\n",
       " 'estive',\n",
       " 'estivemos',\n",
       " 'estiver',\n",
       " 'estivera',\n",
       " 'estiveram',\n",
       " 'estivéramos',\n",
       " 'estiverem',\n",
       " 'estivermos',\n",
       " 'estivesse',\n",
       " 'estivessem',\n",
       " 'estivéssemos',\n",
       " 'estou',\n",
       " 'eu',\n",
       " 'foi',\n",
       " 'fomos',\n",
       " 'for',\n",
       " 'fora',\n",
       " 'foram',\n",
       " 'fôramos',\n",
       " 'forem',\n",
       " 'formos',\n",
       " 'fosse',\n",
       " 'fossem',\n",
       " 'fôssemos',\n",
       " 'fui',\n",
       " 'há',\n",
       " 'haja',\n",
       " 'hajam',\n",
       " 'hajamos',\n",
       " 'hão',\n",
       " 'havemos',\n",
       " 'haver',\n",
       " 'hei',\n",
       " 'houve',\n",
       " 'houvemos',\n",
       " 'houver',\n",
       " 'houvera',\n",
       " 'houverá',\n",
       " 'houveram',\n",
       " 'houvéramos',\n",
       " 'houverão',\n",
       " 'houverei',\n",
       " 'houverem',\n",
       " 'houveremos',\n",
       " 'houveria',\n",
       " 'houveriam',\n",
       " 'houveríamos',\n",
       " 'houvermos',\n",
       " 'houvesse',\n",
       " 'houvessem',\n",
       " 'houvéssemos',\n",
       " 'isso',\n",
       " 'isto',\n",
       " 'já',\n",
       " 'lhe',\n",
       " 'lhes',\n",
       " 'mais',\n",
       " 'mas',\n",
       " 'me',\n",
       " 'mesmo',\n",
       " 'meu',\n",
       " 'meus',\n",
       " 'minha',\n",
       " 'minhas',\n",
       " 'muito',\n",
       " 'na',\n",
       " 'não',\n",
       " 'nas',\n",
       " 'nem',\n",
       " 'no',\n",
       " 'nos',\n",
       " 'nós',\n",
       " 'nossa',\n",
       " 'nossas',\n",
       " 'nosso',\n",
       " 'nossos',\n",
       " 'num',\n",
       " 'numa',\n",
       " 'o',\n",
       " 'os',\n",
       " 'ou',\n",
       " 'para',\n",
       " 'pela',\n",
       " 'pelas',\n",
       " 'pelo',\n",
       " 'pelos',\n",
       " 'por',\n",
       " 'qual',\n",
       " 'quando',\n",
       " 'que',\n",
       " 'quem',\n",
       " 'são',\n",
       " 'se',\n",
       " 'seja',\n",
       " 'sejam',\n",
       " 'sejamos',\n",
       " 'sem',\n",
       " 'ser',\n",
       " 'será',\n",
       " 'serão',\n",
       " 'serei',\n",
       " 'seremos',\n",
       " 'seria',\n",
       " 'seriam',\n",
       " 'seríamos',\n",
       " 'seu',\n",
       " 'seus',\n",
       " 'só',\n",
       " 'somos',\n",
       " 'sou',\n",
       " 'sua',\n",
       " 'suas',\n",
       " 'também',\n",
       " 'te',\n",
       " 'tem',\n",
       " 'tém',\n",
       " 'temos',\n",
       " 'tenha',\n",
       " 'tenham',\n",
       " 'tenhamos',\n",
       " 'tenho',\n",
       " 'terá',\n",
       " 'terão',\n",
       " 'terei',\n",
       " 'teremos',\n",
       " 'teria',\n",
       " 'teriam',\n",
       " 'teríamos',\n",
       " 'teu',\n",
       " 'teus',\n",
       " 'teve',\n",
       " 'tinha',\n",
       " 'tinham',\n",
       " 'tínhamos',\n",
       " 'tive',\n",
       " 'tivemos',\n",
       " 'tiver',\n",
       " 'tivera',\n",
       " 'tiveram',\n",
       " 'tivéramos',\n",
       " 'tiverem',\n",
       " 'tivermos',\n",
       " 'tivesse',\n",
       " 'tivessem',\n",
       " 'tivéssemos',\n",
       " 'tu',\n",
       " 'tua',\n",
       " 'tuas',\n",
       " 'um',\n",
       " 'uma',\n",
       " 'você',\n",
       " 'vocês',\n",
       " 'vos']"
      ]
     },
     "execution_count": 9,
     "metadata": {},
     "output_type": "execute_result"
    }
   ],
   "source": [
    "lista_stopwords = nltk.corpus.stopwords.words('portuguese')\n",
    "lista_stopwords"
   ]
  },
  {
   "cell_type": "markdown",
   "id": "1b36a519",
   "metadata": {},
   "source": [
    "### Removendo as stopwords"
   ]
  },
  {
   "cell_type": "code",
   "execution_count": 10,
   "id": "cea02b5f",
   "metadata": {},
   "outputs": [],
   "source": [
    "df_stop = df.copy()"
   ]
  },
  {
   "cell_type": "code",
   "execution_count": 11,
   "id": "498ec445",
   "metadata": {},
   "outputs": [
    {
     "data": {
      "text/html": [
       "<div>\n",
       "<style scoped>\n",
       "    .dataframe tbody tr th:only-of-type {\n",
       "        vertical-align: middle;\n",
       "    }\n",
       "\n",
       "    .dataframe tbody tr th {\n",
       "        vertical-align: top;\n",
       "    }\n",
       "\n",
       "    .dataframe thead th {\n",
       "        text-align: right;\n",
       "    }\n",
       "</style>\n",
       "<table border=\"1\" class=\"dataframe\">\n",
       "  <thead>\n",
       "    <tr style=\"text-align: right;\">\n",
       "      <th></th>\n",
       "      <th>Frase</th>\n",
       "      <th>Sentimento</th>\n",
       "      <th>Frase Limpa</th>\n",
       "    </tr>\n",
       "  </thead>\n",
       "  <tbody>\n",
       "    <tr>\n",
       "      <th>0</th>\n",
       "      <td>Estou muito feliz com este resultado!</td>\n",
       "      <td>Felicidade</td>\n",
       "      <td>feliz resultado !</td>\n",
       "    </tr>\n",
       "    <tr>\n",
       "      <th>1</th>\n",
       "      <td>Isso me deixa com muita raiva.</td>\n",
       "      <td>Raiva</td>\n",
       "      <td>deixa muita raiva .</td>\n",
       "    </tr>\n",
       "    <tr>\n",
       "      <th>2</th>\n",
       "      <td>Sinto-me triste com essa situação.</td>\n",
       "      <td>Tristeza</td>\n",
       "      <td>Sinto-me triste situação .</td>\n",
       "    </tr>\n",
       "    <tr>\n",
       "      <th>3</th>\n",
       "      <td>Estou tão animado para este evento!</td>\n",
       "      <td>Felicidade</td>\n",
       "      <td>tão animado evento !</td>\n",
       "    </tr>\n",
       "    <tr>\n",
       "      <th>4</th>\n",
       "      <td>Essa história me deixa arrepiado.</td>\n",
       "      <td>Tristeza</td>\n",
       "      <td>história deixa arrepiado .</td>\n",
       "    </tr>\n",
       "    <tr>\n",
       "      <th>...</th>\n",
       "      <td>...</td>\n",
       "      <td>...</td>\n",
       "      <td>...</td>\n",
       "    </tr>\n",
       "    <tr>\n",
       "      <th>446</th>\n",
       "      <td>A dor da perda é um teste de nossa capacidade ...</td>\n",
       "      <td>Tristeza</td>\n",
       "      <td>dor perda teste capacidade superação crescimen...</td>\n",
       "    </tr>\n",
       "    <tr>\n",
       "      <th>447</th>\n",
       "      <td>A tristeza pode ser uma professora severa, mas...</td>\n",
       "      <td>Tristeza</td>\n",
       "      <td>tristeza pode professora severa , lições valio...</td>\n",
       "    </tr>\n",
       "    <tr>\n",
       "      <th>448</th>\n",
       "      <td>A corrupção é um veneno que corrói os alicerce...</td>\n",
       "      <td>Raiva</td>\n",
       "      <td>corrupção veneno corrói alicerces qualquer soc...</td>\n",
       "    </tr>\n",
       "    <tr>\n",
       "      <th>449</th>\n",
       "      <td>A injustiça é uma chaga que sangra a alma de u...</td>\n",
       "      <td>Raiva</td>\n",
       "      <td>injustiça chaga sangra alma nação .</td>\n",
       "    </tr>\n",
       "    <tr>\n",
       "      <th>450</th>\n",
       "      <td>A opressão é uma violação dos direitos fundame...</td>\n",
       "      <td>Raiva</td>\n",
       "      <td>opressão violação direitos fundamentais todo h...</td>\n",
       "    </tr>\n",
       "  </tbody>\n",
       "</table>\n",
       "<p>451 rows × 3 columns</p>\n",
       "</div>"
      ],
      "text/plain": [
       "                                                 Frase  Sentimento  \\\n",
       "0                Estou muito feliz com este resultado!  Felicidade   \n",
       "1                       Isso me deixa com muita raiva.       Raiva   \n",
       "2                   Sinto-me triste com essa situação.    Tristeza   \n",
       "3                  Estou tão animado para este evento!  Felicidade   \n",
       "4                    Essa história me deixa arrepiado.    Tristeza   \n",
       "..                                                 ...         ...   \n",
       "446  A dor da perda é um teste de nossa capacidade ...    Tristeza   \n",
       "447  A tristeza pode ser uma professora severa, mas...    Tristeza   \n",
       "448  A corrupção é um veneno que corrói os alicerce...       Raiva   \n",
       "449  A injustiça é uma chaga que sangra a alma de u...       Raiva   \n",
       "450  A opressão é uma violação dos direitos fundame...       Raiva   \n",
       "\n",
       "                                           Frase Limpa  \n",
       "0                                    feliz resultado !  \n",
       "1                                  deixa muita raiva .  \n",
       "2                           Sinto-me triste situação .  \n",
       "3                                 tão animado evento !  \n",
       "4                           história deixa arrepiado .  \n",
       "..                                                 ...  \n",
       "446  dor perda teste capacidade superação crescimen...  \n",
       "447  tristeza pode professora severa , lições valio...  \n",
       "448  corrupção veneno corrói alicerces qualquer soc...  \n",
       "449                injustiça chaga sangra alma nação .  \n",
       "450  opressão violação direitos fundamentais todo h...  \n",
       "\n",
       "[451 rows x 3 columns]"
      ]
     },
     "execution_count": 11,
     "metadata": {},
     "output_type": "execute_result"
    }
   ],
   "source": [
    "def remove_stopwords_from_text(text):\n",
    "    tokens = word_tokenize(text, language='portuguese')\n",
    "    filtered_tokens = [word for word in tokens if word.lower() not in lista_stopwords]\n",
    "    return ' '.join(filtered_tokens)\n",
    "\n",
    "# Remove as stopwords da coluna 'Frase'\n",
    "df_stop['Frase Limpa'] = df_stop['Frase'].apply(remove_stopwords_from_text)\n",
    "df_stop\n"
   ]
  },
  {
   "cell_type": "code",
   "execution_count": 34,
   "id": "d7d0cb02",
   "metadata": {},
   "outputs": [],
   "source": [
    "df_stop.to_csv('stop_words.csv', index=False)"
   ]
  },
  {
   "cell_type": "code",
   "execution_count": null,
   "id": "1e861960",
   "metadata": {},
   "outputs": [],
   "source": []
  },
  {
   "cell_type": "markdown",
   "id": "2b556cbf",
   "metadata": {},
   "source": [
    "### Representação de texto (Bag of word)"
   ]
  },
  {
   "cell_type": "code",
   "execution_count": 12,
   "id": "c94487e5",
   "metadata": {},
   "outputs": [],
   "source": [
    "from sklearn.feature_extraction.text import CountVectorizer"
   ]
  },
  {
   "cell_type": "code",
   "execution_count": 13,
   "id": "34c6e3e2",
   "metadata": {},
   "outputs": [],
   "source": [
    "countvec = CountVectorizer(ngram_range = (1,2))\n",
    "countvec_data = countvec.fit_transform(df_stop['Frase Limpa'])"
   ]
  },
  {
   "cell_type": "code",
   "execution_count": 14,
   "id": "6dd92abc",
   "metadata": {
    "scrolled": true
   },
   "outputs": [
    {
     "name": "stdout",
     "output_type": "stream",
     "text": [
      "{'feliz': 861, 'resultado': 1727, 'feliz resultado': 865, 'deixa': 548, 'muita': 1257, 'raiva': 1672, 'deixa muita': 555, 'muita raiva': 1258, 'sinto': 1853, 'me': 1198, 'triste': 2040, 'situação': 1866, 'sinto me': 1860, 'me triste': 1199, 'triste situação': 2044, 'tão': 2066, 'animado': 142, 'evento': 799, 'tão animado': 2067, 'animado evento': 143, 'história': 986, 'arrepiado': 195, 'história deixa': 987, 'deixa arrepiado': 550, 'fiquei': 903, 'furioso': 941, 'ouvi': 1398, 'fiquei tão': 904, 'tão furioso': 2072, 'furioso ouvi': 944, 'deprimido': 574, 'notícias': 1317, 'hoje': 990, 'deprimido notícias': 575, 'notícias hoje': 1318, 'radiante': 1661, 'notícia': 1303, 'radiante notícia': 1664, 'injustiça': 1062, 'injustiça deixa': 1067, 'deixa furioso': 552, 'coração': 478, 'doendo': 665, 'tristeza': 2046, 'coração doendo': 481, 'doendo tristeza': 666, 'chocado': 347, 'revelação': 1738, 'chocado revelação': 348, 'transbordando': 2025, 'felicidade': 849, 'transbordando felicidade': 2027, 'sentindo': 1817, 'miserável': 1225, 'sentindo tão': 1818, 'tão miserável': 2074, 'vitória': 2170, 'radiante vitória': 1669, 'tanto': 1975, 'medo': 1200, 'situação deixa': 1868, 'deixa tanto': 557, 'tanto medo': 1977, 'faz': 839, 'ferver': 876, 'injustiça faz': 1069, 'faz ferver': 843, 'ferver raiva': 877, 'completamente': 399, 'desamparado': 585, 'sinto completamente': 1856, 'completamente desamparado': 402, 'eufórico': 797, 'eufórico notícia': 798, 'pode': 1497, 'acontecer': 45, 'medo pode': 1201, 'pode acontecer': 1499, 'perder': 1471, 'controle': 471, 'tanta': 1972, 'faz perder': 844, 'perder controle': 1472, 'controle tanta': 472, 'tanta raiva': 1974, 'partido': 1427, 'coração partido': 485, 'partido notícia': 1430, 'emoção': 700, 'felicidade emoção': 853, 'enfurece': 730, 'situação enfurece': 1869, 'enfurece tanto': 731, 'devastado': 622, 'tragédia': 2023, 'devastado tragédia': 625, 'conquista': 430, 'radiante conquista': 1663, 'extasiado': 814, 'descoberta': 590, 'extasiado descoberta': 815, 'alegria': 66, 'imensa': 1007, 'deixa alegria': 549, 'alegria imensa': 69, 'trouxe': 2056, 'sorriso': 1925, 'enorme': 738, 'notícia trouxe': 1316, 'trouxe sorriso': 2058, 'sorriso enorme': 1930, 'fico': 884, 'amigos': 131, 'fico tão': 885, 'tão feliz': 2071, 'feliz amigos': 862, 'sucesso': 1945, 'projeto': 1611, 'radiante sucesso': 1668, 'sucesso projeto': 1947, 'poder': 1510, 'ir': 1088, 'tão triste': 2075, 'triste poder': 2043, 'poder ir': 1517, 'ir evento': 1089, 'dói': 690, 'saudade': 1774, 'velhos': 2116, 'tempos': 1988, 'coração dói': 482, 'dói saudade': 693, 'saudade velhos': 1782, 'velhos tempos': 2117, 'aguento': 53, 'sensação': 1807, 'vazio': 2104, 'aguento sensação': 54, 'sensação vazio': 1811, 'aperto': 165, 'peito': 1452, 'lembrar': 1132, 'perda': 1461, 'sinto aperto': 1854, 'aperto peito': 166, 'peito lembrar': 1453, 'lembrar perda': 1135, 'terrível': 1994, 'devastado notícia': 623, 'notícia terrível': 1315, 'incompetência': 1030, 'dessa': 606, 'empresa': 708, 'furioso incompetência': 943, 'incompetência dessa': 1033, 'dessa empresa': 607, 'atitude': 204, 'irritado': 1092, 'atitude deixa': 206, 'deixa tão': 558, 'tão irritado': 2073, 'consigo': 437, 'suportar': 1961, 'falta': 822, 'respeito': 1718, 'consigo suportar': 449, 'suportar falta': 1962, 'falta respeito': 829, 'mal': 1180, 'falar': 816, 'raiva mal': 1679, 'mal consigo': 1181, 'consigo falar': 441, 'querer': 1646, 'gritar': 975, 'faz querer': 845, 'querer gritar': 1647, 'gritar raiva': 976, 'novidade': 1324, 'transbordando alegria': 2026, 'alegria novidade': 74, 'apaixonado': 154, 'filme': 893, 'completamente apaixonado': 400, 'apaixonado filme': 155, 'chegada': 340, 'férias': 947, 'radiante chegada': 1662, 'chegada férias': 342, 'passar': 1440, 'tempo': 1985, 'família': 831, 'alegria poder': 76, 'poder passar': 1519, 'passar tempo': 1442, 'tempo família': 1986, 'posso': 1548, 'conter': 465, 'feliz mal': 863, 'mal posso': 1182, 'posso conter': 1549, 'conter sorriso': 468, 'presente': 1574, 'festa': 878, 'poder presente': 1520, 'presente festa': 1581, 'lembrança': 1127, 'traz': 2034, 'lágrimas': 1168, 'olhos': 1360, 'lembrança traz': 1129, 'traz lágrimas': 2036, 'lágrimas olhos': 1172, 'solidão': 1891, 'consumindo': 460, 'poucos': 1551, 'solidão consumindo': 1894, 'consumindo poucos': 461, 'imenso': 1008, 'dentro': 570, 'mim': 1215, 'sinto vazio': 1862, 'vazio imenso': 2107, 'imenso dentro': 1009, 'dentro mim': 573, 'atual': 211, 'deprimido situação': 576, 'situação atual': 1867, 'revoltado': 1749, 'ética': 2195, 'revoltado falta': 1751, 'falta ética': 830, 'ética dessa': 2196, 'inaceitável': 1026, 'atitude completamente': 205, 'completamente inaceitável': 404, 'último': 2200, 'fio': 901, 'cabelo': 268, 'raiva último': 1680, 'último fio': 2201, 'fio cabelo': 902, 'enfurecido': 732, 'incompetência deixa': 1032, 'deixa enfurecido': 551, 'zangado': 2190, 'raciocinar': 1659, 'direito': 652, 'tão zangado': 2076, 'zangado mal': 2191, 'consigo raciocinar': 446, 'raciocinar direito': 1660, 'novo': 1326, 'emprego': 706, 'notícia novo': 1311, 'novo emprego': 1331, 'borboletas': 239, 'estômago': 796, 'feliz sinto': 866, 'sinto borboletas': 1855, 'borboletas estômago': 240, 'motivo': 1248, 'grande': 963, 'conquista motivo': 431, 'motivo grande': 1249, 'grande alegria': 964, 'nuvens': 1346, 'exame': 802, 'nuvens resultado': 1347, 'resultado exame': 1728, 'realizar': 1684, 'sonho': 1919, 'poder realizar': 1522, 'realizar sonho': 1685, 'participar': 1425, 'celebração': 322, 'poder participar': 1518, 'participar celebração': 1426, 'golpe': 961, 'duro': 686, 'demais': 563, 'perda golpe': 1464, 'golpe duro': 962, 'duro demais': 687, 'peso': 1487, 'passado': 1434, 'sinto peso': 1861, 'peso coração': 1488, 'coração lembrar': 484, 'lembrar passado': 1134, 'dor': 673, 'passa': 1432, 'saudade dor': 1775, 'dor passa': 680, 'concentrar': 417, 'triste mal': 2042, 'consigo concentrar': 438, 'corrupção': 498, 'neste': 1299, 'país': 1446, 'revoltado corrupção': 1750, 'corrupção neste': 503, 'neste país': 1301, 'absurdo': 22, 'completo': 406, 'injustiça absurdo': 1063, 'absurdo completo': 23, 'cabe': 265, 'raiva cabe': 1674, 'cabe mim': 266, 'deixa mim': 554, 'tão enfurecido': 2068, 'enfurecido mal': 734, 'casamento': 320, 'notícia casamento': 1306, 'consigo conter': 439, 'conter lágrimas': 467, 'compartilhar': 397, 'momento': 1228, 'poder compartilhar': 1514, 'compartilhar momento': 398, 'vou': 2182, 'explodir': 807, 'sinto vou': 1863, 'vou explodir': 2183, 'explodir alegria': 808, 'ver': 2129, 'filho': 888, 'crescer': 515, 'felicidade poder': 856, 'poder ver': 1524, 'ver filho': 2131, 'filho crescer': 890, 'nova': 1319, 'feliz nova': 864, 'nova conquista': 1321, 'indescritível': 1042, 'alegria indescritível': 70, 'orelha': 1388, 'sorriso orelha': 1932, 'orelha orelha': 1389, 'vejo': 2113, 'feliz vejo': 867, 'vejo sucesso': 2115, 'sucesso amigos': 1946, 'radiante resultado': 1666, 'resultado projeto': 1730, 'aniversário': 144, 'presente aniversário': 1576, 'saudades': 1784, 'dói saudades': 694, 'saudades velhos': 1787, 'suporto': 1964, 'consome': 450, 'suporto sensação': 1967, 'vazio consome': 2105, 'sofri': 1880, 'perda sofri': 1467, 'recebi': 1690, 'terrível recebi': 1995, 'tolero': 2013, 'tolero falta': 2014, 'falar direito': 817, 'novidade recebi': 1325, 'acabei': 24, 'assistir': 200, 'filme acabei': 894, 'acabei assistir': 25, 'esperadas': 783, 'férias tão': 948, 'tão esperadas': 2070, 'reunida': 1736, 'família reunida': 832, 'rosto': 1760, 'sorriso rosto': 1934, 'festa aniversário': 879, 'desde': 596, 'partiu': 1431, 'mim desde': 1216, 'desde partiu': 597, 'mundo': 1261, 'atual mundo': 212, 'inaceitável deixa': 1027, 'deixa revoltado': 556, 'consegui': 434, 'emprego consegui': 707, 'alegria mim': 72, 'positivo': 1541, 'resultado positivo': 1729, 'positivo exame': 1542, 'almejei': 106, 'sonho tanto': 1920, 'tanto almejei': 1976, 'celebração vitória': 323, 'superar': 1957, 'demais superar': 564, 'ficou': 886, 'trás': 2059, 'passado ficou': 1435, 'ficou trás': 887, 'dia': 631, 'após': 182, 'passa consome': 1433, 'consome dia': 453, 'dia após': 633, 'após dia': 185, 'atividades': 209, 'concentrar atividades': 418, 'atividades dia': 210, 'dia dia': 635, 'assola': 201, 'corrupção assola': 499, 'assola país': 202, 'completo deixa': 407, 'mim tanta': 1220, 'lágrimas emoção': 1169, 'especial': 782, 'momento tão': 1229, 'tão especial': 2069, 'qualquer': 1633, 'alegria qualquer': 77, 'qualquer momento': 1637, 'saudável': 1788, 'crescer saudável': 516, 'saudável feliz': 1789, 'oportunidade': 1371, 'incrível': 1038, 'surgiu': 1970, 'radiante oportunidade': 1665, 'oportunidade incrível': 1374, 'incrível surgiu': 1039, 'enche': 711, 'enche alegria': 712, 'sorriso cabe': 1926, 'cabe rosto': 267, 'filhos': 891, 'crescendo': 512, 'felizes': 869, 'vejo filhos': 2114, 'filhos crescendo': 892, 'crescendo felizes': 513, 'resultados': 1731, 'positivos': 1544, 'radiante resultados': 1667, 'resultados positivos': 1732, 'positivos projeto': 1545, 'abraçar': 6, 'pais': 1406, 'poder abraçar': 1511, 'abraçar pais': 8, 'pais neste': 1408, 'neste momento': 1300, 'momentos': 1232, 'vivemos': 2174, 'juntos': 1105, 'saudades momentos': 1786, 'momentos vivemos': 1237, 'vivemos juntos': 2175, 'suporto vazio': 1969, 'vazio sinto': 2112, 'sinto dentro': 1858, 'palavras': 1411, 'ditas': 663, 'lembrar palavras': 1133, 'palavras ditas': 1413, 'pegou': 1450, 'todos': 2010, 'surpresa': 1971, 'devastado perda': 624, 'perda pegou': 1466, 'pegou todos': 1451, 'todos surpresa': 2012, 'comprometimento': 410, 'equipe': 759, 'furioso falta': 942, 'falta comprometimento': 824, 'comprometimento dessa': 412, 'dessa equipe': 608, 'irritado mal': 1093, 'consideração': 436, 'respeito consideração': 1719, 'controlar': 469, 'punhos': 1626, 'cerrados': 324, 'consigo controlar': 440, 'controlar punhos': 470, 'punhos cerrados': 1627, 'indignação': 1048, 'gritar tanta': 977, 'raiva indignação': 1678, 'maravilhosa': 1193, 'alegria notícia': 73, 'notícia maravilhosa': 1308, 'maravilhosa recebi': 1195, 'encantado': 709, 'desse': 609, 'livro': 1152, 'completamente encantado': 403, 'encantado história': 710, 'história desse': 988, 'desse livro': 610, 'membro': 1208, 'chegada novo': 343, 'novo membro': 1332, 'membro família': 1209, 'único': 2204, 'momento único': 1231, 'conter emoção': 466, 'amigo': 128, 'presente casamento': 1578, 'casamento grande': 321, 'grande amigo': 965, 'nó': 1348, 'garganta': 952, 'olhos nó': 1362, 'nó garganta': 1349, 'corroendo': 492, 'veneno': 2122, 'silencioso': 1833, 'solidão corroendo': 1895, 'corroendo poucos': 493, 'poucos veneno': 1552, 'veneno silencioso': 2128, 'profundo': 1608, 'nada': 1270, 'parece': 1416, 'preencher': 1570, 'vazio profundo': 2110, 'profundo dentro': 1609, 'mim nada': 1217, 'nada parece': 1273, 'parece preencher': 1420, 'humanidade': 994, 'mundo humanidade': 1263, 'inteiro': 1081, 'país mundo': 1447, 'mundo inteiro': 1264, 'última': 2198, 'fibra': 881, 'atitude inaceitável': 207, 'revoltado última': 1753, 'última fibra': 2199, 'raiva consome': 1676, 'consome inteiro': 454, 'além': 110, 'conta': 462, 'enfurecido além': 733, 'além conta': 111, 'formular': 918, 'coerentes': 378, 'consigo formular': 442, 'formular palavras': 919, 'palavras coerentes': 1412, 'nascimento': 1277, 'bebê': 225, 'notícia nascimento': 1310, 'nascimento bebê': 1278, 'transbordar': 2028, 'sinto coração': 1857, 'coração transbordar': 486, 'transbordar alegria': 2029, 'orgulho': 1390, 'alegria orgulho': 75, 'teste': 2001, 'positivo teste': 1543, 'tornando': 2020, 'realidade': 1683, 'ver sonho': 2136, 'sonho tornando': 1921, 'tornando realidade': 2021, 'despedida': 599, 'solteiro': 1907, 'melhor': 1202, 'presente despedida': 1580, 'despedida solteiro': 603, 'solteiro melhor': 1908, 'melhor amigo': 1203, 'sozinho': 1939, 'demais suportar': 565, 'suportar sozinho': 1963, 'ter': 1989, 'fim': 895, 'peso peito': 1489, 'peito parece': 1454, 'parece ter': 1421, 'ter fim': 1990, 'ferida': 870, 'nunca': 1335, 'cicatriza': 363, 'saudade ferida': 1776, 'ferida nunca': 873, 'nunca cicatriza': 1336, 'cicatriza completamente': 364, 'levantar': 1144, 'cama': 300, 'consigo levantar': 443, 'levantar cama': 1145, 'moral': 1238, 'ética moral': 2197, 'moral dessa': 1239, 'ultraje': 2078, 'âmago': 2192, 'atitude ultraje': 208, 'ultraje deixa': 2079, 'revoltado âmago': 1752, 'borbulha': 241, 'raiva borbulha': 1673, 'borbulha dentro': 242, 'respirar': 1720, 'consigo respirar': 447, 'retorno': 1734, 'querido': 1650, 'notícia retorno': 1314, 'retorno amigo': 1735, 'amigo querido': 130, 'lágrimas felicidade': 1170, 'explodir tanta': 809, 'tanta alegria': 1973, 'filho crescendo': 889, 'crescendo saudável': 514, 'finalmente': 897, 'alcançar': 60, 'sonhos': 1922, 'finalmente consegui': 898, 'consegui alcançar': 435, 'alcançar sonhos': 63, 'sol': 1883, 'brilha': 243, 'forte': 922, 'lado': 1115, 'sol brilha': 1885, 'brilha forte': 245, 'forte lado': 923, 'tudo': 2060, 'preciso': 1563, 'sorriso tudo': 1936, 'tudo preciso': 2062, 'preciso feliz': 1566, 'obrigado': 1356, 'existir': 803, 'iluminar': 1002, 'dias': 642, 'obrigado existir': 1357, 'existir iluminar': 804, 'iluminar dias': 1005, 'vida': 2156, 'aventura': 221, 'vida aventura': 2157, 'aventura maravilhosa': 222, 'maravilhosa lado': 1194, 'cada': 269, 'segundo': 1799, 'longe': 1155, 'sinto falta': 1859, 'falta cada': 823, 'cada segundo': 283, 'segundo longe': 1800, 'chora': 349, 'abraços': 15, 'coração chora': 480, 'chora saudades': 351, 'saudades abraços': 1785, 'parece completo': 1418, 'completo lado': 408, 'cinzentos': 368, 'perto': 1482, 'dias cinzentos': 643, 'cinzentos perto': 369, 'queria': 1648, 'voltar': 2178, 'reviver': 1739, 'queria poder': 1649, 'poder voltar': 1525, 'voltar tempo': 2179, 'tempo reviver': 1987, 'reviver momentos': 1740, 'momentos juntos': 1235, 'quero': 1656, 'ouvir': 1400, 'desculpas': 593, 'cansado': 308, 'disso': 657, 'quero ouvir': 1657, 'ouvir desculpas': 1401, 'desculpas cansado': 594, 'cansado disso': 309, 'magoou': 1173, 'profundamente': 1604, 'perdoar': 1477, 'magoou profundamente': 1175, 'profundamente consigo': 1605, 'consigo perdoar': 444, 'chega': 338, 'mentiras': 1212, 'saber': 1767, 'chega mentiras': 339, 'mentiras quero': 1213, 'quero saber': 1658, 'farto': 837, 'promessas': 1615, 'vazias': 2101, 'falsas': 820, 'esperanças': 787, 'farto promessas': 838, 'promessas vazias': 1616, 'vazias falsas': 2103, 'falsas esperanças': 821, 'representa': 1715, 'suporto situação': 1968, 'situação tudo': 1870, 'tudo representa': 2064, 'projeto equipe': 1612, 'verdadeira': 2139, 'pequenas': 1459, 'coisas': 379, 'felicidade verdadeira': 860, 'verdadeira pequenas': 2145, 'pequenas coisas': 1460, 'coisas vida': 380, 'compara': 391, 'objetivo': 1350, 'nada compara': 1271, 'compara sensação': 392, 'sensação alcançar': 1808, 'alcançar objetivo': 61, 'viver': 2176, 'amanhecer': 119, 'alegria viver': 81, 'viver cada': 2177, 'cada amanhecer': 271, 'cada conquista': 273, 'conquista vitória': 433, 'vitória enche': 2172, 'enche felicidade': 715, 'arrasado': 193, 'falecimento': 818, 'arrasado notícia': 194, 'notícia falecimento': 1307, 'falecimento amigo': 819, 'alguém': 82, 'preenche': 1569, 'perda alguém': 1462, 'alguém querido': 85, 'querido vazio': 1653, 'vazio nunca': 2108, 'nunca preenche': 1340, 'dor despedida': 675, 'despedida ferida': 600, 'cicatriza completo': 365, 'preço': 1590, 'paga': 1402, 'amar': 124, 'verdadeiramente': 2147, 'saudade preço': 1779, 'preço paga': 1591, 'paga amar': 1403, 'amar verdadeiramente': 125, 'pedaço': 1448, 'vai': 2088, 'junto': 1104, 'cada despedida': 274, 'despedida pedaço': 602, 'pedaço mim': 1449, 'mim vai': 1221, 'vai junto': 2089, 'trabalho': 2022, 'suporto incompetência': 1966, 'equipe trabalho': 760, 'indignado': 1045, 'profissionalismo': 1602, 'indignado falta': 1046, 'falta profissionalismo': 828, 'profissionalismo dessa': 1603, 'alheia': 87, 'fonte': 914, 'inesgotável': 1051, 'irritação': 1094, 'incompetência alheia': 1031, 'alheia fonte': 88, 'fonte inesgotável': 915, 'inesgotável irritação': 1054, 'colegas': 381, 'comprometimento colegas': 411, 'negligência': 1290, 'descaso': 588, 'tolero negligência': 2017, 'negligência descaso': 1291, 'descaso trabalho': 589, 'sobrinho': 1875, 'novo sobrinho': 1334, 'emoção dentro': 701, 'tio': 2003, 'aquece': 186, 'alegria tio': 80, 'tio presente': 2004, 'presente aquece': 1577, 'aquece coração': 187, 'risada': 1754, 'criança': 520, 'raio': 1670, 'cada risada': 282, 'risada criança': 1755, 'criança raio': 522, 'raio sol': 1671, 'sol vida': 1890, 'inocência': 1074, 'infantil': 1058, 'inocência infantil': 1075, 'infantil fonte': 1059, 'inesgotável felicidade': 1052, 'acidente': 40, 'notícia acidente': 1304, 'acidente amigo': 41, 'lembra': 1124, 'fragilidade': 929, 'humana': 993, 'tragédia lembra': 2024, 'lembra fragilidade': 1126, 'fragilidade vida': 930, 'vida humana': 2160, 'fardo': 833, 'nenhum': 1296, 'ombro': 1363, 'aguenta': 51, 'dor perda': 681, 'perda fardo': 1463, 'fardo nenhum': 835, 'nenhum ombro': 1297, 'ombro aguenta': 1364, 'aguenta sozinho': 52, 'morte': 1243, 'confrontar': 426, 'própria': 1622, 'mortalidade': 1242, 'morte faz': 1245, 'faz confrontar': 840, 'confrontar própria': 427, 'própria mortalidade': 1623, 'única': 2202, 'prova': 1619, 'realmente': 1686, 'existiu': 805, 'saudade única': 1783, 'única prova': 2203, 'prova passado': 1621, 'passado realmente': 1436, 'realmente existiu': 1687, 'desses': 611, 'políticos': 1530, 'corruptos': 497, 'incompetência desses': 1034, 'desses políticos': 612, 'políticos corruptos': 1531, 'honestidade': 991, 'público': 1632, 'falta honestidade': 826, 'honestidade poder': 992, 'poder público': 1521, 'chaga': 325, 'devora': 626, 'essência': 789, 'sociedade': 1876, 'corrupção chaga': 500, 'chaga devora': 326, 'devora essência': 628, 'essência sociedade': 791, 'revolta': 1741, 'cresce': 510, 'escândalo': 770, 'político': 1528, 'revelado': 1737, 'revolta cresce': 1744, 'cresce cada': 511, 'cada escândalo': 276, 'escândalo político': 771, 'político revelado': 1529, 'impunidade': 1019, 'grassam': 966, 'tolero impunidade': 2015, 'impunidade injustiça': 1022, 'injustiça grassam': 1071, 'grassam país': 967, 'promoção': 1617, 'notícia promoção': 1312, 'promoção trabalho': 1618, 'objetivos': 1351, 'alegria alcançar': 67, 'alcançar objetivos': 62, 'objetivos indescritível': 1352, 'profissional': 1600, 'impulsiona': 1016, 'conquista profissional': 432, 'profissional vitória': 1601, 'vitória impulsiona': 2173, 'maior': 1176, 'todas': 2007, 'felicidade alcançar': 850, 'objetivos maior': 1353, 'maior todas': 1178, 'bênção': 263, 'agradeço': 50, 'cada dia': 275, 'dia lado': 637, 'lado bênção': 1116, 'bênção agradeço': 264, 'aprovação': 178, 'vestibular': 2148, 'notícia aprovação': 1305, 'aprovação vestibular': 179, 'luz': 1161, 'ilumina': 998, 'sombrios': 1917, 'luz ilumina': 1165, 'ilumina dias': 1000, 'dias sombrios': 646, 'sorrir': 1924, 'nada faz': 1272, 'faz feliz': 842, 'feliz ver': 868, 'ver sorrir': 2137, 'felicidade preço': 857, 'parte': 1422, 'perdeu': 1476, 'falta parte': 827, 'parte mim': 1424, 'mim perdeu': 1218, 'companhia': 388, 'solidão companhia': 1893, 'companhia desde': 389, 'nada triste': 1274, 'triste ter': 2045, 'ter lado': 1991, 'ausência': 213, 'chora ausência': 350, 'ausência cada': 215, 'penso': 1457, 'dois': 669, 'separados': 1819, 'tristeza consome': 2047, 'consome penso': 455, 'penso dois': 1458, 'dois separados': 670, 'decepcionou': 543, 'sei': 1801, 'decepcionou profundamente': 544, 'profundamente sei': 1606, 'sei posso': 1802, 'posso perdoar': 1550, 'desculpas magoou': 595, 'magoou demais': 1174, 'indiferença': 1043, 'irrita': 1090, 'palavra': 1409, 'dita': 662, 'indiferença irrita': 1044, 'irrita qualquer': 1091, 'qualquer palavra': 1638, 'palavra dita': 1410, 'vazias esperanças': 2102, 'esperanças falsas': 788, 'comprometimento enche': 413, 'enche raiva': 716, 'nascimento sobrinho': 1279, 'alegria maior': 71, 'maior ver': 1179, 'ver chegada': 2130, 'ganha': 950, 'sentido': 1812, 'vida ganha': 2159, 'ganha novo': 951, 'novo sentido': 1333, 'sentido chegada': 1813, 'chegada criança': 341, 'estampada': 792, 'contagiante': 463, 'felicidade estampada': 854, 'estampada rosto': 793, 'rosto pais': 1762, 'pais contagiante': 1407, 'choro': 355, 'melodia': 1206, 'cada choro': 272, 'choro bebê': 356, 'bebê melodia': 226, 'melodia enche': 1207, 'enche coração': 714, 'coração alegria': 479, 'ente': 747, 'notícia morte': 1309, 'morte ente': 1244, 'ente querido': 748, 'difícil': 647, 'jornada': 1101, 'despedida parte': 601, 'parte difícil': 1423, 'difícil qualquer': 648, 'qualquer jornada': 1636, 'luto': 1158, 'processo': 1596, 'doloroso': 671, 'necessário': 1286, 'seguir': 1797, 'frente': 931, 'luto processo': 1160, 'processo doloroso': 1597, 'doloroso necessário': 672, 'necessário seguir': 1287, 'seguir frente': 1798, 'lembranças': 1130, 'resta': 1724, 'lembranças tudo': 1131, 'tudo resta': 2065, 'resta alguém': 1725, 'alguém vai': 86, 'finitude': 899, 'importância': 1014, 'amor': 135, 'morte lembra': 1246, 'lembra finitude': 1125, 'finitude vida': 900, 'vida importância': 2161, 'importância amor': 1015, 'suporto corrupção': 1965, 'reina': 1704, 'indignado impunidade': 1047, 'impunidade reina': 1024, 'reina sociedade': 1705, 'aberta': 0, 'injustiça ferida': 1070, 'ferida aberta': 871, 'aberta nunca': 3, 'voz': 2184, 'daqueles': 539, 'aceitam': 32, 'opressão': 1377, 'revolta voz': 1748, 'voz daqueles': 2186, 'daqueles aceitam': 540, 'aceitam opressão': 34, 'poderosos': 1526, 'pisarem': 1495, 'fracos': 928, 'cansado ver': 310, 'ver poderosos': 2133, 'poderosos pisarem': 1527, 'pisarem fracos': 1496, 'ver sucesso': 2138, 'alcançando': 58, 'felicidade saber': 858, 'saber alcançando': 1768, 'alcançando sonhos': 59, 'recompensa': 1693, 'esforço': 772, 'dedicação': 545, 'sucesso recompensa': 1948, 'recompensa esforço': 1694, 'esforço dedicação': 773, 'degrau': 546, 'rumo': 1764, 'cada vitória': 285, 'vitória degrau': 2171, 'degrau rumo': 547, 'rumo objetivos': 1765, 'aniversário sobrinho': 145, 'distância': 658, 'distância dói': 660, 'dói qualquer': 692, 'entes': 751, 'queridos': 1654, 'triste festa': 2041, 'festa entes': 880, 'entes queridos': 752, 'especiais': 780, 'ficam': 882, 'incompletos': 1036, 'momentos especiais': 1233, 'especiais ficam': 781, 'ficam incompletos': 883, 'ausência ente': 217, 'querido ferida': 1652, 'deste': 613, 'tolero incompetência': 2016, 'incompetência políticos': 1035, 'políticos deste': 1532, 'deste país': 614, 'compromisso': 414, 'povo': 1553, 'falta compromisso': 825, 'compromisso povo': 415, 'câncer': 531, 'corrupção câncer': 501, 'câncer devora': 533, 'devora sociedade': 630, 'sociedade dentro': 1879, 'serem': 1820, 'enganados': 735, 'aceitam serem': 35, 'serem enganados': 1821, 'interesses': 1082, 'pessoais': 1491, 'prevalecerem': 1588, 'sobre': 1871, 'bem': 232, 'comum': 416, 'ver interesses': 2132, 'interesses pessoais': 1083, 'pessoais prevalecerem': 1492, 'prevalecerem sobre': 1589, 'sobre bem': 1873, 'bem comum': 233, 'recuperação': 1695, 'cirurgia': 370, 'notícia recuperação': 1313, 'recuperação após': 1696, 'após cirurgia': 184, 'saúde': 1790, 'restabelecida': 1726, 'ver saúde': 2134, 'saúde entes': 1791, 'queridos restabelecida': 1655, 'amamos': 116, 'abraçar amamos': 7, 'amamos medo': 118, 'brilho': 246, 'superamos': 1955, 'desafios': 583, 'novo brilho': 1328, 'brilho superamos': 249, 'superamos desafios': 1956, 'desafios juntos': 584, 'obstáculo': 1358, 'vencido': 2120, 'renova': 1712, 'cada obstáculo': 280, 'obstáculo vencido': 1359, 'vencido alegria': 2121, 'alegria renova': 78, 'renova dentro': 1713, 'abraço': 9, 'refúgio': 1702, 'alma': 96, 'cada abraço': 270, 'abraço refúgio': 14, 'refúgio alma': 1703, 'morte sobrinho': 1247, 'crianças': 523, 'lembrete': 1136, 'constante': 457, 'pureza': 1628, 'brilho olhos': 247, 'olhos crianças': 1361, 'crianças lembrete': 524, 'lembrete constante': 1138, 'constante pureza': 459, 'pureza alma': 1629, 'apertado': 161, 'curar': 526, 'feridas': 874, 'profundas': 1607, 'abraço apertado': 11, 'apertado poder': 163, 'poder curar': 1515, 'curar feridas': 528, 'feridas profundas': 875, 'som': 1909, 'chuva': 357, 'batendo': 223, 'janela': 1097, 'paz': 1443, 'inexplicável': 1056, 'som chuva': 1910, 'chuva batendo': 358, 'batendo janela': 224, 'janela traz': 1098, 'traz paz': 2037, 'paz inexplicável': 1444, 'inexplicável coração': 1057, 'recomeçar': 1691, 'cada novo': 279, 'novo amanhecer': 1327, 'amanhecer oportunidade': 121, 'oportunidade recomeçar': 1375, 'recomeçar feliz': 1692, 'estranho': 794, 'escuridão': 763, 'sorriso estranho': 1931, 'estranho pode': 795, 'pode iluminar': 1502, 'iluminar dia': 1004, 'dia alguém': 632, 'alguém escuridão': 83, 'preenchido': 1571, 'calor': 293, 'humano': 995, 'solidão vazio': 1904, 'vazio pode': 2109, 'pode preenchido': 1504, 'preenchido calor': 1572, 'calor humano': 294, 'silêncio': 1834, 'gritante': 973, 'silêncio gritante': 1838, 'gritante ausência': 974, 'ausência ferida': 219, 'vezes': 2149, 'encontrar': 719, 'túnel': 2077, 'vezes preciso': 2153, 'preciso perder': 1567, 'perder escuridão': 1473, 'escuridão encontrar': 764, 'encontrar luz': 720, 'luz fim': 1164, 'fim túnel': 896, 'nuvem': 1342, 'negra': 1292, 'paira': 1404, 'eventualmente': 800, 'tristeza nuvem': 2049, 'nuvem negra': 1344, 'negra paira': 1293, 'paira sobre': 1405, 'sobre eventualmente': 1874, 'eventualmente passa': 801, 'carregamos': 315, 'compartilhamos': 395, 'fardo carregamos': 834, 'carregamos lembrança': 316, 'lembrança amor': 1128, 'amor compartilhamos': 137, 'envenena': 753, 'nação': 1284, 'corrupção veneno': 506, 'veneno envenena': 2126, 'envenena alma': 754, 'alma nação': 102, 'insulto': 1078, 'dignidade': 649, 'buscam': 259, 'justiça': 1107, 'impunidade insulto': 1023, 'insulto dignidade': 1079, 'dignidade daqueles': 650, 'daqueles buscam': 541, 'buscam justiça': 260, 'aberta alma': 1, 'alma humanidade': 100, 'corrente': 490, 'aprisiona': 174, 'ousam': 1394, 'sonhar': 1918, 'opressão corrente': 1379, 'corrente aprisiona': 491, 'aprisiona sonhos': 177, 'sonhos daqueles': 1923, 'daqueles ousam': 542, 'ousam sonhar': 1395, 'destino': 615, 'voz aceitam': 2185, 'aceitam injustiça': 33, 'injustiça destino': 1068, 'alívio': 112, 'recuperação trouxe': 1697, 'trouxe alívio': 2057, 'alívio imenso': 114, 'imenso todos': 1010, 'força': 924, 'vontade': 2180, 'motor': 1250, 'busca': 256, 'força vontade': 927, 'vontade motor': 2181, 'motor impulsiona': 1251, 'impulsiona busca': 1017, 'busca sonhos': 258, 'aproveitar': 180, 'felicidade aproveitar': 851, 'aproveitar cada': 181, 'cada momento': 278, 'momento último': 1230, 'caminhos': 305, 'escuros': 768, 'amor luz': 140, 'ilumina caminhos': 999, 'caminhos escuros': 306, 'escuros vida': 769, 'amizade': 132, 'tesouro': 1996, 'jamais': 1095, 'perderá': 1474, 'valor': 2093, 'amizade verdadeira': 134, 'verdadeira tesouro': 2146, 'tesouro jamais': 1999, 'jamais perderá': 1096, 'perderá valor': 1475, 'apenas': 156, 'fortalece': 920, 'laços': 1121, 'unem': 2083, 'distância apenas': 659, 'apenas fortalece': 159, 'fortalece laços': 921, 'laços unem': 1123, 'torna': 2018, 'ainda': 55, 'preciosos': 1560, 'ausência torna': 220, 'torna momentos': 2019, 'juntos ainda': 1106, 'ainda preciosos': 57, 'mar': 1190, 'engole': 736, 'tristeza mar': 2048, 'mar profundo': 1191, 'profundo vezes': 1610, 'vezes engole': 2150, 'engole inteiro': 737, 'chorar': 352, 'encontre': 722, 'preciso chorar': 1564, 'chorar dor': 353, 'dor dentro': 674, 'dentro encontre': 571, 'encontre alívio': 723, 'fogo': 911, 'caminho': 301, 'soubermos': 1937, 'controlá': 473, 'la': 1112, 'raiva fogo': 1677, 'fogo consome': 912, 'consome tudo': 456, 'tudo caminho': 2061, 'caminho soubermos': 304, 'soubermos controlá': 1938, 'controlá la': 474, 'combustível': 382, 'alimenta': 92, 'chama': 329, 'injustiça combustível': 1066, 'combustível alimenta': 383, 'alimenta chama': 93, 'chama revolta': 332, 'espalha': 774, 'silenciosamente': 1830, 'redor': 1700, 'câncer espalha': 534, 'espalha silenciosamente': 777, 'silenciosamente corroendo': 1831, 'corroendo tudo': 494, 'tudo redor': 2063, 'sangra': 1771, 'esperança': 784, 'oprimidos': 1386, 'opressão ferida': 1381, 'aberta sangra': 4, 'sangra esperança': 1773, 'esperança oprimidos': 786, 'enfraquece': 726, 'fé': 945, 'impunidade veneno': 1025, 'veneno enfraquece': 2125, 'enfraquece fé': 727, 'fé justiça': 946, 'cheiro': 344, 'terra': 1992, 'molhada': 1226, 'sinfonia': 1850, 'sentidos': 1815, 'cheiro terra': 346, 'terra molhada': 1993, 'molhada após': 1227, 'após chuva': 183, 'chuva sinfonia': 359, 'sinfonia sentidos': 1852, 'sincero': 1847, 'capaz': 313, 'sorriso sincero': 1935, 'sincero capaz': 1848, 'capaz iluminar': 314, 'ondas': 1365, 'quebrando': 1640, 'praia': 1558, 'calmante': 290, 'som ondas': 1912, 'ondas quebrando': 1366, 'quebrando praia': 1641, 'praia poder': 1559, 'poder calmante': 1513, 'calmante sobre': 291, 'sobre alma': 1872, 'flor': 905, 'desabrocha': 579, 'obra': 1354, 'arte': 196, 'natureza': 1280, 'cada flor': 277, 'flor desabrocha': 906, 'desabrocha obra': 580, 'obra arte': 1355, 'arte natureza': 197, 'música': 1268, 'transportar': 2032, 'outros': 1396, 'mundos': 1266, 'despertar': 604, 'emoções': 702, 'música poder': 1269, 'poder transportar': 1523, 'transportar outros': 2033, 'outros mundos': 1397, 'mundos despertar': 1267, 'despertar emoções': 605, 'emoções profundas': 703, 'consome dentro': 452, 'ensurdecedor': 745, 'vezes silêncio': 2154, 'silêncio ensurdecedor': 1836, 'ensurdecedor qualquer': 746, 'partido dor': 1428, 'dor parece': 679, 'sombra': 1914, 'segue': 1792, 'onde': 1367, 'quer': 1644, 'vamos': 2098, 'tristeza sombra': 2052, 'sombra segue': 1916, 'segue onde': 1796, 'onde quer': 1369, 'quer vamos': 1645, 'lentamente': 1141, 'destruindo': 616, 'espalha lentamente': 775, 'lentamente destruindo': 1143, 'destruindo tudo': 617, 'insulto justiça': 1080, 'justiça dignidade': 1108, 'dignidade humana': 651, 'clama': 371, 'curada': 525, 'aberta sociedade': 5, 'sociedade clama': 1877, 'clama curada': 372, 'recusam': 1698, 'aceitar': 36, 'tirania': 2005, 'voz recusam': 2187, 'recusam aceitar': 1699, 'aceitar tirania': 39, 'tirania destino': 2006, 'chuvoso': 360, 'sincero raio': 1849, 'sol dia': 1886, 'dia chuvoso': 634, 'brincando': 250, 'rejuvenescedora': 1706, 'alegria criança': 68, 'criança brincando': 521, 'brincando contagiante': 251, 'contagiante rejuvenescedora': 464, 'bolo': 234, 'assando': 198, 'casa': 318, 'conforto': 424, 'nostalgia': 1302, 'cheiro bolo': 345, 'bolo assando': 235, 'assando enche': 199, 'enche casa': 713, 'casa conforto': 319, 'conforto nostalgia': 425, 'dado': 537, 'abraço dado': 13, 'dado amor': 538, 'amor presente': 141, 'presente coração': 1579, 'presenteia': 1584, 'beleza': 228, 'pôr': 1630, 'natureza presenteia': 1283, 'presenteia beleza': 1585, 'beleza cada': 229, 'cada pôr': 281, 'pôr sol': 1631, 'sol amanhecer': 1884, 'tempestade': 1978, 'acalmada': 26, 'presença': 1586, 'solidão tempestade': 1903, 'tempestade pode': 1981, 'pode acalmada': 1498, 'acalmada presença': 27, 'presença amigo': 1587, 'escura': 761, 'encobre': 717, 'vezes tristeza': 2155, 'nuvem escura': 1343, 'escura encobre': 762, 'encobre brilho': 718, 'brilho sol': 248, 'desaparece': 586, 'podemos': 1507, 'aprender': 170, 'conviver': 477, 'perda nunca': 1465, 'nunca desaparece': 1338, 'desaparece completamente': 587, 'completamente podemos': 405, 'podemos aprender': 1508, 'aprender conviver': 171, 'valorizar': 2095, 'segue faz': 1795, 'faz valorizar': 846, 'valorizar luz': 2097, 'mina': 1222, 'devora alma': 627, 'nação mina': 1285, 'mina esperança': 1224, 'perfume': 1480, 'flores': 907, 'jardim': 1099, 'convite': 475, 'apreciar': 167, 'perfume flores': 1481, 'flores jardim': 909, 'jardim convite': 1100, 'convite apreciar': 476, 'apreciar beleza': 168, 'beleza vida': 231, 'remédio': 1707, 'perfeito': 1478, 'aliviar': 94, 'dores': 682, 'apertado remédio': 164, 'remédio perfeito': 1710, 'perfeito aliviar': 1479, 'aliviar dores': 95, 'dores alma': 683, 'brisa': 252, 'suave': 1942, 'manhã': 1185, 'renovação': 1714, 'brisa suave': 253, 'suave manhã': 1944, 'manhã traz': 1186, 'traz consigo': 2035, 'consigo sensação': 448, 'sensação renovação': 1810, 'presenteados': 1582, 'amanhecer presenteados': 122, 'presenteados oportunidade': 1583, 'nascer': 1275, 'sempre': 1803, 'nascer sol': 1276, 'sol lembrete': 1887, 'lembrete sempre': 1140, 'sempre esperança': 1804, 'esperança dias': 785, 'dias escuros': 645, 'buraco': 254, 'negro': 1294, 'suga': 1950, 'mesmos': 1214, 'solidão buraco': 1892, 'buraco negro': 255, 'negro suga': 1295, 'suga dentro': 1951, 'dentro mesmos': 572, 'grito': 978, 'qualquer grito': 1635, 'grito dor': 981, 'ameniza': 126, 'completamente apenas': 401, 'apenas ameniza': 157, 'ameniza tempo': 127, 'âncora': 2193, 'impede': 1011, 'peso tristeza': 1490, 'tristeza âncora': 2054, 'âncora impede': 2194, 'impede seguir': 1012, 'acompanha': 42, 'ensolarados': 744, 'sombra acompanha': 1915, 'acompanha dias': 43, 'dias ensolarados': 644, 'praga': 1554, 'devasta': 620, 'deixando': 559, 'ruínas': 1766, 'corrupção praga': 505, 'praga devasta': 1555, 'devasta tudo': 621, 'redor deixando': 1701, 'deixando apenas': 560, 'apenas ruínas': 160, 'afronta': 48, 'impunidade afronta': 1020, 'afronta justiça': 49, 'clamando': 374, 'cicatrizada': 366, 'sociedade clamando': 1878, 'clamando cicatrizada': 375, 'aceitar opressão': 38, 'opressão destino': 1380, 'caloroso': 296, 'receber': 1689, 'abraço caloroso': 12, 'caloroso melhor': 298, 'melhor presente': 1204, 'presente alguém': 1575, 'alguém pode': 84, 'pode receber': 1506, 'lembrete cada': 1137, 'dia nova': 638, 'nova oportunidade': 1322, 'gratidão': 968, 'transforma': 2030, 'suficiente': 1949, 'gratidão transforma': 970, 'transforma suficiente': 2031, 'riso': 1756, 'riso melhor': 1757, 'melhor remédio': 1205, 'remédio curar': 1708, 'curar alma': 527, 'empatia': 704, 'linguagem': 1149, 'universal': 2084, 'empatia linguagem': 705, 'linguagem universal': 1151, 'universal coração': 2085, 'conhecermos': 428, 'solidão oportunidade': 1901, 'oportunidade conhecermos': 1372, 'conhecermos melhor': 429, 'preciso sozinho': 1568, 'sozinho encontrar': 1940, 'encontrar verdadeira': 721, 'verdadeira companhia': 2142, 'memória': 1210, 'saudade memória': 1777, 'memória coração': 1211, 'silenciosa': 1827, 'lágrimas linguagem': 1171, 'linguagem silenciosa': 1150, 'silenciosa dor': 1828, 'passageira': 1437, 'céu': 535, 'nuvem passageira': 1345, 'passageira céu': 1439, 'céu vida': 536, 'corrói': 508, 'alicerces': 89, 'câncer corrói': 532, 'corrói alicerces': 509, 'alicerces sociedade': 91, 'antítese': 150, 'liberdade': 1146, 'opressão antítese': 1378, 'antítese liberdade': 151, 'manifestação': 1188, 'diante': 640, 'revolta manifestação': 1747, 'manifestação indignação': 1189, 'indignação diante': 1049, 'diante injustiça': 641, 'corações': 487, 'alívio corações': 113, 'determinação': 618, 'chave': 335, 'abrir': 20, 'portas': 1537, 'determinação chave': 619, 'chave abrir': 337, 'abrir portas': 21, 'portas sucesso': 1540, 'felicidade pequenas': 855, 'dá': 688, 'existência': 806, 'amor essência': 138, 'essência dá': 790, 'dá sentido': 689, 'sentido existência': 1814, 'inestimável': 1055, 'verdadeira amizade': 2140, 'amizade tesouro': 133, 'tesouro inestimável': 1998, 'importam': 1013, 'distância fortalece': 661, 'laços realmente': 1122, 'realmente importam': 1688, 'ausência faz': 218, 'faz crescer': 841, 'crescer valor': 517, 'valor presença': 2094, 'aprendizado': 172, 'duradouro': 685, 'tristeza passageira': 2050, 'passageira aprendizado': 1438, 'aprendizado duradouro': 173, 'enfrentar': 728, 'preciso enfrentar': 1565, 'enfrentar escuridão': 729, 'raiva chama': 1675, 'chama consome': 330, 'consome coração': 451, 'oprimida': 1385, 'injustiça grito': 1072, 'grito alma': 979, 'alma oprimida': 104, 'doença': 667, 'corrupção doença': 502, 'doença assola': 668, 'assola sociedade': 203, 'negação': 1288, 'individual': 1050, 'opressão negação': 1382, 'negação liberdade': 1289, 'liberdade individual': 1147, 'clamor': 376, 'desigual': 598, 'revolta clamor': 1743, 'clamor justiça': 377, 'justiça mundo': 1110, 'mundo desigual': 1262, 'aroma': 190, 'frescas': 932, 'ar': 188, 'aroma flores': 192, 'flores frescas': 908, 'frescas ar': 933, 'ar lembrete': 189, 'constante beleza': 458, 'beleza natureza': 230, 'gesto': 959, 'bondade': 236, 'mudar': 1255, 'curso': 529, 'gesto bondade': 960, 'bondade pode': 238, 'pode mudar': 1503, 'mudar curso': 1256, 'curso dia': 530, 'dia inteiro': 636, 'simplicidade': 1841, 'escuro': 765, 'simplicidade sorriso': 1842, 'sorriso pode': 1933, 'iluminar escuro': 1006, 'escuro dias': 766, 'acariciando': 30, 'interior': 1084, 'suave acariciando': 1943, 'acariciando rosto': 31, 'rosto traz': 1763, 'traz sensação': 2038, 'sensação paz': 1809, 'paz interior': 1445, 'calor sol': 295, 'sol rosto': 1889, 'rosto lembrete': 1761, 'sempre luz': 1805, 'luz escuridão': 1163, 'pesado': 1483, 'solidão fardo': 1898, 'fardo pesado': 836, 'pesado carregamos': 1484, 'carregamos silêncio': 317, 'pesam': 1485, 'vezes palavras': 2152, 'ditas pesam': 664, 'pesam coração': 1486, 'aonde': 152, 'saudade sombra': 1781, 'segue aonde': 1793, 'aonde quer': 153, 'querido dor': 1651, 'dor nunca': 678, 'tristeza tempestade': 2053, 'tempestade parece': 1980, 'parece nunca': 1419, 'nunca ter': 1341, 'praga espalha': 1557, 'silenciosamente sociedade': 1832, 'aberta clama': 2, 'chance': 333, 'sempre nova': 1806, 'nova chance': 1320, 'chance recomeçar': 334, 'dissipar': 655, 'densa': 566, 'tristezas': 2055, 'poder dissipar': 1516, 'dissipar densa': 656, 'densa tristezas': 567, 'compartilhado': 393, 'laço': 1119, 'une': 2080, 'pessoas': 1494, 'cada sorriso': 284, 'sorriso compartilhado': 1929, 'compartilhado laço': 394, 'laço une': 1120, 'une ainda': 2081, 'ainda pessoas': 56, 'abre': 16, 'porta': 1535, 'duradoura': 684, 'gratidão chave': 969, 'chave abre': 336, 'abre porta': 18, 'porta felicidade': 1536, 'felicidade duradoura': 852, 'labirinto': 1113, 'perdemos': 1469, 'próprios': 1624, 'pensamentos': 1456, 'solidão labirinto': 1899, 'labirinto escuro': 1114, 'escuro onde': 767, 'onde perdemos': 1368, 'perdemos próprios': 1470, 'próprios pensamentos': 1625, 'cicatrizar': 367, 'ausência amamos': 214, 'amamos ferida': 117, 'nunca parece': 1339, 'parece cicatrizar': 1417, 'eco': 695, 'ressoa': 1721, 'alto': 107, 'sozinhos': 1941, 'eco silêncio': 696, 'silêncio ressoa': 1840, 'ressoa alto': 1722, 'alto sozinhos': 108, 'precisa': 1561, 'possamos': 1546, 'novamente': 1323, 'tempestade precisa': 1982, 'precisa passar': 1562, 'passar possamos': 1441, 'possamos ver': 1547, 'ver sol': 2135, 'sol novamente': 1888, 'lágrima': 1166, 'cai': 288, 'expressão': 812, 'sincera': 1844, 'interna': 1085, 'lágrima cai': 1167, 'cai silenciosa': 289, 'silenciosa expressão': 1829, 'expressão sincera': 813, 'sincera dor': 1845, 'dor interna': 677, 'parasita': 1414, 'vitalidade': 2168, 'corrupção parasita': 504, 'parasita suga': 1415, 'suga vitalidade': 1954, 'vitalidade nação': 2169, 'confiança': 421, 'impunidade chaga': 1021, 'chaga envenena': 327, 'envenena confiança': 756, 'confiança justiça': 422, 'ouvido': 1399, 'grito revolta': 983, 'revolta clama': 1742, 'clama ouvido': 373, 'anseiam': 146, 'aprisiona alma': 175, 'alma anseiam': 97, 'anseiam liberdade': 147, 'faísca': 847, 'incendeia': 1028, 'luta': 1156, 'justo': 1111, 'revolta faísca': 1745, 'faísca incendeia': 848, 'incendeia luta': 1029, 'luta mundo': 1157, 'mundo justo': 1265, 'bálsamo': 261, 'caloroso bálsamo': 297, 'bálsamo alma': 262, 'inspiração': 1077, 'natureza fonte': 1281, 'inesgotável inspiração': 1053, 'compaixão': 385, 'antídoto': 148, 'sofrimento': 1881, 'compaixão antídoto': 386, 'antídoto sofrimento': 149, 'sofrimento humano': 1882, 'generosidade': 953, 'generosidade linguagem': 954, 'ensina': 741, 'solidão sombra': 1902, 'segue ensina': 1794, 'ensina valorizar': 743, 'valorizar companhia': 2096, 'companhia outros': 390, 'forma': 916, 'expressar': 810, 'sentimentos': 1816, 'silêncio forma': 1837, 'forma sincera': 917, 'sincera expressar': 1846, 'expressar sentimentos': 811, 'ponte': 1533, 'conecta': 419, 'saudade ponte': 1778, 'ponte conecta': 1534, 'conecta passado': 420, 'solitária': 1905, 'crescimento': 518, 'pessoal': 1493, 'luto jornada': 1159, 'jornada solitária': 1102, 'solitária oportunidade': 1906, 'oportunidade crescimento': 1373, 'crescimento pessoal': 519, 'vem': 2118, 'tempestade vem': 1984, 'vem vai': 2119, 'vai nunca': 2090, 'nunca deixa': 1337, 'deixa mesmos': 553, 'corpo': 488, 'envenena apenas': 755, 'apenas corpo': 158, 'corpo alma': 489, 'aceitar injustiça': 37, 'primavera': 1592, 'flores primavera': 910, 'primavera traz': 1593, 'cansada': 307, 'apertado bálsamo': 162, 'alma cansada': 98, 'gentil': 955, 'bela': 227, 'lembrete gentil': 1139, 'gentil vida': 956, 'vida bela': 2158, 'sermos': 1822, 'gratos': 971, 'novo dia': 1330, 'dia oportunidade': 639, 'oportunidade sermos': 1376, 'sermos gratos': 1824, 'gratos pequenas': 972, 'alegra': 64, 'som riso': 1913, 'riso sinfonia': 1759, 'sinfonia alegra': 1851, 'alegra coração': 65, 'energia': 724, 'vital': 2167, 'suga energia': 1952, 'energia vital': 725, 'ausência eco': 216, 'eco vazio': 697, 'vazio ressoa': 2111, 'ressoa dentro': 1723, 'silêncio grito': 1839, 'grito alto': 980, 'alto todos': 109, 'física': 949, 'partido ferida': 1429, 'ferida dói': 872, 'dói dor': 691, 'dor física': 676, 'iluminados': 1001, 'acompanha momentos': 44, 'momentos iluminados': 1234, 'moralidade': 1241, 'justiça moralidade': 1109, 'cicatriz': 361, 'marca': 1196, 'injustiça cicatriz': 1065, 'cicatriz marca': 362, 'marca história': 1197, 'história humanidade': 989, 'pensamento': 1455, 'aprisiona liberdade': 176, 'liberdade pensamento': 1148, 'guerra': 984, 'revolta grito': 1746, 'grito guerra': 982, 'guerra oprimidos': 985, 'oprimidos busca': 1387, 'busca justiça': 257, 'impulsiona jornada': 1018, 'jornada vida': 1103, 'saborear': 1769, 'felicidade saborear': 859, 'saborear cada': 1770, 'move': 1252, 'universo': 2086, 'amor força': 139, 'força move': 926, 'move universo': 1253, 'universo une': 2087, 'une corações': 2082, 'ouro': 1392, 'comprar': 409, 'tesouro nenhum': 2000, 'nenhum ouro': 1298, 'ouro pode': 1393, 'pode comprar': 1500, 'varre': 2099, 'tempestade varre': 1983, 'varre alma': 2100, 'alma oportunidade': 103, 'lavar': 1117, 'deixar': 561, 'espaço': 778, 'retornar': 1733, 'chorar lavar': 354, 'lavar alma': 1118, 'alma deixar': 99, 'deixar espaço': 562, 'espaço alegria': 779, 'alegria retornar': 79, 'queima': 1642, 'mudança': 1254, 'fogo queima': 913, 'queima tudo': 1643, 'caminho chama': 302, 'chama pode': 331, 'iluminar caminho': 1003, 'caminho mudança': 303, 'corrompe': 495, 'fundações': 939, 'injustiça veneno': 1073, 'veneno corrompe': 2123, 'corrompe fundações': 496, 'fundações sociedade': 940, 'vírus': 2188, 'rapidamente': 1681, 'infectando': 1060, 'corrupção vírus': 507, 'vírus espalha': 2189, 'espalha rapidamente': 776, 'rapidamente infectando': 1682, 'infectando tudo': 1061, 'prisão': 1594, 'invisível': 1086, 'opressão prisão': 1383, 'prisão invisível': 1595, 'invisível aprisiona': 1087, 'alma ousam': 105, 'sistema': 1864, 'veneno mina': 2127, 'mina confiança': 1223, 'confiança sistema': 423, 'sistema justiça': 1865, 'promessa': 1613, 'começo': 384, 'amanhecer traz': 123, 'consigo promessa': 445, 'promessa novo': 1614, 'novo começo': 1329, 'derreter': 577, 'frio': 936, 'caloroso pode': 299, 'pode derreter': 1501, 'derreter coração': 578, 'coração frio': 483, 'café': 286, 'fresco': 934, 'aroma café': 191, 'café fresco': 287, 'fresco manhã': 935, 'manhã verdadeira': 1187, 'verdadeira bênção': 2141, 'abre portas': 19, 'portas felicidade': 1539, 'eficaz': 698, 'riso remédio': 1758, 'remédio eficaz': 1709, 'eficaz curar': 699, 'suga vazio': 1953, 'envolve': 757, 'calmaria': 292, 'tempestade envolve': 1979, 'envolve ensina': 758, 'ensina apreciar': 742, 'apreciar calmaria': 169, 'lentamente corroendo': 1142, 'amanhecer nova': 120, 'sorriso capaz': 1927, 'acalmar': 28, 'inquieta': 1076, 'som natureza': 1911, 'natureza poder': 1282, 'poder acalmar': 1512, 'acalmar alma': 29, 'alma inquieta': 101, 'reside': 1716, 'simplicidade vida': 1843, 'vida onde': 2162, 'onde reside': 1370, 'reside verdadeira': 1717, 'verdadeira felicidade': 2143, 'abraço amigo': 10, 'amigo melhor': 129, 'remédio qualquer': 1711, 'qualquer dor': 1634, 'afoga': 46, 'solidão mar': 1900, 'mar silêncio': 1192, 'silêncio afoga': 1835, 'afoga poucos': 47, 'vazio dentro': 2106, 'mim pode': 1219, 'preenchido presença': 1573, 'praga devora': 1556, 'devora moral': 629, 'moral nação': 1240, 'muitas': 1259, 'sorriso chave': 1928, 'abre muitas': 17, 'muitas portas': 1260, 'portas corações': 1538, 'gentileza': 957, 'idioma': 996, 'entendem': 749, 'independentemente': 1040, 'origens': 1391, 'gentileza idioma': 958, 'idioma todos': 997, 'todos entendem': 2011, 'entendem independentemente': 750, 'independentemente origens': 1041, 'sermos felizes': 1823, 'densas': 568, 'trevas': 2039, 'bondade luz': 237, 'luz brilha': 1162, 'brilha densas': 244, 'densas trevas': 569, 'enriquece': 739, 'vidas': 2163, 'maneiras': 1183, 'incontáveis': 1037, 'tesouro enriquece': 1997, 'enriquece vidas': 740, 'vidas maneiras': 2164, 'maneiras incontáveis': 1184, 'desafio': 581, 'solidão desafio': 1896, 'desafio podemos': 582, 'podemos superar': 1509, 'superar amor': 1958, 'amor compaixão': 136, 'compaixão outros': 387, 'descobrimos': 591, 'vezes momentos': 2151, 'momentos maior': 1236, 'maior solidão': 1177, 'solidão descobrimos': 1897, 'descobrimos verdadeira': 592, 'verdadeira força': 2144, 'força interior': 925, 'saudade prova': 1780, 'prova amor': 1620, 'compartilhamos longe': 396, 'capacidade': 311, 'superação': 1959, 'perda teste': 1468, 'teste capacidade': 2002, 'capacidade superação': 312, 'superação crescimento': 1960, 'professora': 1598, 'severa': 1825, 'lições': 1153, 'valiosas': 2091, 'amadurecimento': 115, 'tristeza pode': 2051, 'pode professora': 1505, 'professora severa': 1599, 'severa lições': 1826, 'lições valiosas': 1154, 'valiosas amadurecimento': 2092, 'veneno corrói': 2124, 'alicerces qualquer': 90, 'qualquer sociedade': 1639, 'injustiça chaga': 1064, 'chaga sangra': 328, 'sangra alma': 1772, 'violação': 2165, 'direitos': 653, 'fundamentais': 937, 'todo': 2008, 'opressão violação': 1384, 'violação direitos': 2166, 'direitos fundamentais': 654, 'fundamentais todo': 938, 'todo humano': 2009}\n"
     ]
    }
   ],
   "source": [
    "# Vocabulário criado a partir dos textos\n",
    "print(countvec.vocabulary_)"
   ]
  },
  {
   "cell_type": "code",
   "execution_count": 15,
   "id": "3d8549d7",
   "metadata": {},
   "outputs": [
    {
     "data": {
      "text/plain": [
       "(451, 2205)"
      ]
     },
     "execution_count": 15,
     "metadata": {},
     "output_type": "execute_result"
    }
   ],
   "source": [
    "countvec_data.shape"
   ]
  },
  {
   "cell_type": "code",
   "execution_count": 20,
   "id": "b645f5ed",
   "metadata": {},
   "outputs": [
    {
     "data": {
      "text/html": [
       "<div>\n",
       "<style scoped>\n",
       "    .dataframe tbody tr th:only-of-type {\n",
       "        vertical-align: middle;\n",
       "    }\n",
       "\n",
       "    .dataframe tbody tr th {\n",
       "        vertical-align: top;\n",
       "    }\n",
       "\n",
       "    .dataframe thead th {\n",
       "        text-align: right;\n",
       "    }\n",
       "</style>\n",
       "<table border=\"1\" class=\"dataframe\">\n",
       "  <thead>\n",
       "    <tr style=\"text-align: right;\">\n",
       "      <th></th>\n",
       "      <th>aberta</th>\n",
       "      <th>aberta alma</th>\n",
       "      <th>aberta clama</th>\n",
       "      <th>aberta nunca</th>\n",
       "      <th>aberta sangra</th>\n",
       "      <th>aberta sociedade</th>\n",
       "      <th>abraçar</th>\n",
       "      <th>abraçar amamos</th>\n",
       "      <th>abraçar pais</th>\n",
       "      <th>abraço</th>\n",
       "      <th>...</th>\n",
       "      <th>ética dessa</th>\n",
       "      <th>ética moral</th>\n",
       "      <th>última</th>\n",
       "      <th>última fibra</th>\n",
       "      <th>último</th>\n",
       "      <th>último fio</th>\n",
       "      <th>única</th>\n",
       "      <th>única prova</th>\n",
       "      <th>único</th>\n",
       "      <th>Sentimento</th>\n",
       "    </tr>\n",
       "  </thead>\n",
       "  <tbody>\n",
       "    <tr>\n",
       "      <th>0</th>\n",
       "      <td>0</td>\n",
       "      <td>0</td>\n",
       "      <td>0</td>\n",
       "      <td>0</td>\n",
       "      <td>0</td>\n",
       "      <td>0</td>\n",
       "      <td>0</td>\n",
       "      <td>0</td>\n",
       "      <td>0</td>\n",
       "      <td>0</td>\n",
       "      <td>...</td>\n",
       "      <td>0</td>\n",
       "      <td>0</td>\n",
       "      <td>0</td>\n",
       "      <td>0</td>\n",
       "      <td>0</td>\n",
       "      <td>0</td>\n",
       "      <td>0</td>\n",
       "      <td>0</td>\n",
       "      <td>0</td>\n",
       "      <td>Felicidade</td>\n",
       "    </tr>\n",
       "    <tr>\n",
       "      <th>1</th>\n",
       "      <td>0</td>\n",
       "      <td>0</td>\n",
       "      <td>0</td>\n",
       "      <td>0</td>\n",
       "      <td>0</td>\n",
       "      <td>0</td>\n",
       "      <td>0</td>\n",
       "      <td>0</td>\n",
       "      <td>0</td>\n",
       "      <td>0</td>\n",
       "      <td>...</td>\n",
       "      <td>0</td>\n",
       "      <td>0</td>\n",
       "      <td>0</td>\n",
       "      <td>0</td>\n",
       "      <td>0</td>\n",
       "      <td>0</td>\n",
       "      <td>0</td>\n",
       "      <td>0</td>\n",
       "      <td>0</td>\n",
       "      <td>Raiva</td>\n",
       "    </tr>\n",
       "    <tr>\n",
       "      <th>2</th>\n",
       "      <td>0</td>\n",
       "      <td>0</td>\n",
       "      <td>0</td>\n",
       "      <td>0</td>\n",
       "      <td>0</td>\n",
       "      <td>0</td>\n",
       "      <td>0</td>\n",
       "      <td>0</td>\n",
       "      <td>0</td>\n",
       "      <td>0</td>\n",
       "      <td>...</td>\n",
       "      <td>0</td>\n",
       "      <td>0</td>\n",
       "      <td>0</td>\n",
       "      <td>0</td>\n",
       "      <td>0</td>\n",
       "      <td>0</td>\n",
       "      <td>0</td>\n",
       "      <td>0</td>\n",
       "      <td>0</td>\n",
       "      <td>Tristeza</td>\n",
       "    </tr>\n",
       "    <tr>\n",
       "      <th>3</th>\n",
       "      <td>0</td>\n",
       "      <td>0</td>\n",
       "      <td>0</td>\n",
       "      <td>0</td>\n",
       "      <td>0</td>\n",
       "      <td>0</td>\n",
       "      <td>0</td>\n",
       "      <td>0</td>\n",
       "      <td>0</td>\n",
       "      <td>0</td>\n",
       "      <td>...</td>\n",
       "      <td>0</td>\n",
       "      <td>0</td>\n",
       "      <td>0</td>\n",
       "      <td>0</td>\n",
       "      <td>0</td>\n",
       "      <td>0</td>\n",
       "      <td>0</td>\n",
       "      <td>0</td>\n",
       "      <td>0</td>\n",
       "      <td>Felicidade</td>\n",
       "    </tr>\n",
       "    <tr>\n",
       "      <th>4</th>\n",
       "      <td>0</td>\n",
       "      <td>0</td>\n",
       "      <td>0</td>\n",
       "      <td>0</td>\n",
       "      <td>0</td>\n",
       "      <td>0</td>\n",
       "      <td>0</td>\n",
       "      <td>0</td>\n",
       "      <td>0</td>\n",
       "      <td>0</td>\n",
       "      <td>...</td>\n",
       "      <td>0</td>\n",
       "      <td>0</td>\n",
       "      <td>0</td>\n",
       "      <td>0</td>\n",
       "      <td>0</td>\n",
       "      <td>0</td>\n",
       "      <td>0</td>\n",
       "      <td>0</td>\n",
       "      <td>0</td>\n",
       "      <td>Tristeza</td>\n",
       "    </tr>\n",
       "  </tbody>\n",
       "</table>\n",
       "<p>5 rows × 2206 columns</p>\n",
       "</div>"
      ],
      "text/plain": [
       "   aberta  aberta alma  aberta clama  aberta nunca  aberta sangra  \\\n",
       "0       0            0             0             0              0   \n",
       "1       0            0             0             0              0   \n",
       "2       0            0             0             0              0   \n",
       "3       0            0             0             0              0   \n",
       "4       0            0             0             0              0   \n",
       "\n",
       "   aberta sociedade  abraçar  abraçar amamos  abraçar pais  abraço  ...  \\\n",
       "0                 0        0               0             0       0  ...   \n",
       "1                 0        0               0             0       0  ...   \n",
       "2                 0        0               0             0       0  ...   \n",
       "3                 0        0               0             0       0  ...   \n",
       "4                 0        0               0             0       0  ...   \n",
       "\n",
       "   ética dessa  ética moral  última  última fibra  último  último fio  única  \\\n",
       "0            0            0       0             0       0           0      0   \n",
       "1            0            0       0             0       0           0      0   \n",
       "2            0            0       0             0       0           0      0   \n",
       "3            0            0       0             0       0           0      0   \n",
       "4            0            0       0             0       0           0      0   \n",
       "\n",
       "   única prova  único  Sentimento  \n",
       "0            0      0  Felicidade  \n",
       "1            0      0       Raiva  \n",
       "2            0      0    Tristeza  \n",
       "3            0      0  Felicidade  \n",
       "4            0      0    Tristeza  \n",
       "\n",
       "[5 rows x 2206 columns]"
      ]
     },
     "execution_count": 20,
     "metadata": {},
     "output_type": "execute_result"
    }
   ],
   "source": [
    "# Conversão da matriz esparsa para DataFrame\n",
    "df_bow = pd.DataFrame(countvec_data.toarray(), \n",
    "                      columns=countvec.get_feature_names_out())\n",
    "df_bow.index = df_stop.index\n",
    "df_bow = df_bow.join(df_stop[['Sentimento']], how='left')\n",
    "df_bow.head()\n"
   ]
  },
  {
   "cell_type": "code",
   "execution_count": 21,
   "id": "4b797868",
   "metadata": {},
   "outputs": [
    {
     "data": {
      "text/html": [
       "<div>\n",
       "<style scoped>\n",
       "    .dataframe tbody tr th:only-of-type {\n",
       "        vertical-align: middle;\n",
       "    }\n",
       "\n",
       "    .dataframe tbody tr th {\n",
       "        vertical-align: top;\n",
       "    }\n",
       "\n",
       "    .dataframe thead th {\n",
       "        text-align: right;\n",
       "    }\n",
       "</style>\n",
       "<table border=\"1\" class=\"dataframe\">\n",
       "  <thead>\n",
       "    <tr style=\"text-align: right;\">\n",
       "      <th></th>\n",
       "      <th>aberta</th>\n",
       "      <th>aberta alma</th>\n",
       "      <th>aberta clama</th>\n",
       "      <th>aberta nunca</th>\n",
       "      <th>aberta sangra</th>\n",
       "      <th>aberta sociedade</th>\n",
       "      <th>abraçar</th>\n",
       "      <th>abraçar amamos</th>\n",
       "      <th>abraçar pais</th>\n",
       "      <th>abraço</th>\n",
       "      <th>...</th>\n",
       "      <th>ética dessa</th>\n",
       "      <th>ética moral</th>\n",
       "      <th>última</th>\n",
       "      <th>última fibra</th>\n",
       "      <th>último</th>\n",
       "      <th>último fio</th>\n",
       "      <th>única</th>\n",
       "      <th>única prova</th>\n",
       "      <th>único</th>\n",
       "      <th>Sentimento</th>\n",
       "    </tr>\n",
       "  </thead>\n",
       "  <tbody>\n",
       "    <tr>\n",
       "      <th>0</th>\n",
       "      <td>0</td>\n",
       "      <td>0</td>\n",
       "      <td>0</td>\n",
       "      <td>0</td>\n",
       "      <td>0</td>\n",
       "      <td>0</td>\n",
       "      <td>0</td>\n",
       "      <td>0</td>\n",
       "      <td>0</td>\n",
       "      <td>0</td>\n",
       "      <td>...</td>\n",
       "      <td>0</td>\n",
       "      <td>0</td>\n",
       "      <td>0</td>\n",
       "      <td>0</td>\n",
       "      <td>0</td>\n",
       "      <td>0</td>\n",
       "      <td>0</td>\n",
       "      <td>0</td>\n",
       "      <td>0</td>\n",
       "      <td>0</td>\n",
       "    </tr>\n",
       "    <tr>\n",
       "      <th>1</th>\n",
       "      <td>0</td>\n",
       "      <td>0</td>\n",
       "      <td>0</td>\n",
       "      <td>0</td>\n",
       "      <td>0</td>\n",
       "      <td>0</td>\n",
       "      <td>0</td>\n",
       "      <td>0</td>\n",
       "      <td>0</td>\n",
       "      <td>0</td>\n",
       "      <td>...</td>\n",
       "      <td>0</td>\n",
       "      <td>0</td>\n",
       "      <td>0</td>\n",
       "      <td>0</td>\n",
       "      <td>0</td>\n",
       "      <td>0</td>\n",
       "      <td>0</td>\n",
       "      <td>0</td>\n",
       "      <td>0</td>\n",
       "      <td>2</td>\n",
       "    </tr>\n",
       "    <tr>\n",
       "      <th>2</th>\n",
       "      <td>0</td>\n",
       "      <td>0</td>\n",
       "      <td>0</td>\n",
       "      <td>0</td>\n",
       "      <td>0</td>\n",
       "      <td>0</td>\n",
       "      <td>0</td>\n",
       "      <td>0</td>\n",
       "      <td>0</td>\n",
       "      <td>0</td>\n",
       "      <td>...</td>\n",
       "      <td>0</td>\n",
       "      <td>0</td>\n",
       "      <td>0</td>\n",
       "      <td>0</td>\n",
       "      <td>0</td>\n",
       "      <td>0</td>\n",
       "      <td>0</td>\n",
       "      <td>0</td>\n",
       "      <td>0</td>\n",
       "      <td>1</td>\n",
       "    </tr>\n",
       "    <tr>\n",
       "      <th>3</th>\n",
       "      <td>0</td>\n",
       "      <td>0</td>\n",
       "      <td>0</td>\n",
       "      <td>0</td>\n",
       "      <td>0</td>\n",
       "      <td>0</td>\n",
       "      <td>0</td>\n",
       "      <td>0</td>\n",
       "      <td>0</td>\n",
       "      <td>0</td>\n",
       "      <td>...</td>\n",
       "      <td>0</td>\n",
       "      <td>0</td>\n",
       "      <td>0</td>\n",
       "      <td>0</td>\n",
       "      <td>0</td>\n",
       "      <td>0</td>\n",
       "      <td>0</td>\n",
       "      <td>0</td>\n",
       "      <td>0</td>\n",
       "      <td>0</td>\n",
       "    </tr>\n",
       "    <tr>\n",
       "      <th>4</th>\n",
       "      <td>0</td>\n",
       "      <td>0</td>\n",
       "      <td>0</td>\n",
       "      <td>0</td>\n",
       "      <td>0</td>\n",
       "      <td>0</td>\n",
       "      <td>0</td>\n",
       "      <td>0</td>\n",
       "      <td>0</td>\n",
       "      <td>0</td>\n",
       "      <td>...</td>\n",
       "      <td>0</td>\n",
       "      <td>0</td>\n",
       "      <td>0</td>\n",
       "      <td>0</td>\n",
       "      <td>0</td>\n",
       "      <td>0</td>\n",
       "      <td>0</td>\n",
       "      <td>0</td>\n",
       "      <td>0</td>\n",
       "      <td>1</td>\n",
       "    </tr>\n",
       "  </tbody>\n",
       "</table>\n",
       "<p>5 rows × 2206 columns</p>\n",
       "</div>"
      ],
      "text/plain": [
       "   aberta  aberta alma  aberta clama  aberta nunca  aberta sangra  \\\n",
       "0       0            0             0             0              0   \n",
       "1       0            0             0             0              0   \n",
       "2       0            0             0             0              0   \n",
       "3       0            0             0             0              0   \n",
       "4       0            0             0             0              0   \n",
       "\n",
       "   aberta sociedade  abraçar  abraçar amamos  abraçar pais  abraço  ...  \\\n",
       "0                 0        0               0             0       0  ...   \n",
       "1                 0        0               0             0       0  ...   \n",
       "2                 0        0               0             0       0  ...   \n",
       "3                 0        0               0             0       0  ...   \n",
       "4                 0        0               0             0       0  ...   \n",
       "\n",
       "   ética dessa  ética moral  última  última fibra  último  último fio  única  \\\n",
       "0            0            0       0             0       0           0      0   \n",
       "1            0            0       0             0       0           0      0   \n",
       "2            0            0       0             0       0           0      0   \n",
       "3            0            0       0             0       0           0      0   \n",
       "4            0            0       0             0       0           0      0   \n",
       "\n",
       "   única prova  único  Sentimento  \n",
       "0            0      0           0  \n",
       "1            0      0           2  \n",
       "2            0      0           1  \n",
       "3            0      0           0  \n",
       "4            0      0           1  \n",
       "\n",
       "[5 rows x 2206 columns]"
      ]
     },
     "execution_count": 21,
     "metadata": {},
     "output_type": "execute_result"
    }
   ],
   "source": [
    "sentimento_map = {'Felicidade': 0, 'Tristeza':1, 'Raiva':2}\n",
    "df_bow['Sentimento'] = df_bow['Sentimento'].map(sentimento_map)\n",
    "df_bow.head()"
   ]
  },
  {
   "cell_type": "markdown",
   "id": "559048f0",
   "metadata": {},
   "source": [
    "## Criação do modelo"
   ]
  },
  {
   "cell_type": "markdown",
   "id": "1b9b896b",
   "metadata": {},
   "source": [
    "###  Definição do Target e Feature "
   ]
  },
  {
   "cell_type": "code",
   "execution_count": 22,
   "id": "ef225d97",
   "metadata": {},
   "outputs": [],
   "source": [
    "# Target \n",
    "y = df_bow['Sentimento']\n",
    "\n",
    "# Features\n",
    "x = df_bow.drop('Sentimento', axis=1)"
   ]
  },
  {
   "cell_type": "markdown",
   "id": "231c7856",
   "metadata": {},
   "source": [
    "### Divisão de treino e teste"
   ]
  },
  {
   "cell_type": "code",
   "execution_count": 23,
   "id": "ffa6e29e",
   "metadata": {},
   "outputs": [],
   "source": [
    "x_train, x_test, y_train, y_test = train_test_split(x, \n",
    "                                                    y, \n",
    "                                                    test_size=0.30, \n",
    "                                                    random_state=42)"
   ]
  },
  {
   "cell_type": "code",
   "execution_count": 24,
   "id": "e6a295de",
   "metadata": {},
   "outputs": [
    {
     "data": {
      "text/plain": [
       "((315, 2205), (136, 2205), (315,), (136,))"
      ]
     },
     "execution_count": 24,
     "metadata": {},
     "output_type": "execute_result"
    }
   ],
   "source": [
    "(x_train.shape, x_test.shape, y_train.shape, y_test.shape)"
   ]
  },
  {
   "cell_type": "markdown",
   "id": "2a7323cc",
   "metadata": {},
   "source": [
    "##  Criação e treinamento do modelo"
   ]
  },
  {
   "cell_type": "code",
   "execution_count": 25,
   "id": "472aeead",
   "metadata": {},
   "outputs": [
    {
     "data": {
      "text/html": [
       "<style>#sk-container-id-1 {color: black;background-color: white;}#sk-container-id-1 pre{padding: 0;}#sk-container-id-1 div.sk-toggleable {background-color: white;}#sk-container-id-1 label.sk-toggleable__label {cursor: pointer;display: block;width: 100%;margin-bottom: 0;padding: 0.3em;box-sizing: border-box;text-align: center;}#sk-container-id-1 label.sk-toggleable__label-arrow:before {content: \"▸\";float: left;margin-right: 0.25em;color: #696969;}#sk-container-id-1 label.sk-toggleable__label-arrow:hover:before {color: black;}#sk-container-id-1 div.sk-estimator:hover label.sk-toggleable__label-arrow:before {color: black;}#sk-container-id-1 div.sk-toggleable__content {max-height: 0;max-width: 0;overflow: hidden;text-align: left;background-color: #f0f8ff;}#sk-container-id-1 div.sk-toggleable__content pre {margin: 0.2em;color: black;border-radius: 0.25em;background-color: #f0f8ff;}#sk-container-id-1 input.sk-toggleable__control:checked~div.sk-toggleable__content {max-height: 200px;max-width: 100%;overflow: auto;}#sk-container-id-1 input.sk-toggleable__control:checked~label.sk-toggleable__label-arrow:before {content: \"▾\";}#sk-container-id-1 div.sk-estimator input.sk-toggleable__control:checked~label.sk-toggleable__label {background-color: #d4ebff;}#sk-container-id-1 div.sk-label input.sk-toggleable__control:checked~label.sk-toggleable__label {background-color: #d4ebff;}#sk-container-id-1 input.sk-hidden--visually {border: 0;clip: rect(1px 1px 1px 1px);clip: rect(1px, 1px, 1px, 1px);height: 1px;margin: -1px;overflow: hidden;padding: 0;position: absolute;width: 1px;}#sk-container-id-1 div.sk-estimator {font-family: monospace;background-color: #f0f8ff;border: 1px dotted black;border-radius: 0.25em;box-sizing: border-box;margin-bottom: 0.5em;}#sk-container-id-1 div.sk-estimator:hover {background-color: #d4ebff;}#sk-container-id-1 div.sk-parallel-item::after {content: \"\";width: 100%;border-bottom: 1px solid gray;flex-grow: 1;}#sk-container-id-1 div.sk-label:hover label.sk-toggleable__label {background-color: #d4ebff;}#sk-container-id-1 div.sk-serial::before {content: \"\";position: absolute;border-left: 1px solid gray;box-sizing: border-box;top: 0;bottom: 0;left: 50%;z-index: 0;}#sk-container-id-1 div.sk-serial {display: flex;flex-direction: column;align-items: center;background-color: white;padding-right: 0.2em;padding-left: 0.2em;position: relative;}#sk-container-id-1 div.sk-item {position: relative;z-index: 1;}#sk-container-id-1 div.sk-parallel {display: flex;align-items: stretch;justify-content: center;background-color: white;position: relative;}#sk-container-id-1 div.sk-item::before, #sk-container-id-1 div.sk-parallel-item::before {content: \"\";position: absolute;border-left: 1px solid gray;box-sizing: border-box;top: 0;bottom: 0;left: 50%;z-index: -1;}#sk-container-id-1 div.sk-parallel-item {display: flex;flex-direction: column;z-index: 1;position: relative;background-color: white;}#sk-container-id-1 div.sk-parallel-item:first-child::after {align-self: flex-end;width: 50%;}#sk-container-id-1 div.sk-parallel-item:last-child::after {align-self: flex-start;width: 50%;}#sk-container-id-1 div.sk-parallel-item:only-child::after {width: 0;}#sk-container-id-1 div.sk-dashed-wrapped {border: 1px dashed gray;margin: 0 0.4em 0.5em 0.4em;box-sizing: border-box;padding-bottom: 0.4em;background-color: white;}#sk-container-id-1 div.sk-label label {font-family: monospace;font-weight: bold;display: inline-block;line-height: 1.2em;}#sk-container-id-1 div.sk-label-container {text-align: center;}#sk-container-id-1 div.sk-container {/* jupyter's `normalize.less` sets `[hidden] { display: none; }` but bootstrap.min.css set `[hidden] { display: none !important; }` so we also need the `!important` here to be able to override the default hidden behavior on the sphinx rendered scikit-learn.org. See: https://github.com/scikit-learn/scikit-learn/issues/21755 */display: inline-block !important;position: relative;}#sk-container-id-1 div.sk-text-repr-fallback {display: none;}</style><div id=\"sk-container-id-1\" class=\"sk-top-container\"><div class=\"sk-text-repr-fallback\"><pre>GradientBoostingClassifier(random_state=42, subsample=0.5)</pre><b>In a Jupyter environment, please rerun this cell to show the HTML representation or trust the notebook. <br />On GitHub, the HTML representation is unable to render, please try loading this page with nbviewer.org.</b></div><div class=\"sk-container\" hidden><div class=\"sk-item\"><div class=\"sk-estimator sk-toggleable\"><input class=\"sk-toggleable__control sk-hidden--visually\" id=\"sk-estimator-id-1\" type=\"checkbox\" checked><label for=\"sk-estimator-id-1\" class=\"sk-toggleable__label sk-toggleable__label-arrow\">GradientBoostingClassifier</label><div class=\"sk-toggleable__content\"><pre>GradientBoostingClassifier(random_state=42, subsample=0.5)</pre></div></div></div></div></div>"
      ],
      "text/plain": [
       "GradientBoostingClassifier(random_state=42, subsample=0.5)"
      ]
     },
     "execution_count": 25,
     "metadata": {},
     "output_type": "execute_result"
    }
   ],
   "source": [
    "modelo = GradientBoostingClassifier(n_estimators=100,\n",
    "                                        subsample=0.5,\n",
    "                                        random_state=42)\n",
    "modelo.fit(x_train, y_train)"
   ]
  },
  {
   "cell_type": "code",
   "execution_count": 26,
   "id": "37624e2f",
   "metadata": {},
   "outputs": [
    {
     "data": {
      "text/plain": [
       "array([1, 2, 1, 0, 2, 0, 1, 1, 0, 1, 0, 1, 2, 1, 0, 0, 0, 0, 2, 1, 0, 0,\n",
       "       1, 0, 2, 1, 0, 0, 1, 1, 1, 0, 2, 0, 1, 0, 2, 0, 2, 0, 1, 0, 0, 0,\n",
       "       1, 0, 0, 0, 2, 1, 0, 1, 2, 1, 2, 1, 0, 0, 2, 0, 1, 0, 2, 0, 1, 0,\n",
       "       1, 1, 0, 0, 0, 2, 0, 1, 1, 2, 0, 1, 0, 0, 2, 1, 2, 1, 0, 1, 1, 1,\n",
       "       1, 0, 0, 0, 0, 2, 2, 1, 1, 1, 0, 2, 0, 2, 1, 1, 0, 0, 0, 0, 1, 0,\n",
       "       0, 1, 2, 0, 1, 0, 1, 2, 2, 1, 0, 0, 2, 1, 2, 1, 2, 1, 0, 1, 2, 0,\n",
       "       1, 1, 0, 0], dtype=int64)"
      ]
     },
     "execution_count": 26,
     "metadata": {},
     "output_type": "execute_result"
    }
   ],
   "source": [
    "y_pred = modelo.predict(x_test)\n",
    "y_pred"
   ]
  },
  {
   "cell_type": "code",
   "execution_count": 27,
   "id": "780e7930",
   "metadata": {},
   "outputs": [
    {
     "name": "stdout",
     "output_type": "stream",
     "text": [
      "Acurácia: 0.9485294117647058\n"
     ]
    }
   ],
   "source": [
    "accuracy = accuracy_score(y_test, y_pred)\n",
    "print(\"Acurácia:\", accuracy)"
   ]
  },
  {
   "cell_type": "markdown",
   "id": "cabcf23a",
   "metadata": {},
   "source": [
    "## Exportando o modelo"
   ]
  },
  {
   "cell_type": "code",
   "execution_count": 28,
   "id": "fd560122",
   "metadata": {},
   "outputs": [
    {
     "data": {
      "text/plain": [
       "['modelo.pkl']"
      ]
     },
     "execution_count": 28,
     "metadata": {},
     "output_type": "execute_result"
    }
   ],
   "source": [
    "# Exportando o modelo para um arquivo\n",
    "joblib.dump(modelo, 'modelo.pkl')"
   ]
  },
  {
   "cell_type": "code",
   "execution_count": null,
   "id": "a87bf4ec",
   "metadata": {},
   "outputs": [],
   "source": []
  },
  {
   "cell_type": "markdown",
   "id": "b92f9d66",
   "metadata": {},
   "source": [
    "### Testando o modelo com frases inputadas "
   ]
  },
  {
   "cell_type": "code",
   "execution_count": 31,
   "id": "3e29cf67",
   "metadata": {},
   "outputs": [
    {
     "name": "stdout",
     "output_type": "stream",
     "text": [
      "Digite uma frase: que dia lindo\n",
      "A frase foi classificada como: [0]\n"
     ]
    },
    {
     "name": "stderr",
     "output_type": "stream",
     "text": [
      "C:\\Users\\Ben-Hur\\anaconda3\\lib\\site-packages\\sklearn\\base.py:439: UserWarning: X does not have valid feature names, but GradientBoostingClassifier was fitted with feature names\n",
      "  warnings.warn(\n"
     ]
    }
   ],
   "source": [
    "import pandas as pd\n",
    "import joblib\n",
    "from sklearn.feature_extraction.text import CountVectorizer\n",
    "\n",
    "\n",
    "\n",
    "# Carregando os stop words\n",
    "df_stop = pd.read_csv('stop_words.csv')\n",
    "\n",
    "# Carregando o modelo a partir do arquivo\n",
    "modelo = joblib.load('modelo.pkl')\n",
    "\n",
    "\n",
    "frase = input(\"Digite uma frase: \")\n",
    "\n",
    "# Ajustar o CountVectorizer\n",
    "countvec = CountVectorizer(ngram_range=(1, 2))\n",
    "countvec.fit(df_stop['Frase Limpa'])\n",
    "\n",
    "# Vetorização da frase de teste usando o mesmo CountVectorizer ajustado\n",
    "frase_vetorizada = countvec.transform([frase])\n",
    "\n",
    "# Fazer a previsão\n",
    "classe_prevista = modelo.predict(frase_vetorizada)\n",
    "print(\"A frase foi classificada como:\", classe_prevista)\n",
    "\n"
   ]
  },
  {
   "cell_type": "code",
   "execution_count": 32,
   "id": "c0ec9d38",
   "metadata": {},
   "outputs": [
    {
     "data": {
      "text/html": [
       "<div>\n",
       "<style scoped>\n",
       "    .dataframe tbody tr th:only-of-type {\n",
       "        vertical-align: middle;\n",
       "    }\n",
       "\n",
       "    .dataframe tbody tr th {\n",
       "        vertical-align: top;\n",
       "    }\n",
       "\n",
       "    .dataframe thead th {\n",
       "        text-align: right;\n",
       "    }\n",
       "</style>\n",
       "<table border=\"1\" class=\"dataframe\">\n",
       "  <thead>\n",
       "    <tr style=\"text-align: right;\">\n",
       "      <th></th>\n",
       "      <th>Frase Limpa</th>\n",
       "    </tr>\n",
       "  </thead>\n",
       "  <tbody>\n",
       "    <tr>\n",
       "      <th>0</th>\n",
       "      <td>feliz resultado !</td>\n",
       "    </tr>\n",
       "    <tr>\n",
       "      <th>1</th>\n",
       "      <td>deixa muita raiva .</td>\n",
       "    </tr>\n",
       "    <tr>\n",
       "      <th>2</th>\n",
       "      <td>Sinto-me triste situação .</td>\n",
       "    </tr>\n",
       "    <tr>\n",
       "      <th>3</th>\n",
       "      <td>tão animado evento !</td>\n",
       "    </tr>\n",
       "    <tr>\n",
       "      <th>4</th>\n",
       "      <td>história deixa arrepiado .</td>\n",
       "    </tr>\n",
       "  </tbody>\n",
       "</table>\n",
       "</div>"
      ],
      "text/plain": [
       "                  Frase Limpa\n",
       "0           feliz resultado !\n",
       "1         deixa muita raiva .\n",
       "2  Sinto-me triste situação .\n",
       "3        tão animado evento !\n",
       "4  história deixa arrepiado ."
      ]
     },
     "execution_count": 32,
     "metadata": {},
     "output_type": "execute_result"
    }
   ],
   "source": [
    "df_stop.head()"
   ]
  }
 ],
 "metadata": {
  "kernelspec": {
   "display_name": "Python 3 (ipykernel)",
   "language": "python",
   "name": "python3"
  },
  "language_info": {
   "codemirror_mode": {
    "name": "ipython",
    "version": 3
   },
   "file_extension": ".py",
   "mimetype": "text/x-python",
   "name": "python",
   "nbconvert_exporter": "python",
   "pygments_lexer": "ipython3",
   "version": "3.9.13"
  }
 },
 "nbformat": 4,
 "nbformat_minor": 5
}
