{
 "cells": [
  {
   "cell_type": "markdown",
   "id": "6181d797",
   "metadata": {},
   "source": [
    "# Análise de sentimento "
   ]
  },
  {
   "cell_type": "markdown",
   "id": "ca233c8b",
   "metadata": {},
   "source": [
    "## Objetivo:\n",
    "\n",
    "Elaborar um serviço que seja capaz de detectar se uma determinada frase inserida corresponde a um destes sentimentos (felicidade, tristeza e raiva)\n",
    "\n",
    "Exemplo:\n",
    "\n",
    "`Não quero saber de nada, eu te odeio!` —> `raiva`\n",
    "\n",
    "`Sinto sua falta` —> `tristeza`"
   ]
  },
  {
   "cell_type": "markdown",
   "id": "80abc730",
   "metadata": {},
   "source": [
    "## Bibliotecas"
   ]
  },
  {
   "cell_type": "code",
   "execution_count": 78,
   "id": "16834556",
   "metadata": {},
   "outputs": [],
   "source": [
    "# manipulação de dados\n",
    "import pandas as pd\n",
    "\n",
    "# manipulação de texto\n",
    "import nltk\n",
    "from nltk.corpus import stopwords\n",
    "from nltk.tokenize import word_tokenize\n",
    "#nltk.download('stopwords', quiet=True)\n",
    "#stopwords_pt = set(stopwords.words('portuguese'))\n",
    "\n",
    "# modelo\n",
    "from sklearn.model_selection import train_test_split\n",
    "from sklearn.ensemble import GradientBoostingClassifier\n",
    "from sklearn.metrics import accuracy_score\n"
   ]
  },
  {
   "cell_type": "markdown",
   "id": "bd60bd15",
   "metadata": {},
   "source": [
    "## Base de dados:\n",
    "\n",
    "Não encontrei uma base de dados classificando exatamente o sentimento dos textos, apenas classificando-os em **Positivos, Negativos ou Neutros**.\n",
    "\n",
    "Por isto pedi ajuda ao ChatGPT para contruição da base para treinar o modelo.\n",
    "A base consiste em apenas duas colunas: \n",
    "\n",
    "**Frase:** Frase aleatória gerada pelo ChatGPT;\n",
    "\n",
    "**Sentimento**: Classificação se a Frase é de Felicidade, Tristeza ou Raiva."
   ]
  },
  {
   "cell_type": "code",
   "execution_count": null,
   "id": "4433359e",
   "metadata": {},
   "outputs": [],
   "source": []
  },
  {
   "cell_type": "code",
   "execution_count": 3,
   "id": "5ab7d02f",
   "metadata": {},
   "outputs": [],
   "source": [
    "frases_sentimentos = {\n",
    "    \"Estou muito feliz com este resultado!\": \"Felicidade\", \"Isso me deixa com muita raiva.\": \"Raiva\",\n",
    "    \"Sinto-me triste com essa situação.\": \"Tristeza\", \"Estou tão animado para este evento!\": \"Felicidade\",\n",
    "    \"Essa história me deixa arrepiado.\": \"Tristeza\", \"Fiquei tão furioso quando ouvi isso.\": \"Raiva\",\n",
    "    \"Estou deprimido com as notícias de hoje.\": \"Tristeza\", \"Estou radiante com essa notícia!\": \"Felicidade\",\n",
    "    \"Essa injustiça me deixa furioso.\": \"Raiva\", \"Meu coração está doendo de tristeza.\": \"Tristeza\",\n",
    "    \"Estou chocado com essa revelação!\": \"Raiva\", \"Estou transbordando de felicidade!\": \"Felicidade\",\n",
    "    \"Estou me sentindo tão miserável.\": \"Tristeza\",  \"Estou radiante com essa vitória!\": \"Felicidade\",\n",
    "    \"Essa situação me deixa com tanto medo.\": \"Tristeza\", \"Essa injustiça me faz ferver de raiva.\": \"Raiva\",\n",
    "    \"Me sinto completamente desamparado.\": \"Tristeza\", \"Estou eufórico com esta notícia!\": \"Felicidade\",\n",
    "    \"Estou com muito medo do que pode acontecer depois.\": \"Tristeza\", \"Isso me faz perder o controle de tanta raiva.\": \"Raiva\",\n",
    "    \"Estou de coração partido com essa notícia.\": \"Tristeza\", \"Estou transbordando de felicidade e emoção!\": \"Felicidade\",\n",
    "    \"Essa situação me enfurece tanto.\": \"Raiva\", \"Estou devastado com essa tragédia.\": \"Tristeza\",\n",
    "    \"Estou radiante com esta conquista!\": \"Felicidade\", \"Estou extasiado com essa descoberta!\": \"Felicidade\",\n",
    "    \"Isso me deixa com uma alegria imensa.\": \"Felicidade\", \"Essa notícia me trouxe um sorriso enorme!\": \"Felicidade\",\n",
    "    \"Fico tão feliz quando estou com meus amigos.\": \"Felicidade\", \"Estou radiante com o sucesso do projeto!\": \"Felicidade\",\n",
    "    \"Estou tão triste por não poder ir ao evento.\": \"Tristeza\", \"Meu coração dói de saudade dos velhos tempos.\": \"Tristeza\",\n",
    "    \"Não aguento mais essa sensação de vazio.\": \"Tristeza\", \"Sinto um aperto no peito ao lembrar da perda.\": \"Tristeza\",\n",
    "    \"Estou devastado com essa notícia terrível.\": \"Tristeza\", \"Estou furioso com a incompetência dessa empresa.\": \"Raiva\",\n",
    "    \"Essa atitude me deixa tão irritado!\": \"Raiva\", \"Não consigo suportar a falta de respeito.\": \"Raiva\",\n",
    "    \"Estou com tanta raiva que mal consigo falar.\": \"Raiva\",\"Essa injustiça me faz querer gritar de raiva.\": \"Raiva\",\n",
    "    \"Estou transbordando de alegria com essa novidade!\": \"Felicidade\", \"Estou completamente apaixonado por esse filme!\": \"Felicidade\",\n",
    "    \"Estou radiante com a chegada das férias!\": \"Felicidade\",\"Que alegria poder passar tempo com a família!\": \"Felicidade\",\n",
    "    \"Estou tão feliz que mal posso conter o sorriso.\": \"Felicidade\",\"Estou triste por não poder estar presente na festa.\": \"Tristeza\",\n",
    "    \"Essa lembrança traz lágrimas aos meus olhos.\": \"Tristeza\",\"A solidão está me consumindo aos poucos.\": \"Tristeza\",\n",
    "    \"Sinto um vazio imenso dentro de mim.\": \"Tristeza\",\"Estou deprimido com a situação atual.\": \"Tristeza\",\n",
    "    \"Estou revoltado com a falta de ética dessa empresa.\": \"Raiva\", \"Essa atitude é completamente inaceitável!\": \"Raiva\",\n",
    "    \"Estou com raiva até o último fio de cabelo.\": \"Raiva\", \"Essa incompetência me deixa enfurecido!\": \"Raiva\",\n",
    "    \"Estou tão zangado que mal consigo raciocinar direito.\": \"Raiva\", \"Estou radiante com a notícia do novo emprego!\": \"Felicidade\",\n",
    "    \"Estou tão feliz que sinto borboletas no estômago!\": \"Felicidade\", \"Essa conquista é motivo de grande alegria!\": \"Felicidade\",\n",
    "    \"Estou nas nuvens com o resultado do exame!\": \"Felicidade\", \"Que alegria poder realizar esse sonho!\": \"Felicidade\",\n",
    "    \"Estou triste por não poder participar da celebração.\": \"Tristeza\", \"Essa perda é um golpe duro demais.\": \"Tristeza\",\n",
    "    \"Sinto um peso no coração ao lembrar do passado.\": \"Tristeza\", \"A saudade é uma dor que não passa.\": \"Tristeza\",\n",
    "    \"Estou tão triste que mal consigo me concentrar.\": \"Tristeza\", \"Estou revoltado com a corrupção neste país.\": \"Raiva\",\n",
    "    \"Essa injustiça é um absurdo completo!\": \"Raiva\", \"Estou com uma raiva que não cabe em mim!\": \"Raiva\",\n",
    "    \"Essa incompetência me deixa fora de mim!\": \"Raiva\", \"Estou tão enfurecido que mal consigo falar!\": \"Raiva\",\n",
    "    \"Estou radiante com a notícia do casamento!\": \"Felicidade\", \"Estou tão feliz que mal consigo conter as lágrimas!\": \"Felicidade\",\n",
    "    \"Que alegria poder compartilhar esse momento com vocês!\": \"Felicidade\", \"Estou tão feliz que sinto que vou explodir de alegria!\": \"Felicidade\",\n",
    "    \"Que felicidade poder ver meu filho crescer!\": \"Felicidade\",\n",
    "    \"Estou muito feliz com esta nova conquista!\": \"Felicidade\", \"Isso me deixa com uma alegria indescritível.\": \"Felicidade\", \"Essa notícia me trouxe um sorriso de orelha a orelha!\": \"Felicidade\", \"Fico tão feliz quando vejo o sucesso dos meus amigos.\": \"Felicidade\", \"Estou radiante com o resultado do projeto!\": \"Felicidade\", \"Estou tão triste por não poder estar presente no aniversário dela.\": \"Tristeza\", \"Meu coração dói de saudades dos velhos tempos.\": \"Tristeza\", \"Não suporto mais essa sensação de vazio que me consome.\": \"Tristeza\", \"Sinto um aperto no peito ao lembrar da perda que sofri.\": \"Tristeza\", \"Estou devastado com essa notícia terrível que recebi.\": \"Tristeza\", \"Estou furioso com a incompetência dessa empresa.\": \"Raiva\", \"Essa atitude me deixa tão irritado!\": \"Raiva\", \"Não tolero a falta de respeito.\": \"Raiva\", \"Estou com tanta raiva que mal consigo falar direito.\": \"Raiva\", \"Essa injustiça me faz querer gritar de raiva.\": \"Raiva\", \"Estou transbordando de alegria com essa novidade que recebi!\": \"Felicidade\", \"Estou completamente apaixonado por esse filme que acabei de assistir!\": \"Felicidade\", \"Estou radiante com a chegada das férias tão esperadas!\": \"Felicidade\", \"Que alegria poder passar tempo com a família reunida!\": \"Felicidade\", \"Estou tão feliz que mal posso conter o sorriso no rosto.\": \"Felicidade\", \"Estou triste por não poder estar presente na festa de aniversário dela.\": \"Tristeza\", \"Essa lembrança traz lágrimas aos meus olhos.\": \"Tristeza\", \"A solidão está me consumindo aos poucos.\": \"Tristeza\", \"Sinto um vazio imenso dentro de mim desde que você partiu.\": \"Tristeza\", \"Estou deprimido com a situação atual do mundo.\": \"Tristeza\", \"Estou revoltado com a falta de ética dessa empresa.\": \"Raiva\", \"Essa atitude é completamente inaceitável e me deixa revoltado!\": \"Raiva\", \"Estou com raiva até o último fio de cabelo.\": \"Raiva\", \"Essa incompetência me deixa enfurecido!\": \"Raiva\", \"Estou tão zangado que mal consigo raciocinar direito.\": \"Raiva\", \"Estou radiante com a notícia do novo emprego que consegui!\": \"Felicidade\", \"Estou tão feliz que sinto borboletas no estômago!\": \"Felicidade\", \"Essa conquista é motivo de grande alegria para mim!\": \"Felicidade\", \"Estou nas nuvens com o resultado positivo do exame!\": \"Felicidade\", \"Que alegria poder realizar esse sonho que tanto almejei!\": \"Felicidade\", \"Estou triste por não poder participar da celebração da vitória de vocês.\": \"Tristeza\", \"Essa perda é um golpe duro demais para superar.\": \"Tristeza\", \"Sinto um peso no coração ao lembrar do passado que ficou para trás.\": \"Tristeza\", \"A saudade é uma dor que não passa e me consome dia após dia.\": \"Tristeza\", \"Estou tão triste que mal consigo me concentrar nas atividades do dia a dia.\": \"Tristeza\", \"Estou revoltado com a corrupção que assola este país.\": \"Raiva\", \"Essa injustiça é um absurdo completo e me deixa revoltado!\": \"Raiva\", \"Estou com uma raiva que não cabe em mim!\": \"Raiva\", \"Essa incompetência me deixa fora de mim de tanta raiva!\": \"Raiva\", \"Estou tão enfurecido que mal consigo falar!\": \"Raiva\", \"Estou radiante com a notícia do casamento de vocês!\": \"Felicidade\", \"Estou tão feliz que mal consigo conter as lágrimas de emoção!\": \"Felicidade\", \"Que felicidade poder compartilhar esse momento tão especial com vocês!\": \"Felicidade\", \"Estou tão feliz que sinto que vou explodir de alegria a qualquer momento!\": \"Felicidade\", \"Que felicidade poder ver meu filho crescer saudável e feliz!\": \"Felicidade\"\n",
    "}\n",
    "\n"
   ]
  },
  {
   "cell_type": "code",
   "execution_count": 2,
   "id": "5c882ade",
   "metadata": {},
   "outputs": [],
   "source": [
    "frases_sentimentos_adicionais = {\"Estou muito feliz com esta nova conquista!\": \"Felicidade\", \"Isso me deixa com uma alegria indescritível.\": \"Felicidade\", \"Essa notícia me trouxe um sorriso de orelha a orelha!\": \"Felicidade\", \"Fico tão feliz quando vejo o sucesso dos meus amigos.\": \"Felicidade\", \"Estou radiante com o resultado do projeto!\": \"Felicidade\", \"Estou tão triste por não poder estar presente no aniversário dela.\": \"Tristeza\", \"Meu coração dói de saudades dos velhos tempos.\": \"Tristeza\", \"Não suporto mais essa sensação de vazio que me consome.\": \"Tristeza\", \"Sinto um aperto no peito ao lembrar da perda que sofri.\": \"Tristeza\", \"Estou devastado com essa notícia terrível que recebi.\": \"Tristeza\", \"Estou furioso com a incompetência dessa empresa.\": \"Raiva\", \"Essa atitude me deixa tão irritado!\": \"Raiva\", \"Não tolero a falta de respeito.\": \"Raiva\", \"Estou com tanta raiva que mal consigo falar direito.\": \"Raiva\", \"Essa injustiça me faz querer gritar de raiva.\": \"Raiva\", \"Estou transbordando de alegria com essa novidade que recebi!\": \"Felicidade\", \"Estou completamente apaixonado por esse filme que acabei de assistir!\": \"Felicidade\", \"Estou radiante com a chegada das férias tão esperadas!\": \"Felicidade\", \"Que alegria poder passar tempo com a família reunida!\": \"Felicidade\", \"Estou tão feliz que mal posso conter o sorriso no rosto.\": \"Felicidade\", \"Estou triste por não poder estar presente na festa de aniversário dela.\": \"Tristeza\", \"Essa lembrança traz lágrimas aos meus olhos.\": \"Tristeza\", \"A solidão está me consumindo aos poucos.\": \"Tristeza\", \"Sinto um vazio imenso dentro de mim desde que você partiu.\": \"Tristeza\", \"Estou deprimido com a situação atual do mundo.\": \"Tristeza\", \"Estou revoltado com a falta de ética dessa empresa.\": \"Raiva\", \"Essa atitude é completamente inaceitável e me deixa revoltado!\": \"Raiva\", \"Estou com raiva até o último fio de cabelo.\": \"Raiva\", \"Essa incompetência me deixa enfurecido!\": \"Raiva\", \"Estou tão zangado que mal consigo raciocinar direito.\": \"Raiva\", \"Estou radiante com a notícia do novo emprego que consegui!\": \"Felicidade\", \"Estou tão feliz que sinto borboletas no estômago!\": \"Felicidade\", \"Essa conquista é motivo de grande alegria para mim!\": \"Felicidade\", \"Estou nas nuvens com o resultado positivo do exame!\": \"Felicidade\", \"Que alegria poder realizar esse sonho que tanto almejei!\": \"Felicidade\", \"Estou triste por não poder participar da celebração da vitória de vocês.\": \"Tristeza\", \"Essa perda é um golpe duro demais para superar.\": \"Tristeza\", \"Sinto um peso no coração ao lembrar do passado que ficou para trás.\": \"Tristeza\", \"A saudade é uma dor que não passa e me consome dia após dia.\": \"Tristeza\", \"Estou tão triste que mal consigo me concentrar nas atividades do dia a dia.\": \"Tristeza\", \"Estou revoltado com a corrupção que assola este país.\": \"Raiva\", \"Essa injustiça é um absurdo completo e me deixa revoltado!\": \"Raiva\", \"Estou com uma raiva que não cabe em mim!\": \"Raiva\", \"Essa incompetência me deixa fora de mim de tanta raiva!\": \"Raiva\", \"Estou tão enfurecido que mal consigo falar!\": \"Raiva\", \"Estou radiante com a notícia do casamento de vocês!\": \"Felicidade\", \"Estou tão feliz que mal consigo conter as lágrimas de emoção!\": \"Felicidade\", \"Que felicidade poder compartilhar esse momento tão especial com vocês!\": \"Felicidade\", \"Estou tão feliz que sinto que vou explodir de alegria a qualquer momento!\": \"Felicidade\", \"Que felicidade poder ver meu filho crescer saudável e feliz!\": \"Felicidade\"}\n"
   ]
  },
  {
   "cell_type": "code",
   "execution_count": 39,
   "id": "5deb66fe",
   "metadata": {},
   "outputs": [
    {
     "data": {
      "text/html": [
       "<div>\n",
       "<style scoped>\n",
       "    .dataframe tbody tr th:only-of-type {\n",
       "        vertical-align: middle;\n",
       "    }\n",
       "\n",
       "    .dataframe tbody tr th {\n",
       "        vertical-align: top;\n",
       "    }\n",
       "\n",
       "    .dataframe thead th {\n",
       "        text-align: right;\n",
       "    }\n",
       "</style>\n",
       "<table border=\"1\" class=\"dataframe\">\n",
       "  <thead>\n",
       "    <tr style=\"text-align: right;\">\n",
       "      <th></th>\n",
       "      <th>Frase</th>\n",
       "      <th>Sentimento</th>\n",
       "    </tr>\n",
       "  </thead>\n",
       "  <tbody>\n",
       "    <tr>\n",
       "      <th>0</th>\n",
       "      <td>Estou muito feliz com este resultado!</td>\n",
       "      <td>Felicidade</td>\n",
       "    </tr>\n",
       "    <tr>\n",
       "      <th>1</th>\n",
       "      <td>Isso me deixa com muita raiva.</td>\n",
       "      <td>Raiva</td>\n",
       "    </tr>\n",
       "    <tr>\n",
       "      <th>2</th>\n",
       "      <td>Sinto-me triste com essa situação.</td>\n",
       "      <td>Tristeza</td>\n",
       "    </tr>\n",
       "    <tr>\n",
       "      <th>3</th>\n",
       "      <td>Estou tão animado para este evento!</td>\n",
       "      <td>Felicidade</td>\n",
       "    </tr>\n",
       "    <tr>\n",
       "      <th>4</th>\n",
       "      <td>Essa história me deixa arrepiado.</td>\n",
       "      <td>Tristeza</td>\n",
       "    </tr>\n",
       "  </tbody>\n",
       "</table>\n",
       "</div>"
      ],
      "text/plain": [
       "                                   Frase  Sentimento\n",
       "0  Estou muito feliz com este resultado!  Felicidade\n",
       "1         Isso me deixa com muita raiva.       Raiva\n",
       "2     Sinto-me triste com essa situação.    Tristeza\n",
       "3    Estou tão animado para este evento!  Felicidade\n",
       "4      Essa história me deixa arrepiado.    Tristeza"
      ]
     },
     "execution_count": 39,
     "metadata": {},
     "output_type": "execute_result"
    }
   ],
   "source": [
    "df = pd.DataFrame(frases_sentimentos.items(), columns=['Frase', 'Sentimento'])\n",
    "df.head()"
   ]
  },
  {
   "cell_type": "code",
   "execution_count": 51,
   "id": "c0197fec",
   "metadata": {},
   "outputs": [
    {
     "data": {
      "text/plain": [
       "(75, 2)"
      ]
     },
     "execution_count": 51,
     "metadata": {},
     "output_type": "execute_result"
    }
   ],
   "source": [
    "df.shape"
   ]
  },
  {
   "cell_type": "code",
   "execution_count": null,
   "id": "bbc59641",
   "metadata": {},
   "outputs": [],
   "source": []
  },
  {
   "cell_type": "markdown",
   "id": "1a8065b6",
   "metadata": {},
   "source": [
    "## Preparação dos textos\n"
   ]
  },
  {
   "cell_type": "markdown",
   "id": "67a6f8c2",
   "metadata": {},
   "source": [
    "### Stopwords\n",
    "\n",
    "Pelo pacote nltk"
   ]
  },
  {
   "cell_type": "code",
   "execution_count": 12,
   "id": "1800de06",
   "metadata": {},
   "outputs": [
    {
     "name": "stderr",
     "output_type": "stream",
     "text": [
      "[nltk_data] Downloading package stopwords to C:\\Users\\Ben-\n",
      "[nltk_data]     Hur\\AppData\\Roaming\\nltk_data...\n",
      "[nltk_data]   Unzipping corpora\\stopwords.zip.\n"
     ]
    },
    {
     "data": {
      "text/plain": [
       "True"
      ]
     },
     "execution_count": 12,
     "metadata": {},
     "output_type": "execute_result"
    }
   ],
   "source": [
    "import nltk\n",
    "nltk.download('stopwords')\n"
   ]
  },
  {
   "cell_type": "code",
   "execution_count": 14,
   "id": "12cfa082",
   "metadata": {},
   "outputs": [
    {
     "data": {
      "text/plain": [
       "['a',\n",
       " 'à',\n",
       " 'ao',\n",
       " 'aos',\n",
       " 'aquela',\n",
       " 'aquelas',\n",
       " 'aquele',\n",
       " 'aqueles',\n",
       " 'aquilo',\n",
       " 'as',\n",
       " 'às',\n",
       " 'até',\n",
       " 'com',\n",
       " 'como',\n",
       " 'da',\n",
       " 'das',\n",
       " 'de',\n",
       " 'dela',\n",
       " 'delas',\n",
       " 'dele',\n",
       " 'deles',\n",
       " 'depois',\n",
       " 'do',\n",
       " 'dos',\n",
       " 'e',\n",
       " 'é',\n",
       " 'ela',\n",
       " 'elas',\n",
       " 'ele',\n",
       " 'eles',\n",
       " 'em',\n",
       " 'entre',\n",
       " 'era',\n",
       " 'eram',\n",
       " 'éramos',\n",
       " 'essa',\n",
       " 'essas',\n",
       " 'esse',\n",
       " 'esses',\n",
       " 'esta',\n",
       " 'está',\n",
       " 'estamos',\n",
       " 'estão',\n",
       " 'estar',\n",
       " 'estas',\n",
       " 'estava',\n",
       " 'estavam',\n",
       " 'estávamos',\n",
       " 'este',\n",
       " 'esteja',\n",
       " 'estejam',\n",
       " 'estejamos',\n",
       " 'estes',\n",
       " 'esteve',\n",
       " 'estive',\n",
       " 'estivemos',\n",
       " 'estiver',\n",
       " 'estivera',\n",
       " 'estiveram',\n",
       " 'estivéramos',\n",
       " 'estiverem',\n",
       " 'estivermos',\n",
       " 'estivesse',\n",
       " 'estivessem',\n",
       " 'estivéssemos',\n",
       " 'estou',\n",
       " 'eu',\n",
       " 'foi',\n",
       " 'fomos',\n",
       " 'for',\n",
       " 'fora',\n",
       " 'foram',\n",
       " 'fôramos',\n",
       " 'forem',\n",
       " 'formos',\n",
       " 'fosse',\n",
       " 'fossem',\n",
       " 'fôssemos',\n",
       " 'fui',\n",
       " 'há',\n",
       " 'haja',\n",
       " 'hajam',\n",
       " 'hajamos',\n",
       " 'hão',\n",
       " 'havemos',\n",
       " 'haver',\n",
       " 'hei',\n",
       " 'houve',\n",
       " 'houvemos',\n",
       " 'houver',\n",
       " 'houvera',\n",
       " 'houverá',\n",
       " 'houveram',\n",
       " 'houvéramos',\n",
       " 'houverão',\n",
       " 'houverei',\n",
       " 'houverem',\n",
       " 'houveremos',\n",
       " 'houveria',\n",
       " 'houveriam',\n",
       " 'houveríamos',\n",
       " 'houvermos',\n",
       " 'houvesse',\n",
       " 'houvessem',\n",
       " 'houvéssemos',\n",
       " 'isso',\n",
       " 'isto',\n",
       " 'já',\n",
       " 'lhe',\n",
       " 'lhes',\n",
       " 'mais',\n",
       " 'mas',\n",
       " 'me',\n",
       " 'mesmo',\n",
       " 'meu',\n",
       " 'meus',\n",
       " 'minha',\n",
       " 'minhas',\n",
       " 'muito',\n",
       " 'na',\n",
       " 'não',\n",
       " 'nas',\n",
       " 'nem',\n",
       " 'no',\n",
       " 'nos',\n",
       " 'nós',\n",
       " 'nossa',\n",
       " 'nossas',\n",
       " 'nosso',\n",
       " 'nossos',\n",
       " 'num',\n",
       " 'numa',\n",
       " 'o',\n",
       " 'os',\n",
       " 'ou',\n",
       " 'para',\n",
       " 'pela',\n",
       " 'pelas',\n",
       " 'pelo',\n",
       " 'pelos',\n",
       " 'por',\n",
       " 'qual',\n",
       " 'quando',\n",
       " 'que',\n",
       " 'quem',\n",
       " 'são',\n",
       " 'se',\n",
       " 'seja',\n",
       " 'sejam',\n",
       " 'sejamos',\n",
       " 'sem',\n",
       " 'ser',\n",
       " 'será',\n",
       " 'serão',\n",
       " 'serei',\n",
       " 'seremos',\n",
       " 'seria',\n",
       " 'seriam',\n",
       " 'seríamos',\n",
       " 'seu',\n",
       " 'seus',\n",
       " 'só',\n",
       " 'somos',\n",
       " 'sou',\n",
       " 'sua',\n",
       " 'suas',\n",
       " 'também',\n",
       " 'te',\n",
       " 'tem',\n",
       " 'tém',\n",
       " 'temos',\n",
       " 'tenha',\n",
       " 'tenham',\n",
       " 'tenhamos',\n",
       " 'tenho',\n",
       " 'terá',\n",
       " 'terão',\n",
       " 'terei',\n",
       " 'teremos',\n",
       " 'teria',\n",
       " 'teriam',\n",
       " 'teríamos',\n",
       " 'teu',\n",
       " 'teus',\n",
       " 'teve',\n",
       " 'tinha',\n",
       " 'tinham',\n",
       " 'tínhamos',\n",
       " 'tive',\n",
       " 'tivemos',\n",
       " 'tiver',\n",
       " 'tivera',\n",
       " 'tiveram',\n",
       " 'tivéramos',\n",
       " 'tiverem',\n",
       " 'tivermos',\n",
       " 'tivesse',\n",
       " 'tivessem',\n",
       " 'tivéssemos',\n",
       " 'tu',\n",
       " 'tua',\n",
       " 'tuas',\n",
       " 'um',\n",
       " 'uma',\n",
       " 'você',\n",
       " 'vocês',\n",
       " 'vos']"
      ]
     },
     "execution_count": 14,
     "metadata": {},
     "output_type": "execute_result"
    }
   ],
   "source": [
    "lista_stopwords = nltk.corpus.stopwords.words('portuguese')\n",
    "lista_stopwords"
   ]
  },
  {
   "cell_type": "markdown",
   "id": "1b36a519",
   "metadata": {},
   "source": [
    "### Removendo as stopwords"
   ]
  },
  {
   "cell_type": "code",
   "execution_count": 42,
   "id": "cea02b5f",
   "metadata": {},
   "outputs": [],
   "source": [
    "df_stop = df.copy()"
   ]
  },
  {
   "cell_type": "code",
   "execution_count": 44,
   "id": "498ec445",
   "metadata": {},
   "outputs": [
    {
     "data": {
      "text/html": [
       "<div>\n",
       "<style scoped>\n",
       "    .dataframe tbody tr th:only-of-type {\n",
       "        vertical-align: middle;\n",
       "    }\n",
       "\n",
       "    .dataframe tbody tr th {\n",
       "        vertical-align: top;\n",
       "    }\n",
       "\n",
       "    .dataframe thead th {\n",
       "        text-align: right;\n",
       "    }\n",
       "</style>\n",
       "<table border=\"1\" class=\"dataframe\">\n",
       "  <thead>\n",
       "    <tr style=\"text-align: right;\">\n",
       "      <th></th>\n",
       "      <th>Frase</th>\n",
       "      <th>Sentimento</th>\n",
       "      <th>Frase Limpa</th>\n",
       "    </tr>\n",
       "  </thead>\n",
       "  <tbody>\n",
       "    <tr>\n",
       "      <th>0</th>\n",
       "      <td>feliz resultado !</td>\n",
       "      <td>Felicidade</td>\n",
       "      <td>feliz resultado !</td>\n",
       "    </tr>\n",
       "    <tr>\n",
       "      <th>1</th>\n",
       "      <td>deixa muita raiva .</td>\n",
       "      <td>Raiva</td>\n",
       "      <td>deixa muita raiva .</td>\n",
       "    </tr>\n",
       "    <tr>\n",
       "      <th>2</th>\n",
       "      <td>Sinto-me triste situação .</td>\n",
       "      <td>Tristeza</td>\n",
       "      <td>Sinto-me triste situação .</td>\n",
       "    </tr>\n",
       "    <tr>\n",
       "      <th>3</th>\n",
       "      <td>tão animado evento !</td>\n",
       "      <td>Felicidade</td>\n",
       "      <td>tão animado evento !</td>\n",
       "    </tr>\n",
       "    <tr>\n",
       "      <th>4</th>\n",
       "      <td>história deixa arrepiado .</td>\n",
       "      <td>Tristeza</td>\n",
       "      <td>história deixa arrepiado .</td>\n",
       "    </tr>\n",
       "    <tr>\n",
       "      <th>...</th>\n",
       "      <td>...</td>\n",
       "      <td>...</td>\n",
       "      <td>...</td>\n",
       "    </tr>\n",
       "    <tr>\n",
       "      <th>70</th>\n",
       "      <td>radiante notícia casamento !</td>\n",
       "      <td>Felicidade</td>\n",
       "      <td>radiante notícia casamento !</td>\n",
       "    </tr>\n",
       "    <tr>\n",
       "      <th>71</th>\n",
       "      <td>tão feliz mal consigo conter lágrimas !</td>\n",
       "      <td>Felicidade</td>\n",
       "      <td>tão feliz mal consigo conter lágrimas !</td>\n",
       "    </tr>\n",
       "    <tr>\n",
       "      <th>72</th>\n",
       "      <td>alegria poder compartilhar momento !</td>\n",
       "      <td>Felicidade</td>\n",
       "      <td>alegria poder compartilhar momento !</td>\n",
       "    </tr>\n",
       "    <tr>\n",
       "      <th>73</th>\n",
       "      <td>tão feliz sinto vou explodir alegria !</td>\n",
       "      <td>Felicidade</td>\n",
       "      <td>tão feliz sinto vou explodir alegria !</td>\n",
       "    </tr>\n",
       "    <tr>\n",
       "      <th>74</th>\n",
       "      <td>felicidade poder ver filho crescer !</td>\n",
       "      <td>Felicidade</td>\n",
       "      <td>felicidade poder ver filho crescer !</td>\n",
       "    </tr>\n",
       "  </tbody>\n",
       "</table>\n",
       "<p>75 rows × 3 columns</p>\n",
       "</div>"
      ],
      "text/plain": [
       "                                      Frase  Sentimento  \\\n",
       "0                         feliz resultado !  Felicidade   \n",
       "1                       deixa muita raiva .       Raiva   \n",
       "2                Sinto-me triste situação .    Tristeza   \n",
       "3                      tão animado evento !  Felicidade   \n",
       "4                história deixa arrepiado .    Tristeza   \n",
       "..                                      ...         ...   \n",
       "70             radiante notícia casamento !  Felicidade   \n",
       "71  tão feliz mal consigo conter lágrimas !  Felicidade   \n",
       "72     alegria poder compartilhar momento !  Felicidade   \n",
       "73   tão feliz sinto vou explodir alegria !  Felicidade   \n",
       "74     felicidade poder ver filho crescer !  Felicidade   \n",
       "\n",
       "                                Frase Limpa  \n",
       "0                         feliz resultado !  \n",
       "1                       deixa muita raiva .  \n",
       "2                Sinto-me triste situação .  \n",
       "3                      tão animado evento !  \n",
       "4                história deixa arrepiado .  \n",
       "..                                      ...  \n",
       "70             radiante notícia casamento !  \n",
       "71  tão feliz mal consigo conter lágrimas !  \n",
       "72     alegria poder compartilhar momento !  \n",
       "73   tão feliz sinto vou explodir alegria !  \n",
       "74     felicidade poder ver filho crescer !  \n",
       "\n",
       "[75 rows x 3 columns]"
      ]
     },
     "execution_count": 44,
     "metadata": {},
     "output_type": "execute_result"
    }
   ],
   "source": [
    "def remove_stopwords_from_text(text):\n",
    "    tokens = word_tokenize(text, language='portuguese')\n",
    "    filtered_tokens = [word for word in tokens if word.lower() not in lista_stopwords]\n",
    "    return ' '.join(filtered_tokens)\n",
    "\n",
    "# Remove as stopwords da coluna 'Frase'\n",
    "df_stop['Frase Limpa'] = df_stop['Frase'].apply(remove_stopwords_from_text)\n",
    "df_stop\n"
   ]
  },
  {
   "cell_type": "code",
   "execution_count": null,
   "id": "1e861960",
   "metadata": {},
   "outputs": [],
   "source": []
  },
  {
   "cell_type": "markdown",
   "id": "2b556cbf",
   "metadata": {},
   "source": [
    "### Representação de texto (Bag of word)"
   ]
  },
  {
   "cell_type": "code",
   "execution_count": 46,
   "id": "c94487e5",
   "metadata": {},
   "outputs": [],
   "source": [
    "from sklearn.feature_extraction.text import CountVectorizer"
   ]
  },
  {
   "cell_type": "code",
   "execution_count": 48,
   "id": "34c6e3e2",
   "metadata": {},
   "outputs": [],
   "source": [
    "countvec = CountVectorizer(ngram_range = (1,2))\n",
    "countvec_data = countvec.fit_transform(df_stop['Frase Limpa'])"
   ]
  },
  {
   "cell_type": "code",
   "execution_count": 49,
   "id": "6dd92abc",
   "metadata": {
    "scrolled": true
   },
   "outputs": [
    {
     "name": "stdout",
     "output_type": "stream",
     "text": [
      "{'feliz': 123, 'resultado': 254, 'feliz resultado': 126, 'deixa': 63, 'muita': 186, 'raiva': 247, 'deixa muita': 69, 'muita raiva': 187, 'sinto': 267, 'me': 177, 'triste': 302, 'situação': 275, 'sinto me': 271, 'me triste': 178, 'triste situação': 305, 'tão': 309, 'animado': 10, 'evento': 105, 'tão animado': 310, 'animado evento': 11, 'história': 150, 'arrepiado': 16, 'história deixa': 151, 'deixa arrepiado': 65, 'fiquei': 138, 'furioso': 140, 'ouvi': 203, 'fiquei tão': 139, 'tão furioso': 313, 'furioso ouvi': 142, 'deprimido': 75, 'notícias': 195, 'hoje': 152, 'deprimido notícias': 76, 'notícias hoje': 196, 'radiante': 241, 'notícia': 190, 'radiante notícia': 244, 'injustiça': 160, 'injustiça deixa': 162, 'deixa furioso': 67, 'coração': 55, 'doendo': 86, 'tristeza': 306, 'coração doendo': 56, 'doendo tristeza': 87, 'chocado': 30, 'revelação': 256, 'chocado revelação': 31, 'transbordando': 297, 'felicidade': 120, 'transbordando felicidade': 299, 'sentindo': 265, 'miserável': 182, 'sentindo tão': 266, 'tão miserável': 315, 'vitória': 324, 'radiante vitória': 246, 'tanto': 290, 'medo': 179, 'situação deixa': 277, 'deixa tanto': 70, 'tanto medo': 291, 'faz': 116, 'ferver': 128, 'injustiça faz': 163, 'faz ferver': 117, 'ferver raiva': 129, 'completamente': 34, 'desamparado': 78, 'sinto completamente': 270, 'completamente desamparado': 36, 'eufórico': 103, 'eufórico notícia': 104, 'pode': 221, 'acontecer': 2, 'medo pode': 180, 'pode acontecer': 222, 'perder': 217, 'controle': 53, 'tanta': 288, 'faz perder': 118, 'perder controle': 218, 'controle tanta': 54, 'tanta raiva': 289, 'partido': 206, 'coração partido': 59, 'partido notícia': 207, 'emoção': 94, 'felicidade emoção': 121, 'enfurece': 97, 'situação enfurece': 278, 'enfurece tanto': 98, 'devastado': 82, 'tragédia': 296, 'devastado tragédia': 84, 'conquista': 40, 'radiante conquista': 243, 'extasiado': 109, 'descoberta': 79, 'extasiado descoberta': 110, 'alegria': 5, 'imensa': 153, 'deixa alegria': 64, 'alegria imensa': 6, 'trouxe': 307, 'sorriso': 282, 'enorme': 101, 'notícia trouxe': 194, 'trouxe sorriso': 308, 'sorriso enorme': 283, 'fico': 131, 'amigos': 9, 'fico tão': 132, 'tão feliz': 312, 'feliz amigos': 124, 'sucesso': 284, 'projeto': 236, 'radiante sucesso': 245, 'sucesso projeto': 285, 'poder': 223, 'ir': 164, 'tão triste': 316, 'triste poder': 304, 'poder ir': 225, 'ir evento': 165, 'dói': 92, 'saudade': 260, 'velhos': 320, 'tempos': 294, 'coração dói': 57, 'dói saudade': 93, 'saudade velhos': 262, 'velhos tempos': 321, 'aguento': 3, 'sensação': 263, 'vazio': 318, 'aguento sensação': 4, 'sensação vazio': 264, 'aperto': 14, 'peito': 213, 'lembrar': 169, 'perda': 215, 'sinto aperto': 268, 'aperto peito': 15, 'peito lembrar': 214, 'lembrar perda': 171, 'terrível': 295, 'devastado notícia': 83, 'notícia terrível': 193, 'incompetência': 157, 'dessa': 80, 'empresa': 96, 'furioso incompetência': 141, 'incompetência dessa': 159, 'dessa empresa': 81, 'atitude': 17, 'irritado': 166, 'atitude deixa': 19, 'deixa tão': 71, 'tão irritado': 314, 'consigo': 42, 'suportar': 286, 'falta': 112, 'respeito': 253, 'consigo suportar': 47, 'suportar falta': 287, 'falta respeito': 113, 'mal': 174, 'falar': 111, 'raiva mal': 249, 'mal consigo': 175, 'consigo falar': 45, 'querer': 237, 'gritar': 148, 'faz querer': 119, 'querer gritar': 238, 'gritar raiva': 149, 'novidade': 197, 'transbordando alegria': 298, 'alegria novidade': 7, 'apaixonado': 12, 'filme': 135, 'completamente apaixonado': 35, 'apaixonado filme': 13, 'chegada': 28, 'férias': 143, 'radiante chegada': 242, 'chegada férias': 29, 'passar': 210, 'tempo': 292, 'família': 115, 'alegria poder': 8, 'poder passar': 227, 'passar tempo': 211, 'tempo família': 293, 'posso': 231, 'conter': 50, 'feliz mal': 125, 'mal posso': 176, 'posso conter': 232, 'conter sorriso': 52, 'presente': 234, 'festa': 130, 'poder presente': 228, 'presente festa': 235, 'lembrança': 167, 'traz': 300, 'lágrimas': 172, 'olhos': 202, 'lembrança traz': 168, 'traz lágrimas': 301, 'lágrimas olhos': 173, 'solidão': 279, 'consumindo': 48, 'poucos': 233, 'solidão consumindo': 280, 'consumindo poucos': 49, 'imenso': 154, 'dentro': 73, 'mim': 181, 'sinto vazio': 273, 'vazio imenso': 319, 'imenso dentro': 155, 'dentro mim': 74, 'atual': 20, 'deprimido situação': 77, 'situação atual': 276, 'revoltado': 257, 'ética': 329, 'revoltado falta': 259, 'falta ética': 114, 'ética dessa': 330, 'inaceitável': 156, 'atitude completamente': 18, 'completamente inaceitável': 37, 'último': 331, 'fio': 136, 'cabelo': 25, 'raiva último': 250, 'último fio': 332, 'fio cabelo': 137, 'enfurecido': 99, 'incompetência deixa': 158, 'deixa enfurecido': 66, 'zangado': 327, 'raciocinar': 239, 'direito': 85, 'tão zangado': 317, 'zangado mal': 328, 'consigo raciocinar': 46, 'raciocinar direito': 240, 'novo': 198, 'emprego': 95, 'notícia novo': 192, 'novo emprego': 199, 'borboletas': 21, 'estômago': 102, 'feliz sinto': 127, 'sinto borboletas': 269, 'borboletas estômago': 22, 'motivo': 184, 'grande': 146, 'conquista motivo': 41, 'motivo grande': 185, 'grande alegria': 147, 'nuvens': 200, 'exame': 106, 'nuvens resultado': 201, 'resultado exame': 255, 'realizar': 251, 'sonho': 281, 'poder realizar': 229, 'realizar sonho': 252, 'participar': 204, 'celebração': 27, 'poder participar': 226, 'participar celebração': 205, 'golpe': 144, 'duro': 90, 'demais': 72, 'perda golpe': 216, 'golpe duro': 145, 'duro demais': 91, 'peso': 219, 'passado': 209, 'sinto peso': 272, 'peso coração': 220, 'coração lembrar': 58, 'lembrar passado': 170, 'dor': 88, 'passa': 208, 'saudade dor': 261, 'dor passa': 89, 'concentrar': 39, 'triste mal': 303, 'consigo concentrar': 43, 'corrupção': 60, 'neste': 188, 'país': 212, 'revoltado corrupção': 258, 'corrupção neste': 61, 'neste país': 189, 'absurdo': 0, 'completo': 38, 'injustiça absurdo': 161, 'absurdo completo': 1, 'cabe': 23, 'raiva cabe': 248, 'cabe mim': 24, 'deixa mim': 68, 'tão enfurecido': 311, 'enfurecido mal': 100, 'casamento': 26, 'notícia casamento': 191, 'consigo conter': 44, 'conter lágrimas': 51, 'compartilhar': 32, 'momento': 183, 'poder compartilhar': 224, 'compartilhar momento': 33, 'vou': 325, 'explodir': 107, 'sinto vou': 274, 'vou explodir': 326, 'explodir alegria': 108, 'ver': 322, 'filho': 133, 'crescer': 62, 'felicidade poder': 122, 'poder ver': 230, 'ver filho': 323, 'filho crescer': 134}\n"
     ]
    }
   ],
   "source": [
    "# Vocabulário criado a partir dos textos\n",
    "print(countvec.vocabulary_)"
   ]
  },
  {
   "cell_type": "code",
   "execution_count": 50,
   "id": "3d8549d7",
   "metadata": {},
   "outputs": [
    {
     "data": {
      "text/plain": [
       "(75, 333)"
      ]
     },
     "execution_count": 50,
     "metadata": {},
     "output_type": "execute_result"
    }
   ],
   "source": [
    "countvec_data.shape"
   ]
  },
  {
   "cell_type": "code",
   "execution_count": 60,
   "id": "40abee6c",
   "metadata": {},
   "outputs": [
    {
     "name": "stderr",
     "output_type": "stream",
     "text": [
      "C:\\Users\\Ben-Hur\\anaconda3\\lib\\site-packages\\sklearn\\utils\\deprecation.py:87: FutureWarning: Function get_feature_names is deprecated; get_feature_names is deprecated in 1.0 and will be removed in 1.2. Please use get_feature_names_out instead.\n",
      "  warnings.warn(msg, category=FutureWarning)\n"
     ]
    },
    {
     "data": {
      "text/html": [
       "<div>\n",
       "<style scoped>\n",
       "    .dataframe tbody tr th:only-of-type {\n",
       "        vertical-align: middle;\n",
       "    }\n",
       "\n",
       "    .dataframe tbody tr th {\n",
       "        vertical-align: top;\n",
       "    }\n",
       "\n",
       "    .dataframe thead th {\n",
       "        text-align: right;\n",
       "    }\n",
       "</style>\n",
       "<table border=\"1\" class=\"dataframe\">\n",
       "  <thead>\n",
       "    <tr style=\"text-align: right;\">\n",
       "      <th></th>\n",
       "      <th>absurdo</th>\n",
       "      <th>absurdo completo</th>\n",
       "      <th>acontecer</th>\n",
       "      <th>aguento</th>\n",
       "      <th>aguento sensação</th>\n",
       "      <th>alegria</th>\n",
       "      <th>alegria imensa</th>\n",
       "      <th>alegria novidade</th>\n",
       "      <th>alegria poder</th>\n",
       "      <th>amigos</th>\n",
       "      <th>...</th>\n",
       "      <th>vitória</th>\n",
       "      <th>vou</th>\n",
       "      <th>vou explodir</th>\n",
       "      <th>zangado</th>\n",
       "      <th>zangado mal</th>\n",
       "      <th>ética</th>\n",
       "      <th>ética dessa</th>\n",
       "      <th>último</th>\n",
       "      <th>último fio</th>\n",
       "      <th>Sentimento</th>\n",
       "    </tr>\n",
       "  </thead>\n",
       "  <tbody>\n",
       "    <tr>\n",
       "      <th>0</th>\n",
       "      <td>0</td>\n",
       "      <td>0</td>\n",
       "      <td>0</td>\n",
       "      <td>0</td>\n",
       "      <td>0</td>\n",
       "      <td>0</td>\n",
       "      <td>0</td>\n",
       "      <td>0</td>\n",
       "      <td>0</td>\n",
       "      <td>0</td>\n",
       "      <td>...</td>\n",
       "      <td>0</td>\n",
       "      <td>0</td>\n",
       "      <td>0</td>\n",
       "      <td>0</td>\n",
       "      <td>0</td>\n",
       "      <td>0</td>\n",
       "      <td>0</td>\n",
       "      <td>0</td>\n",
       "      <td>0</td>\n",
       "      <td>Felicidade</td>\n",
       "    </tr>\n",
       "    <tr>\n",
       "      <th>1</th>\n",
       "      <td>0</td>\n",
       "      <td>0</td>\n",
       "      <td>0</td>\n",
       "      <td>0</td>\n",
       "      <td>0</td>\n",
       "      <td>0</td>\n",
       "      <td>0</td>\n",
       "      <td>0</td>\n",
       "      <td>0</td>\n",
       "      <td>0</td>\n",
       "      <td>...</td>\n",
       "      <td>0</td>\n",
       "      <td>0</td>\n",
       "      <td>0</td>\n",
       "      <td>0</td>\n",
       "      <td>0</td>\n",
       "      <td>0</td>\n",
       "      <td>0</td>\n",
       "      <td>0</td>\n",
       "      <td>0</td>\n",
       "      <td>Raiva</td>\n",
       "    </tr>\n",
       "    <tr>\n",
       "      <th>2</th>\n",
       "      <td>0</td>\n",
       "      <td>0</td>\n",
       "      <td>0</td>\n",
       "      <td>0</td>\n",
       "      <td>0</td>\n",
       "      <td>0</td>\n",
       "      <td>0</td>\n",
       "      <td>0</td>\n",
       "      <td>0</td>\n",
       "      <td>0</td>\n",
       "      <td>...</td>\n",
       "      <td>0</td>\n",
       "      <td>0</td>\n",
       "      <td>0</td>\n",
       "      <td>0</td>\n",
       "      <td>0</td>\n",
       "      <td>0</td>\n",
       "      <td>0</td>\n",
       "      <td>0</td>\n",
       "      <td>0</td>\n",
       "      <td>Tristeza</td>\n",
       "    </tr>\n",
       "    <tr>\n",
       "      <th>3</th>\n",
       "      <td>0</td>\n",
       "      <td>0</td>\n",
       "      <td>0</td>\n",
       "      <td>0</td>\n",
       "      <td>0</td>\n",
       "      <td>0</td>\n",
       "      <td>0</td>\n",
       "      <td>0</td>\n",
       "      <td>0</td>\n",
       "      <td>0</td>\n",
       "      <td>...</td>\n",
       "      <td>0</td>\n",
       "      <td>0</td>\n",
       "      <td>0</td>\n",
       "      <td>0</td>\n",
       "      <td>0</td>\n",
       "      <td>0</td>\n",
       "      <td>0</td>\n",
       "      <td>0</td>\n",
       "      <td>0</td>\n",
       "      <td>Felicidade</td>\n",
       "    </tr>\n",
       "    <tr>\n",
       "      <th>4</th>\n",
       "      <td>0</td>\n",
       "      <td>0</td>\n",
       "      <td>0</td>\n",
       "      <td>0</td>\n",
       "      <td>0</td>\n",
       "      <td>0</td>\n",
       "      <td>0</td>\n",
       "      <td>0</td>\n",
       "      <td>0</td>\n",
       "      <td>0</td>\n",
       "      <td>...</td>\n",
       "      <td>0</td>\n",
       "      <td>0</td>\n",
       "      <td>0</td>\n",
       "      <td>0</td>\n",
       "      <td>0</td>\n",
       "      <td>0</td>\n",
       "      <td>0</td>\n",
       "      <td>0</td>\n",
       "      <td>0</td>\n",
       "      <td>Tristeza</td>\n",
       "    </tr>\n",
       "  </tbody>\n",
       "</table>\n",
       "<p>5 rows × 334 columns</p>\n",
       "</div>"
      ],
      "text/plain": [
       "   absurdo  absurdo completo  acontecer  aguento  aguento sensação  alegria  \\\n",
       "0        0                 0          0        0                 0        0   \n",
       "1        0                 0          0        0                 0        0   \n",
       "2        0                 0          0        0                 0        0   \n",
       "3        0                 0          0        0                 0        0   \n",
       "4        0                 0          0        0                 0        0   \n",
       "\n",
       "   alegria imensa  alegria novidade  alegria poder  amigos  ...  vitória  vou  \\\n",
       "0               0                 0              0       0  ...        0    0   \n",
       "1               0                 0              0       0  ...        0    0   \n",
       "2               0                 0              0       0  ...        0    0   \n",
       "3               0                 0              0       0  ...        0    0   \n",
       "4               0                 0              0       0  ...        0    0   \n",
       "\n",
       "   vou explodir  zangado  zangado mal  ética  ética dessa  último  último fio  \\\n",
       "0             0        0            0      0            0       0           0   \n",
       "1             0        0            0      0            0       0           0   \n",
       "2             0        0            0      0            0       0           0   \n",
       "3             0        0            0      0            0       0           0   \n",
       "4             0        0            0      0            0       0           0   \n",
       "\n",
       "   Sentimento  \n",
       "0  Felicidade  \n",
       "1       Raiva  \n",
       "2    Tristeza  \n",
       "3  Felicidade  \n",
       "4    Tristeza  \n",
       "\n",
       "[5 rows x 334 columns]"
      ]
     },
     "execution_count": 60,
     "metadata": {},
     "output_type": "execute_result"
    }
   ],
   "source": [
    "# Conversão da matriz esparsa para DataFrame\n",
    "df_bow = pd.DataFrame(countvec_data.toarray(), \n",
    "                      columns=countvec.get_feature_names())\n",
    "df_bow.index = df_stop.index\n",
    "df_bow = df_bow.join(df_stop[['Sentimento']], how='left')\n",
    "df_bow.head()"
   ]
  },
  {
   "cell_type": "code",
   "execution_count": 59,
   "id": "4b797868",
   "metadata": {},
   "outputs": [
    {
     "data": {
      "text/html": [
       "<div>\n",
       "<style scoped>\n",
       "    .dataframe tbody tr th:only-of-type {\n",
       "        vertical-align: middle;\n",
       "    }\n",
       "\n",
       "    .dataframe tbody tr th {\n",
       "        vertical-align: top;\n",
       "    }\n",
       "\n",
       "    .dataframe thead th {\n",
       "        text-align: right;\n",
       "    }\n",
       "</style>\n",
       "<table border=\"1\" class=\"dataframe\">\n",
       "  <thead>\n",
       "    <tr style=\"text-align: right;\">\n",
       "      <th></th>\n",
       "      <th>absurdo</th>\n",
       "      <th>absurdo completo</th>\n",
       "      <th>acontecer</th>\n",
       "      <th>aguento</th>\n",
       "      <th>aguento sensação</th>\n",
       "      <th>alegria</th>\n",
       "      <th>alegria imensa</th>\n",
       "      <th>alegria novidade</th>\n",
       "      <th>alegria poder</th>\n",
       "      <th>amigos</th>\n",
       "      <th>...</th>\n",
       "      <th>vitória</th>\n",
       "      <th>vou</th>\n",
       "      <th>vou explodir</th>\n",
       "      <th>zangado</th>\n",
       "      <th>zangado mal</th>\n",
       "      <th>ética</th>\n",
       "      <th>ética dessa</th>\n",
       "      <th>último</th>\n",
       "      <th>último fio</th>\n",
       "      <th>Sentimento</th>\n",
       "    </tr>\n",
       "  </thead>\n",
       "  <tbody>\n",
       "    <tr>\n",
       "      <th>0</th>\n",
       "      <td>0</td>\n",
       "      <td>0</td>\n",
       "      <td>0</td>\n",
       "      <td>0</td>\n",
       "      <td>0</td>\n",
       "      <td>0</td>\n",
       "      <td>0</td>\n",
       "      <td>0</td>\n",
       "      <td>0</td>\n",
       "      <td>0</td>\n",
       "      <td>...</td>\n",
       "      <td>0</td>\n",
       "      <td>0</td>\n",
       "      <td>0</td>\n",
       "      <td>0</td>\n",
       "      <td>0</td>\n",
       "      <td>0</td>\n",
       "      <td>0</td>\n",
       "      <td>0</td>\n",
       "      <td>0</td>\n",
       "      <td>0</td>\n",
       "    </tr>\n",
       "    <tr>\n",
       "      <th>1</th>\n",
       "      <td>0</td>\n",
       "      <td>0</td>\n",
       "      <td>0</td>\n",
       "      <td>0</td>\n",
       "      <td>0</td>\n",
       "      <td>0</td>\n",
       "      <td>0</td>\n",
       "      <td>0</td>\n",
       "      <td>0</td>\n",
       "      <td>0</td>\n",
       "      <td>...</td>\n",
       "      <td>0</td>\n",
       "      <td>0</td>\n",
       "      <td>0</td>\n",
       "      <td>0</td>\n",
       "      <td>0</td>\n",
       "      <td>0</td>\n",
       "      <td>0</td>\n",
       "      <td>0</td>\n",
       "      <td>0</td>\n",
       "      <td>2</td>\n",
       "    </tr>\n",
       "    <tr>\n",
       "      <th>2</th>\n",
       "      <td>0</td>\n",
       "      <td>0</td>\n",
       "      <td>0</td>\n",
       "      <td>0</td>\n",
       "      <td>0</td>\n",
       "      <td>0</td>\n",
       "      <td>0</td>\n",
       "      <td>0</td>\n",
       "      <td>0</td>\n",
       "      <td>0</td>\n",
       "      <td>...</td>\n",
       "      <td>0</td>\n",
       "      <td>0</td>\n",
       "      <td>0</td>\n",
       "      <td>0</td>\n",
       "      <td>0</td>\n",
       "      <td>0</td>\n",
       "      <td>0</td>\n",
       "      <td>0</td>\n",
       "      <td>0</td>\n",
       "      <td>1</td>\n",
       "    </tr>\n",
       "    <tr>\n",
       "      <th>3</th>\n",
       "      <td>0</td>\n",
       "      <td>0</td>\n",
       "      <td>0</td>\n",
       "      <td>0</td>\n",
       "      <td>0</td>\n",
       "      <td>0</td>\n",
       "      <td>0</td>\n",
       "      <td>0</td>\n",
       "      <td>0</td>\n",
       "      <td>0</td>\n",
       "      <td>...</td>\n",
       "      <td>0</td>\n",
       "      <td>0</td>\n",
       "      <td>0</td>\n",
       "      <td>0</td>\n",
       "      <td>0</td>\n",
       "      <td>0</td>\n",
       "      <td>0</td>\n",
       "      <td>0</td>\n",
       "      <td>0</td>\n",
       "      <td>0</td>\n",
       "    </tr>\n",
       "    <tr>\n",
       "      <th>4</th>\n",
       "      <td>0</td>\n",
       "      <td>0</td>\n",
       "      <td>0</td>\n",
       "      <td>0</td>\n",
       "      <td>0</td>\n",
       "      <td>0</td>\n",
       "      <td>0</td>\n",
       "      <td>0</td>\n",
       "      <td>0</td>\n",
       "      <td>0</td>\n",
       "      <td>...</td>\n",
       "      <td>0</td>\n",
       "      <td>0</td>\n",
       "      <td>0</td>\n",
       "      <td>0</td>\n",
       "      <td>0</td>\n",
       "      <td>0</td>\n",
       "      <td>0</td>\n",
       "      <td>0</td>\n",
       "      <td>0</td>\n",
       "      <td>1</td>\n",
       "    </tr>\n",
       "  </tbody>\n",
       "</table>\n",
       "<p>5 rows × 334 columns</p>\n",
       "</div>"
      ],
      "text/plain": [
       "   absurdo  absurdo completo  acontecer  aguento  aguento sensação  alegria  \\\n",
       "0        0                 0          0        0                 0        0   \n",
       "1        0                 0          0        0                 0        0   \n",
       "2        0                 0          0        0                 0        0   \n",
       "3        0                 0          0        0                 0        0   \n",
       "4        0                 0          0        0                 0        0   \n",
       "\n",
       "   alegria imensa  alegria novidade  alegria poder  amigos  ...  vitória  vou  \\\n",
       "0               0                 0              0       0  ...        0    0   \n",
       "1               0                 0              0       0  ...        0    0   \n",
       "2               0                 0              0       0  ...        0    0   \n",
       "3               0                 0              0       0  ...        0    0   \n",
       "4               0                 0              0       0  ...        0    0   \n",
       "\n",
       "   vou explodir  zangado  zangado mal  ética  ética dessa  último  último fio  \\\n",
       "0             0        0            0      0            0       0           0   \n",
       "1             0        0            0      0            0       0           0   \n",
       "2             0        0            0      0            0       0           0   \n",
       "3             0        0            0      0            0       0           0   \n",
       "4             0        0            0      0            0       0           0   \n",
       "\n",
       "   Sentimento  \n",
       "0           0  \n",
       "1           2  \n",
       "2           1  \n",
       "3           0  \n",
       "4           1  \n",
       "\n",
       "[5 rows x 334 columns]"
      ]
     },
     "execution_count": 59,
     "metadata": {},
     "output_type": "execute_result"
    }
   ],
   "source": [
    "sentimento_map = {'Felicidade': 0, 'Tristeza':1, 'Raiva':2}\n",
    "df_bow['Sentimento'] = df_bow['Sentimento'].map(sentimento_map)\n",
    "df_bow.head()"
   ]
  },
  {
   "cell_type": "markdown",
   "id": "559048f0",
   "metadata": {},
   "source": [
    "## Criação do modelo"
   ]
  },
  {
   "cell_type": "markdown",
   "id": "1b9b896b",
   "metadata": {},
   "source": [
    "###  Definição do Target e Feature "
   ]
  },
  {
   "cell_type": "code",
   "execution_count": 61,
   "id": "ef225d97",
   "metadata": {},
   "outputs": [],
   "source": [
    "# Target \n",
    "y = df_bow['Sentimento']\n",
    "\n",
    "# Features\n",
    "x = df_bow.drop('Sentimento', axis=1)"
   ]
  },
  {
   "cell_type": "markdown",
   "id": "231c7856",
   "metadata": {},
   "source": [
    "### Divisão de treino e teste"
   ]
  },
  {
   "cell_type": "code",
   "execution_count": 62,
   "id": "ffa6e29e",
   "metadata": {},
   "outputs": [],
   "source": [
    "x_train, x_test, y_train, y_test = train_test_split(x, \n",
    "                                                    y, \n",
    "                                                    test_size=0.30, \n",
    "                                                    random_state=42)"
   ]
  },
  {
   "cell_type": "code",
   "execution_count": 64,
   "id": "e6a295de",
   "metadata": {},
   "outputs": [
    {
     "data": {
      "text/plain": [
       "((52, 333), (23, 333), (52,), (23,))"
      ]
     },
     "execution_count": 64,
     "metadata": {},
     "output_type": "execute_result"
    }
   ],
   "source": [
    "(x_train.shape, x_test.shape, y_train.shape, y_test.shape)"
   ]
  },
  {
   "cell_type": "code",
   "execution_count": 68,
   "id": "472aeead",
   "metadata": {},
   "outputs": [
    {
     "data": {
      "text/plain": [
       "GradientBoostingClassifier(random_state=42, subsample=0.5)"
      ]
     },
     "execution_count": 68,
     "metadata": {},
     "output_type": "execute_result"
    }
   ],
   "source": [
    "modelo = GradientBoostingClassifier(n_estimators=100,\n",
    "                                        subsample=0.5,\n",
    "                                        random_state=42)\n",
    "modelo.fit(x_train, y_train)"
   ]
  },
  {
   "cell_type": "code",
   "execution_count": 71,
   "id": "37624e2f",
   "metadata": {},
   "outputs": [
    {
     "data": {
      "text/plain": [
       "array(['Raiva', 'Felicidade', 'Felicidade', 'Felicidade', 'Raiva',\n",
       "       'Felicidade', 'Felicidade', 'Felicidade', 'Raiva', 'Tristeza',\n",
       "       'Felicidade', 'Felicidade', 'Tristeza', 'Felicidade', 'Tristeza',\n",
       "       'Tristeza', 'Felicidade', 'Felicidade', 'Felicidade', 'Felicidade',\n",
       "       'Raiva', 'Felicidade', 'Felicidade'], dtype=object)"
      ]
     },
     "execution_count": 71,
     "metadata": {},
     "output_type": "execute_result"
    }
   ],
   "source": [
    "y_pred = modelo.predict(x_test)\n",
    "y_pred"
   ]
  },
  {
   "cell_type": "code",
   "execution_count": 77,
   "id": "780e7930",
   "metadata": {},
   "outputs": [
    {
     "name": "stdout",
     "output_type": "stream",
     "text": [
      "Acurácia: 0.4782608695652174\n"
     ]
    }
   ],
   "source": [
    "\n",
    "\n",
    "# Seu código para treinar o modelo e fazer previsões\n",
    "\n",
    "# Calcular a acurácia\n",
    "accuracy = accuracy_score(y_test, y_pred)\n",
    "print(\"Acurácia:\", accuracy)\n"
   ]
  },
  {
   "cell_type": "code",
   "execution_count": 79,
   "id": "95939dad",
   "metadata": {
    "collapsed": true
   },
   "outputs": [
    {
     "name": "stdout",
     "output_type": "stream",
     "text": [
      "Digite a frase a ser classificada: estou muito feliz\n"
     ]
    },
    {
     "name": "stderr",
     "output_type": "stream",
     "text": [
      "C:\\Users\\Ben-Hur\\anaconda3\\lib\\site-packages\\sklearn\\base.py:450: UserWarning: X does not have valid feature names, but GradientBoostingClassifier was fitted with feature names\n",
      "  warnings.warn(\n"
     ]
    },
    {
     "ename": "ValueError",
     "evalue": "could not convert string to float: 'estou muito feliz'",
     "output_type": "error",
     "traceback": [
      "\u001b[1;31m---------------------------------------------------------------------------\u001b[0m",
      "\u001b[1;31mValueError\u001b[0m                                Traceback (most recent call last)",
      "\u001b[1;32m~\\AppData\\Local\\Temp\\ipykernel_16124\\4076013038.py\u001b[0m in \u001b[0;36m<module>\u001b[1;34m\u001b[0m\n\u001b[0;32m     16\u001b[0m \u001b[1;33m\u001b[0m\u001b[0m\n\u001b[0;32m     17\u001b[0m \u001b[1;31m# Chama a função para classificar a frase e imprime a classe prevista\u001b[0m\u001b[1;33m\u001b[0m\u001b[1;33m\u001b[0m\u001b[0m\n\u001b[1;32m---> 18\u001b[1;33m \u001b[0mclasse_prevista\u001b[0m \u001b[1;33m=\u001b[0m \u001b[0mclassificar_frase\u001b[0m\u001b[1;33m(\u001b[0m\u001b[0mmodelo\u001b[0m\u001b[1;33m)\u001b[0m\u001b[1;33m\u001b[0m\u001b[1;33m\u001b[0m\u001b[0m\n\u001b[0m\u001b[0;32m     19\u001b[0m \u001b[0mprint\u001b[0m\u001b[1;33m(\u001b[0m\u001b[1;34m\"A frase foi classificada como:\"\u001b[0m\u001b[1;33m,\u001b[0m \u001b[0mclasse_prevista\u001b[0m\u001b[1;33m)\u001b[0m\u001b[1;33m\u001b[0m\u001b[1;33m\u001b[0m\u001b[0m\n",
      "\u001b[1;32m~\\AppData\\Local\\Temp\\ipykernel_16124\\4076013038.py\u001b[0m in \u001b[0;36mclassificar_frase\u001b[1;34m(modelo)\u001b[0m\n\u001b[0;32m     10\u001b[0m \u001b[1;33m\u001b[0m\u001b[0m\n\u001b[0;32m     11\u001b[0m     \u001b[1;31m# Realiza a classificação da frase\u001b[0m\u001b[1;33m\u001b[0m\u001b[1;33m\u001b[0m\u001b[0m\n\u001b[1;32m---> 12\u001b[1;33m     \u001b[0mclasse_predita\u001b[0m \u001b[1;33m=\u001b[0m \u001b[0mmodelo\u001b[0m\u001b[1;33m.\u001b[0m\u001b[0mpredict\u001b[0m\u001b[1;33m(\u001b[0m\u001b[0mfrase_lista\u001b[0m\u001b[1;33m)\u001b[0m\u001b[1;33m\u001b[0m\u001b[1;33m\u001b[0m\u001b[0m\n\u001b[0m\u001b[0;32m     13\u001b[0m \u001b[1;33m\u001b[0m\u001b[0m\n\u001b[0;32m     14\u001b[0m     \u001b[1;31m# Retorna a classe prevista\u001b[0m\u001b[1;33m\u001b[0m\u001b[1;33m\u001b[0m\u001b[0m\n",
      "\u001b[1;32m~\\anaconda3\\lib\\site-packages\\sklearn\\ensemble\\_gb.py\u001b[0m in \u001b[0;36mpredict\u001b[1;34m(self, X)\u001b[0m\n\u001b[0;32m   1357\u001b[0m             \u001b[0mThe\u001b[0m \u001b[0mpredicted\u001b[0m \u001b[0mvalues\u001b[0m\u001b[1;33m.\u001b[0m\u001b[1;33m\u001b[0m\u001b[1;33m\u001b[0m\u001b[0m\n\u001b[0;32m   1358\u001b[0m         \"\"\"\n\u001b[1;32m-> 1359\u001b[1;33m         \u001b[0mraw_predictions\u001b[0m \u001b[1;33m=\u001b[0m \u001b[0mself\u001b[0m\u001b[1;33m.\u001b[0m\u001b[0mdecision_function\u001b[0m\u001b[1;33m(\u001b[0m\u001b[0mX\u001b[0m\u001b[1;33m)\u001b[0m\u001b[1;33m\u001b[0m\u001b[1;33m\u001b[0m\u001b[0m\n\u001b[0m\u001b[0;32m   1360\u001b[0m         \u001b[0mencoded_labels\u001b[0m \u001b[1;33m=\u001b[0m \u001b[0mself\u001b[0m\u001b[1;33m.\u001b[0m\u001b[0mloss_\u001b[0m\u001b[1;33m.\u001b[0m\u001b[0m_raw_prediction_to_decision\u001b[0m\u001b[1;33m(\u001b[0m\u001b[0mraw_predictions\u001b[0m\u001b[1;33m)\u001b[0m\u001b[1;33m\u001b[0m\u001b[1;33m\u001b[0m\u001b[0m\n\u001b[0;32m   1361\u001b[0m         \u001b[1;32mreturn\u001b[0m \u001b[0mself\u001b[0m\u001b[1;33m.\u001b[0m\u001b[0mclasses_\u001b[0m\u001b[1;33m.\u001b[0m\u001b[0mtake\u001b[0m\u001b[1;33m(\u001b[0m\u001b[0mencoded_labels\u001b[0m\u001b[1;33m,\u001b[0m \u001b[0maxis\u001b[0m\u001b[1;33m=\u001b[0m\u001b[1;36m0\u001b[0m\u001b[1;33m)\u001b[0m\u001b[1;33m\u001b[0m\u001b[1;33m\u001b[0m\u001b[0m\n",
      "\u001b[1;32m~\\anaconda3\\lib\\site-packages\\sklearn\\ensemble\\_gb.py\u001b[0m in \u001b[0;36mdecision_function\u001b[1;34m(self, X)\u001b[0m\n\u001b[0;32m   1310\u001b[0m             \u001b[0marray\u001b[0m \u001b[0mof\u001b[0m \u001b[0mshape\u001b[0m \u001b[1;33m(\u001b[0m\u001b[0mn_samples\u001b[0m\u001b[1;33m,\u001b[0m\u001b[1;33m)\u001b[0m\u001b[1;33m.\u001b[0m\u001b[1;33m\u001b[0m\u001b[1;33m\u001b[0m\u001b[0m\n\u001b[0;32m   1311\u001b[0m         \"\"\"\n\u001b[1;32m-> 1312\u001b[1;33m         X = self._validate_data(\n\u001b[0m\u001b[0;32m   1313\u001b[0m             \u001b[0mX\u001b[0m\u001b[1;33m,\u001b[0m \u001b[0mdtype\u001b[0m\u001b[1;33m=\u001b[0m\u001b[0mDTYPE\u001b[0m\u001b[1;33m,\u001b[0m \u001b[0morder\u001b[0m\u001b[1;33m=\u001b[0m\u001b[1;34m\"C\"\u001b[0m\u001b[1;33m,\u001b[0m \u001b[0maccept_sparse\u001b[0m\u001b[1;33m=\u001b[0m\u001b[1;34m\"csr\"\u001b[0m\u001b[1;33m,\u001b[0m \u001b[0mreset\u001b[0m\u001b[1;33m=\u001b[0m\u001b[1;32mFalse\u001b[0m\u001b[1;33m\u001b[0m\u001b[1;33m\u001b[0m\u001b[0m\n\u001b[0;32m   1314\u001b[0m         )\n",
      "\u001b[1;32m~\\anaconda3\\lib\\site-packages\\sklearn\\base.py\u001b[0m in \u001b[0;36m_validate_data\u001b[1;34m(self, X, y, reset, validate_separately, **check_params)\u001b[0m\n\u001b[0;32m    564\u001b[0m             \u001b[1;32mraise\u001b[0m \u001b[0mValueError\u001b[0m\u001b[1;33m(\u001b[0m\u001b[1;34m\"Validation should be done on X, y or both.\"\u001b[0m\u001b[1;33m)\u001b[0m\u001b[1;33m\u001b[0m\u001b[1;33m\u001b[0m\u001b[0m\n\u001b[0;32m    565\u001b[0m         \u001b[1;32melif\u001b[0m \u001b[1;32mnot\u001b[0m \u001b[0mno_val_X\u001b[0m \u001b[1;32mand\u001b[0m \u001b[0mno_val_y\u001b[0m\u001b[1;33m:\u001b[0m\u001b[1;33m\u001b[0m\u001b[1;33m\u001b[0m\u001b[0m\n\u001b[1;32m--> 566\u001b[1;33m             \u001b[0mX\u001b[0m \u001b[1;33m=\u001b[0m \u001b[0mcheck_array\u001b[0m\u001b[1;33m(\u001b[0m\u001b[0mX\u001b[0m\u001b[1;33m,\u001b[0m \u001b[1;33m**\u001b[0m\u001b[0mcheck_params\u001b[0m\u001b[1;33m)\u001b[0m\u001b[1;33m\u001b[0m\u001b[1;33m\u001b[0m\u001b[0m\n\u001b[0m\u001b[0;32m    567\u001b[0m             \u001b[0mout\u001b[0m \u001b[1;33m=\u001b[0m \u001b[0mX\u001b[0m\u001b[1;33m\u001b[0m\u001b[1;33m\u001b[0m\u001b[0m\n\u001b[0;32m    568\u001b[0m         \u001b[1;32melif\u001b[0m \u001b[0mno_val_X\u001b[0m \u001b[1;32mand\u001b[0m \u001b[1;32mnot\u001b[0m \u001b[0mno_val_y\u001b[0m\u001b[1;33m:\u001b[0m\u001b[1;33m\u001b[0m\u001b[1;33m\u001b[0m\u001b[0m\n",
      "\u001b[1;32m~\\anaconda3\\lib\\site-packages\\sklearn\\utils\\validation.py\u001b[0m in \u001b[0;36mcheck_array\u001b[1;34m(array, accept_sparse, accept_large_sparse, dtype, order, copy, force_all_finite, ensure_2d, allow_nd, ensure_min_samples, ensure_min_features, estimator)\u001b[0m\n\u001b[0;32m    744\u001b[0m                     \u001b[0marray\u001b[0m \u001b[1;33m=\u001b[0m \u001b[0marray\u001b[0m\u001b[1;33m.\u001b[0m\u001b[0mastype\u001b[0m\u001b[1;33m(\u001b[0m\u001b[0mdtype\u001b[0m\u001b[1;33m,\u001b[0m \u001b[0mcasting\u001b[0m\u001b[1;33m=\u001b[0m\u001b[1;34m\"unsafe\"\u001b[0m\u001b[1;33m,\u001b[0m \u001b[0mcopy\u001b[0m\u001b[1;33m=\u001b[0m\u001b[1;32mFalse\u001b[0m\u001b[1;33m)\u001b[0m\u001b[1;33m\u001b[0m\u001b[1;33m\u001b[0m\u001b[0m\n\u001b[0;32m    745\u001b[0m                 \u001b[1;32melse\u001b[0m\u001b[1;33m:\u001b[0m\u001b[1;33m\u001b[0m\u001b[1;33m\u001b[0m\u001b[0m\n\u001b[1;32m--> 746\u001b[1;33m                     \u001b[0marray\u001b[0m \u001b[1;33m=\u001b[0m \u001b[0mnp\u001b[0m\u001b[1;33m.\u001b[0m\u001b[0masarray\u001b[0m\u001b[1;33m(\u001b[0m\u001b[0marray\u001b[0m\u001b[1;33m,\u001b[0m \u001b[0morder\u001b[0m\u001b[1;33m=\u001b[0m\u001b[0morder\u001b[0m\u001b[1;33m,\u001b[0m \u001b[0mdtype\u001b[0m\u001b[1;33m=\u001b[0m\u001b[0mdtype\u001b[0m\u001b[1;33m)\u001b[0m\u001b[1;33m\u001b[0m\u001b[1;33m\u001b[0m\u001b[0m\n\u001b[0m\u001b[0;32m    747\u001b[0m             \u001b[1;32mexcept\u001b[0m \u001b[0mComplexWarning\u001b[0m \u001b[1;32mas\u001b[0m \u001b[0mcomplex_warning\u001b[0m\u001b[1;33m:\u001b[0m\u001b[1;33m\u001b[0m\u001b[1;33m\u001b[0m\u001b[0m\n\u001b[0;32m    748\u001b[0m                 raise ValueError(\n",
      "\u001b[1;31mValueError\u001b[0m: could not convert string to float: 'estou muito feliz'"
     ]
    }
   ],
   "source": [
    "# Supondo que 'modelo' seja o seu modelo treinado\n",
    "\n",
    "# Função para receber uma frase do usuário e classificá-la\n",
    "def classificar_frase(modelo):\n",
    "    # Recebe a frase do usuário\n",
    "    frase = input(\"Digite a frase a ser classificada: \")\n",
    "    \n",
    "    # Transforma a frase em uma lista, pois o modelo espera uma lista de frases\n",
    "    frase_lista = [frase]\n",
    "    \n",
    "    # Realiza a classificação da frase\n",
    "    classe_predita = modelo.predict(frase_lista)\n",
    "    \n",
    "    # Retorna a classe prevista\n",
    "    return classe_predita[0]\n",
    "\n",
    "# Chama a função para classificar a frase e imprime a classe prevista\n",
    "classe_prevista = classificar_frase(modelo)\n",
    "print(\"A frase foi classificada como:\", classe_prevista)\n"
   ]
  },
  {
   "cell_type": "code",
   "execution_count": 97,
   "id": "a6398af1",
   "metadata": {},
   "outputs": [
    {
     "name": "stdout",
     "output_type": "stream",
     "text": [
      "Digite a frase a ser classificada: estou com raiva\n",
      "A frase foi classificada como: ['Raiva']\n"
     ]
    }
   ],
   "source": [
    "from sklearn.feature_extraction.text import CountVectorizer\n",
    "\n",
    "# Função para pré-processar a frase digitada pelo usuário\n",
    "def preprocessar_frase(frase, vetorizador):\n",
    "    # Transforma a frase em uma lista, pois o vetorizador espera uma lista de frases\n",
    "    frase_lista = [frase]\n",
    "    # Aplica o vetorizador para converter a frase em vetores Bag of Words\n",
    "    vetorizada = vetorizador.transform(frase_lista)\n",
    "    return vetorizada\n",
    "\n",
    "# Vetorização da frase\n",
    "frase = input(\"Digite a frase a ser classificada: \")  # Solicita ao usuário para digitar a frase\n",
    "frase_vetorizada = preprocessar_frase(frase, countvec)\n",
    "\n",
    "# Fazer a previsão\n",
    "classe_prevista = modelo.predict(frase_vetorizada)\n",
    "print(\"A frase foi classificada como:\", classe_prevista)\n"
   ]
  },
  {
   "cell_type": "code",
   "execution_count": 48,
   "id": "532da6bd",
   "metadata": {},
   "outputs": [],
   "source": [
    "countvec = CountVectorizer(ngram_range = (1,2))\n",
    "countvec_data = countvec.fit_transform(df_stop['Frase Limpa'])"
   ]
  },
  {
   "cell_type": "code",
   "execution_count": null,
   "id": "77b450f2",
   "metadata": {},
   "outputs": [],
   "source": []
  },
  {
   "cell_type": "code",
   "execution_count": null,
   "id": "5ab44966",
   "metadata": {},
   "outputs": [],
   "source": []
  }
 ],
 "metadata": {
  "kernelspec": {
   "display_name": "Python 3 (ipykernel)",
   "language": "python",
   "name": "python3"
  },
  "language_info": {
   "codemirror_mode": {
    "name": "ipython",
    "version": 3
   },
   "file_extension": ".py",
   "mimetype": "text/x-python",
   "name": "python",
   "nbconvert_exporter": "python",
   "pygments_lexer": "ipython3",
   "version": "3.9.13"
  }
 },
 "nbformat": 4,
 "nbformat_minor": 5
}
